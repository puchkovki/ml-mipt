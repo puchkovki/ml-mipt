{
  "nbformat": 4,
  "nbformat_minor": 0,
  "metadata": {
    "anaconda-cloud": {},
    "kernelspec": {
      "display_name": "Python 3",
      "language": "python",
      "name": "python3"
    },
    "language_info": {
      "codemirror_mode": {
        "name": "ipython",
        "version": 3
      },
      "file_extension": ".py",
      "mimetype": "text/x-python",
      "name": "python",
      "nbconvert_exporter": "python",
      "pygments_lexer": "ipython3",
      "version": "3.7.7"
    },
    "colab": {
      "name": "week0_06_ensembles.ipynb",
      "provenance": []
    }
  },
  "cells": [
    {
      "cell_type": "markdown",
      "metadata": {
        "id": "dFBOjENaXEi3"
      },
      "source": [
        "# Ensembles\n",
        "<h3> План семинара </h3>\n",
        "\n",
        "* **Bagging** \n",
        " - Bootstrap\n",
        " - Как построить доверительный интревал с помощью bootstrap\n",
        " - Описание композиции Bagging\n",
        " - Bagging в применении в DT\n",
        "\n",
        "* **Bias-vairance trade-off**\n",
        "  - Разложение ошибки на Bias и Variance\n",
        "  - bias\\variance для bagging и boosting\n",
        "    \n",
        "* **Random Forest** \n",
        " - Алгоритм построения случайного леса\n",
        " - Применение RandomForest на реальной задаче (предсказание оттока клиентов)\n",
        " - Out-of-bag error\n",
        " \n",
        "* **Основные выводы** "
      ]
    },
    {
      "cell_type": "code",
      "metadata": {
        "id": "aD1dF3mEXEjH"
      },
      "source": [
        "from IPython.display import Image\n",
        "\n",
        "import warnings\n",
        "warnings.simplefilter(\"ignore\")\n",
        "\n",
        "import numpy as np\n",
        "import pandas as pd\n",
        "from matplotlib import pyplot as plt\n",
        "plt.style.use('ggplot')\n",
        "plt.rcParams['figure.figsize'] = 10, 6\n",
        "import seaborn as sns\n",
        "%matplotlib inline\n",
        "\n",
        "from sklearn.datasets import load_digits as load\n",
        "from sklearn.model_selection import cross_validate\n",
        "from sklearn.ensemble import BaggingClassifier\n",
        "from sklearn.neighbors import KNeighborsClassifier\n",
        "from sklearn.ensemble import RandomForestRegressor, RandomForestClassifier, BaggingRegressor\n",
        "from sklearn.tree import DecisionTreeRegressor, DecisionTreeClassifier\n",
        "\n",
        "import pandas as pd\n",
        "from sklearn.model_selection import cross_val_score, StratifiedKFold, GridSearchCV\n",
        "from sklearn.metrics import accuracy_score"
      ],
      "execution_count": 4,
      "outputs": []
    },
    {
      "cell_type": "markdown",
      "metadata": {
        "id": "6_FMcGpPXEjj"
      },
      "source": [
        "----------\n",
        "<h1 align=\"center\">Bagging</h1> \n",
        "\n",
        "** Вопросы для самоконтроля**\n",
        "* Зачем нужно строить композиции над алгоритмами?\n",
        "* Что такое bootstrap-выборка?\n",
        "* Что такие RSM, Pasting?\n",
        "* Какие бывают варианты построения композиций N базовых алгоритмов классификации?\n",
        "* Что такое Bagging?\n",
        "* Почему работает Bagging?"
      ]
    },
    {
      "cell_type": "markdown",
      "metadata": {
        "id": "yaAzToF9XEjn"
      },
      "source": [
        "### Bootstrap"
      ]
    },
    {
      "cell_type": "markdown",
      "metadata": {
        "id": "Nm8xUPWQXEjr"
      },
      "source": [
        "<img src='https://github.com/girafe-ai/ml-mipt/blob/basic_f20/week0_06_trees_and_ensembles/img/bootstrap.png?raw=1'>"
      ]
    },
    {
      "cell_type": "markdown",
      "metadata": {
        "id": "69WUBGsWXEju"
      },
      "source": [
        "** Важно! **\n",
        "    - Бутстрепная выборка имеет такой же размер, что и исходная\n",
        "    - Генерация с повторениями"
      ]
    },
    {
      "cell_type": "markdown",
      "metadata": {
        "id": "9ta9FQpQXEjx"
      },
      "source": [
        "### Bagging"
      ]
    },
    {
      "cell_type": "markdown",
      "metadata": {
        "id": "hJd51Ts6XEj3"
      },
      "source": [
        "## $$a_{Bagging}(x) = \\frac{1}{M}\\sum_{i=1}^M a_i(x)$$\n",
        "\n",
        "$a_i(x)$ - обучен на бутстреп-выборке $X^i$"
      ]
    },
    {
      "cell_type": "markdown",
      "metadata": {
        "id": "8QdCX4EiXEj5"
      },
      "source": [
        "<img src='https://github.com/girafe-ai/ml-mipt/blob/basic_f20/week0_06_trees_and_ensembles/img/bagging.png?raw=1'>"
      ]
    },
    {
      "cell_type": "code",
      "metadata": {
        "id": "aILzpgz-XEj8"
      },
      "source": [
        "iris = load()\n",
        "X = iris.data\n",
        "y = iris.target\n",
        "\n",
        "f = X.shape[1]\n",
        "\n",
        "rnd_d3 = DecisionTreeClassifier(max_features=int(f ** 0.5)) # Решающее дерево с рандомизацией в сплитах\n",
        "d3 = DecisionTreeClassifier() # Обычное решающее дерево"
      ],
      "execution_count": 5,
      "outputs": []
    },
    {
      "cell_type": "markdown",
      "metadata": {
        "id": "PPSGGJXpXEkT"
      },
      "source": [
        "Качество классификации одним решающим деревом:"
      ]
    },
    {
      "cell_type": "code",
      "metadata": {
        "id": "jstGLyUvXEkX",
        "outputId": "81c85ee4-249f-47e7-e9ad-c80362e78fea",
        "colab": {
          "base_uri": "https://localhost:8080/",
          "height": 34
        }
      },
      "source": [
        "print(\"Decision tree:\", cross_val_score(d3, X, y).mean())"
      ],
      "execution_count": 6,
      "outputs": [
        {
          "output_type": "stream",
          "text": [
            "Decision tree: 0.7885654596100278\n"
          ],
          "name": "stdout"
        }
      ]
    },
    {
      "cell_type": "markdown",
      "metadata": {
        "id": "WnqxZMCLXEkw"
      },
      "source": [
        "Качество бэггинга над решающими деревьями:"
      ]
    },
    {
      "cell_type": "code",
      "metadata": {
        "id": "4DSoS0kQXEkz",
        "outputId": "042a5826-b695-439c-c4b0-8c2502325496",
        "colab": {
          "base_uri": "https://localhost:8080/",
          "height": 34
        }
      },
      "source": [
        "print(\"Bagging:\", cross_val_score(BaggingClassifier(d3), X, y).mean())"
      ],
      "execution_count": 7,
      "outputs": [
        {
          "output_type": "stream",
          "text": [
            "Bagging: 0.8859346951408232\n"
          ],
          "name": "stdout"
        }
      ]
    },
    {
      "cell_type": "markdown",
      "metadata": {
        "id": "UZa3rad8XElI"
      },
      "source": [
        "- Какой недостаток есть у деревьев?\n",
        "- Как bagging борется с этим недостатком?"
      ]
    },
    {
      "cell_type": "markdown",
      "metadata": {
        "id": "-967tHrxXElK"
      },
      "source": [
        "- Как можно улучшить качество? При построении каждого узла отбирать случайные max_features признаков и искать информативное разбиение только по одному из них."
      ]
    },
    {
      "cell_type": "code",
      "metadata": {
        "id": "E_6gjzpdXElN",
        "outputId": "9488013a-4b85-4c82-ae4a-d71f2f661483",
        "colab": {
          "base_uri": "https://localhost:8080/",
          "height": 34
        }
      },
      "source": [
        "print(\"Randomized Bagging:\", cross_val_score(BaggingClassifier(rnd_d3), X, y).mean())"
      ],
      "execution_count": 8,
      "outputs": [
        {
          "output_type": "stream",
          "text": [
            "Randomized Bagging: 0.8981832250077376\n"
          ],
          "name": "stdout"
        }
      ]
    },
    {
      "cell_type": "markdown",
      "metadata": {
        "id": "Jc75CG_rXEld"
      },
      "source": [
        "<h1 align=\"center\">Bias-Variance Tradeoff</h1> "
      ]
    },
    {
      "cell_type": "markdown",
      "metadata": {
        "id": "7_ZoQCUQXElh"
      },
      "source": [
        "###  Разложение ошибки на Bias и Variance\n",
        "\n",
        "#### Какая природа бывает у ошибок\n",
        "\n",
        "<img src='https://github.com/girafe-ai/ml-mipt/blob/basic_f20/week0_06_trees_and_ensembles/img/bv_darts.png?raw=1' width=400>\n",
        "\n",
        "#### Как это отражается на модели\n",
        "\n",
        "<img src='https://github.com/girafe-ai/ml-mipt/blob/basic_f20/week0_06_trees_and_ensembles/img/bv_model_complex.png?raw=1'>\n"
      ]
    },
    {
      "cell_type": "markdown",
      "metadata": {
        "id": "1n7VI-DRXEll"
      },
      "source": [
        "### Bias-Variance tradeoff (напоминание)"
      ]
    },
    {
      "cell_type": "markdown",
      "metadata": {
        "id": "XOd94yZhXEls"
      },
      "source": [
        "$$y = f(x) + \\varepsilon$$"
      ]
    },
    {
      "cell_type": "markdown",
      "metadata": {
        "id": "ywYEaAjAXElu"
      },
      "source": [
        "$$\\varepsilon \\sim N(0, \\sigma^2)$$"
      ]
    },
    {
      "cell_type": "markdown",
      "metadata": {
        "id": "SCs5KXHNXElx"
      },
      "source": [
        "$$y \\sim N(f(x), \\sigma^2)$$"
      ]
    },
    {
      "cell_type": "markdown",
      "metadata": {
        "id": "f3m--YdLXElz"
      },
      "source": [
        "<img src='https://github.com/girafe-ai/ml-mipt/blob/basic_f20/week0_06_trees_and_ensembles/img/bv_1.png?raw=1'>\n",
        "<img src='https://github.com/girafe-ai/ml-mipt/blob/basic_f20/week0_06_trees_and_ensembles/img/bv_2.png?raw=1'>\n",
        "<img src='https://github.com/girafe-ai/ml-mipt/blob/basic_f20/week0_06_trees_and_ensembles/img/bv_3.png?raw=1'>\n",
        "<img src='https://github.com/girafe-ai/ml-mipt/blob/basic_f20/week0_06_trees_and_ensembles/img/bv_4.png?raw=1'>\n",
        "<img src='https://github.com/girafe-ai/ml-mipt/blob/basic_f20/week0_06_trees_and_ensembles/img/bv_5.png?raw=1'>"
      ]
    },
    {
      "cell_type": "markdown",
      "metadata": {
        "id": "gjWpWKdsXEl2"
      },
      "source": [
        "### Bias\\variance для Bagging"
      ]
    },
    {
      "cell_type": "markdown",
      "metadata": {
        "id": "vnuUYmm8XEl6"
      },
      "source": [
        "Рассмотрим задачу регрессии с базовыми алгоритмами $b_1(x), .. ,b_n(x)$. Предположим, что существует истинная функция ответа для всех объектов $y(x)$, а также задано распределение на объектах $p(x)$. В этом случае мы можем записать ошибку каждой функции регрессии:\n",
        "\n",
        "$$\\varepsilon_i(x) = b_i(x) - y(x), i=1,..,n$$"
      ]
    },
    {
      "cell_type": "markdown",
      "metadata": {
        "id": "4KolXyZfXEl8"
      },
      "source": [
        "Средняя ошибка построенных функций регрессии имеет вид:\n",
        "    $$E_1 = \\dfrac{1}{n} E_x \\varepsilon_i^2(x)$$"
      ]
    },
    {
      "cell_type": "markdown",
      "metadata": {
        "id": "h2Mkr7GWXEmB"
      },
      "source": [
        "Предположим, что ошибки несмещены и некоррелированы:\n",
        "    $$E_x \\varepsilon_i(x) = 0$$\n",
        "    $$E_x \\varepsilon_i(x) \\varepsilon_j(x) = 0, i \\neq j$$"
      ]
    },
    {
      "cell_type": "markdown",
      "metadata": {
        "id": "QR_dAxZgXEmE"
      },
      "source": [
        "Построим теперь новую функцию регрессии, которая будет усреднять ответы построенных нами функций:\n",
        "    $$a(x) = \\dfrac{1}{n} \\sum_{i=1}^n b_i(x)$$"
      ]
    },
    {
      "cell_type": "markdown",
      "metadata": {
        "id": "UbsfPks0XEmH"
      },
      "source": [
        "Найдем ее среднеквадратичную ошибку:\n",
        "<img src=\"https://github.com/girafe-ai/ml-mipt/blob/basic_f20/week0_06_trees_and_ensembles/img/bv_6.png?raw=1\">"
      ]
    },
    {
      "cell_type": "markdown",
      "metadata": {
        "id": "CHIyiSF5XEmJ"
      },
      "source": [
        "### Random Forest"
      ]
    },
    {
      "cell_type": "markdown",
      "metadata": {
        "id": "Hj1GId4UXEmN"
      },
      "source": [
        "<img src='https://github.com/girafe-ai/ml-mipt/blob/basic_f20/week0_06_trees_and_ensembles/img/forest.jpeg?raw=1' width=700>"
      ]
    },
    {
      "cell_type": "markdown",
      "metadata": {
        "id": "OuC0Wep3XEmQ"
      },
      "source": [
        "##### Алгоритм построения случайного леса из $N$ деревьев"
      ]
    },
    {
      "cell_type": "markdown",
      "metadata": {
        "id": "XVfEu4MzXEmT"
      },
      "source": [
        "Для каждого $n = 1..N$:\n",
        "\n",
        "Сгенерировать выборку $X_n$ с помощью бутстрэпа;\n",
        "Построить решающее дерево $b_n$ по выборке $X_n$:\n",
        "* по заданному критерию мы выбираем лучший признак, делаем разбиение в дереве по нему и так до исчерпания выборки\n",
        "* дерево строится, пока в каждом листе не более $n_{min}$ объектов или пока не достигнем определенной высоты дерева\n",
        "* при каждом разбиении сначала выбирается $m$ случайных признаков из $n$ исходных, и оптимальное разделение выборки ищется только среди них."
      ]
    },
    {
      "cell_type": "markdown",
      "metadata": {
        "id": "xVG3i4b8XEmX"
      },
      "source": [
        "Итоговый классификатор:\n",
        "    $$ a(x) = \\dfrac{1}{N} \\sum_{i=1}^{N} b_i(x)$$"
      ]
    },
    {
      "cell_type": "markdown",
      "metadata": {
        "id": "B5dnRXh1XEmZ"
      },
      "source": [
        "$m$ советуют выбирать равным:\n",
        "- $\\sqrt{n}$ для классификации\n",
        "- $\\dfrac{n}{3}$ для регрессии"
      ]
    },
    {
      "cell_type": "markdown",
      "metadata": {
        "id": "YlJhxGiqXEmd"
      },
      "source": [
        "### Random Forest из sklearn"
      ]
    },
    {
      "cell_type": "markdown",
      "metadata": {
        "id": "APSVzx9cXEmg"
      },
      "source": [
        "Полный список параметров случайного леса для задачи регрессии:"
      ]
    },
    {
      "cell_type": "code",
      "metadata": {
        "id": "Gc1X33PEXEmj",
        "outputId": "d04a222f-5608-416f-ab18-0f3eb8847be9",
        "colab": {
          "base_uri": "https://localhost:8080/",
          "height": 103
        }
      },
      "source": [
        "\"\"\"\n",
        "class sklearn.ensemble.RandomForestRegressor(\n",
        "    n_estimators — число деревьев в \"лесу\" (по дефолту – 10)\n",
        "    criterion — функция, которая измеряет качество разбиения ветки дерева (по дефолту — \"mse\" , так же можно выбрать \"mae\")\n",
        "    max_features — число признаков, по которым ищется разбиение. Вы можете указать конкретное число или процент признаков, либо выбрать из доступных значений: \"auto\" (все признаки), \"sqrt\", \"log2\". По дефолту стоит \"auto\".\n",
        "    max_depth — максимальная глубина дерева  (по дефолту глубина не ограничена)\n",
        "    min_samples_split — минимальное количество объектов, необходимое для разделения внутреннего узла. Можно задать числом или процентом от общего числа объектов (по дефолту — 2)\n",
        "    min_samples_leaf — минимальное число объектов в листе. Можно задать числом или процентом от общего числа объектов (по дефолту — 1)\n",
        "    min_weight_fraction_leaf — минимальная взвешенная доля от общей суммы весов (всех входных объектов) должна быть в листе (по дефолту имеют одинаковый вес)\n",
        "    max_leaf_nodes — максимальное количество листьев (по дефолту нет ограничения)\n",
        "    min_impurity_split — порог для остановки наращивания дерева (по дефолту 1е-7)\n",
        "    bootstrap — применять ли бустрэп для построения дерева (по дефолту True)\n",
        "    oob_score — использовать ли out-of-bag объекты для оценки R^2 (по дефолту False)\n",
        "    n_jobs — количество ядер для построения модели и предсказаний (по дефолту 1, если поставить -1, то будут использоваться все ядра)\n",
        "    random_state — начальное значение для генерации случайных чисел (по дефолту его нет, если хотите воспроизводимые результаты, то нужно указать любое число типа int\n",
        "    verbose — вывод логов по построению деревьев (по дефолту 0)\n",
        "    warm_start — использует уже натренированую модель и добавляет деревьев в ансамбль (по дефолту False)\n",
        ")\n",
        "\"\"\""
      ],
      "execution_count": 9,
      "outputs": [
        {
          "output_type": "execute_result",
          "data": {
            "application/vnd.google.colaboratory.intrinsic+json": {
              "type": "string"
            },
            "text/plain": [
              "'\\nclass sklearn.ensemble.RandomForestRegressor(\\n    n_estimators — число деревьев в \"лесу\" (по дефолту – 10)\\n    criterion — функция, которая измеряет качество разбиения ветки дерева (по дефолту — \"mse\" , так же можно выбрать \"mae\")\\n    max_features — число признаков, по которым ищется разбиение. Вы можете указать конкретное число или процент признаков, либо выбрать из доступных значений: \"auto\" (все признаки), \"sqrt\", \"log2\". По дефолту стоит \"auto\".\\n    max_depth — максимальная глубина дерева  (по дефолту глубина не ограничена)\\n    min_samples_split — минимальное количество объектов, необходимое для разделения внутреннего узла. Можно задать числом или процентом от общего числа объектов (по дефолту — 2)\\n    min_samples_leaf — минимальное число объектов в листе. Можно задать числом или процентом от общего числа объектов (по дефолту — 1)\\n    min_weight_fraction_leaf — минимальная взвешенная доля от общей суммы весов (всех входных объектов) должна быть в листе (по дефолту имеют одинаковый вес)\\n    max_leaf_nodes — максимальное количество листьев (по дефолту нет ограничения)\\n    min_impurity_split — порог для остановки наращивания дерева (по дефолту 1е-7)\\n    bootstrap — применять ли бустрэп для построения дерева (по дефолту True)\\n    oob_score — использовать ли out-of-bag объекты для оценки R^2 (по дефолту False)\\n    n_jobs — количество ядер для построения модели и предсказаний (по дефолту 1, если поставить -1, то будут использоваться все ядра)\\n    random_state — начальное значение для генерации случайных чисел (по дефолту его нет, если хотите воспроизводимые результаты, то нужно указать любое число типа int\\n    verbose — вывод логов по построению деревьев (по дефолту 0)\\n    warm_start — использует уже натренированую модель и добавляет деревьев в ансамбль (по дефолту False)\\n)\\n'"
            ]
          },
          "metadata": {
            "tags": []
          },
          "execution_count": 9
        }
      ]
    },
    {
      "cell_type": "markdown",
      "metadata": {
        "id": "-C9HRv9uXEm0"
      },
      "source": [
        "Для задачи классификации все почти то же самое, мы приведем только те параметры, которыми RandomForestClassifier отличается от RandomForestRegressor:"
      ]
    },
    {
      "cell_type": "code",
      "metadata": {
        "id": "gMtE7iLKXEm2",
        "outputId": "7fc569a7-0fd4-4ff7-e391-742dc0d05a23",
        "colab": {
          "base_uri": "https://localhost:8080/",
          "height": 69
        }
      },
      "source": [
        "\"\"\"\n",
        "class sklearn.ensemble.RandomForestClassifier(\n",
        "    criterion — поскольку у нас теперь задача классификации, то по дефолту выбран критерий \"gini\" (можно выбрать \"entropy\")\n",
        "    class_weight — вес каждого класса (по дефолту все веса равны 1, но можно передать словарь с весами, либо явно указать \"balanced\", тогда веса классов будут равны их исходным частям в генеральной совокупности; также можно указать \"balanced_subsample\", тогда веса на каждой подвыборке будут меняться в зависимости от распределения классов на этой подвыборке.\n",
        ")\n",
        "\"\"\""
      ],
      "execution_count": 10,
      "outputs": [
        {
          "output_type": "execute_result",
          "data": {
            "application/vnd.google.colaboratory.intrinsic+json": {
              "type": "string"
            },
            "text/plain": [
              "'\\nclass sklearn.ensemble.RandomForestClassifier(\\n    criterion — поскольку у нас теперь задача классификации, то по дефолту выбран критерий \"gini\" (можно выбрать \"entropy\")\\n    class_weight — вес каждого класса (по дефолту все веса равны 1, но можно передать словарь с весами, либо явно указать \"balanced\", тогда веса классов будут равны их исходным частям в генеральной совокупности; также можно указать \"balanced_subsample\", тогда веса на каждой подвыборке будут меняться в зависимости от распределения классов на этой подвыборке.\\n)\\n'"
            ]
          },
          "metadata": {
            "tags": []
          },
          "execution_count": 10
        }
      ]
    },
    {
      "cell_type": "markdown",
      "metadata": {
        "id": "ircL_yrCXEnL"
      },
      "source": [
        "\n",
        "При построениии модели в первую очередь стоит обратить внимание на следующие параметры:"
      ]
    },
    {
      "cell_type": "markdown",
      "metadata": {
        "id": "D6gAm8K6XEnO"
      },
      "source": [
        "- n_estimators — число деревьев в \"лесу\"\n",
        "- criterion — критерий для разбиения выборки в вершине\n",
        "- max_features — число признаков, по которым ищется разбиение\n",
        "- min_samples_leaf — минимальное число объектов в листе\n",
        "- max_depth — максимальная глубина дерева\n"
      ]
    },
    {
      "cell_type": "markdown",
      "metadata": {
        "id": "tTcDyqmcXEnR"
      },
      "source": [
        "### Применение RandomForest на реальной задаче (предсказание оттока клиентов)"
      ]
    },
    {
      "cell_type": "markdown",
      "metadata": {
        "id": "k_iiaBqUXEnT"
      },
      "source": [
        "Данные можно взять тут: https://github.com/Yorko/mlcourse_open/blob/master/data/telecom_churn.csv"
      ]
    },
    {
      "cell_type": "code",
      "metadata": {
        "id": "0pZtOv09XEnW",
        "outputId": "c34d86dd-039f-48d7-fbad-cc763a87a8a2",
        "colab": {
          "base_uri": "https://localhost:8080/",
          "height": 204
        }
      },
      "source": [
        "!wget https://raw.githubusercontent.com/Yorko/mlcourse.ai/master/data/telecom_churn.csv"
      ],
      "execution_count": 11,
      "outputs": [
        {
          "output_type": "stream",
          "text": [
            "--2020-10-05 15:33:49--  https://raw.githubusercontent.com/Yorko/mlcourse.ai/master/data/telecom_churn.csv\n",
            "Resolving raw.githubusercontent.com (raw.githubusercontent.com)... 151.101.0.133, 151.101.64.133, 151.101.128.133, ...\n",
            "Connecting to raw.githubusercontent.com (raw.githubusercontent.com)|151.101.0.133|:443... connected.\n",
            "HTTP request sent, awaiting response... 200 OK\n",
            "Length: 279997 (273K) [text/plain]\n",
            "Saving to: ‘telecom_churn.csv’\n",
            "\n",
            "telecom_churn.csv   100%[===================>] 273.43K  --.-KB/s    in 0.06s   \n",
            "\n",
            "2020-10-05 15:33:49 (4.79 MB/s) - ‘telecom_churn.csv’ saved [279997/279997]\n",
            "\n"
          ],
          "name": "stdout"
        }
      ]
    },
    {
      "cell_type": "code",
      "metadata": {
        "id": "0JmY_IwLXEnn",
        "outputId": "5a966284-dac8-4072-b40f-bbd2444be054",
        "colab": {
          "base_uri": "https://localhost:8080/",
          "height": 34
        }
      },
      "source": [
        "# Загружаем данные\n",
        "df = pd.read_csv(\"telecom_churn.csv\")\n",
        "\n",
        "# Выбираем сначала только колонки с числовым типом данных\n",
        "cols = []\n",
        "for i in df.columns:\n",
        "    if (df[i].dtype == \"float64\") or (df[i].dtype == 'int64'):\n",
        "        cols.append(i)\n",
        "\n",
        "# Разделяем на признаки и объекты\n",
        "X, y = df[cols].copy(), np.asarray(df[\"Churn\"],dtype='int8')\n",
        "\n",
        "# Инициализируем страифицированную разбивку нашего датасета для валидации\n",
        "skf = StratifiedKFold(n_splits=5, shuffle=True, random_state=42)\n",
        "\n",
        "# Инициализируем наш классификатор с дефолтными параметрами\n",
        "rfc = RandomForestClassifier(random_state=42, n_jobs=-1, oob_score=True)\n",
        "\n",
        "# Обучаем на тренировочном датасете\n",
        "results = cross_val_score(rfc, X, y, cv=skf)\n",
        "\n",
        "# Оцениваем долю верных ответов на тестовом датасете\n",
        "print(\"CV accuracy score: {:.2f}%\".format(results.mean()*100))"
      ],
      "execution_count": 12,
      "outputs": [
        {
          "output_type": "stream",
          "text": [
            "CV accuracy score: 92.50%\n"
          ],
          "name": "stdout"
        }
      ]
    },
    {
      "cell_type": "markdown",
      "metadata": {
        "id": "zbJddcH-XEn2"
      },
      "source": [
        "Улучшим этот результат: посмотрим, как ведут себя кривые валидации при изменении основных параметров"
      ]
    },
    {
      "cell_type": "code",
      "metadata": {
        "id": "MCNEYzSVXEn5",
        "outputId": "15905999-8074-43f7-d6b4-895689f0e2f6",
        "colab": {
          "base_uri": "https://localhost:8080/",
          "height": 34
        }
      },
      "source": [
        "# Инициализируем валидацию\n",
        "skf = StratifiedKFold(n_splits=5, shuffle=True, random_state=42)\n",
        "\n",
        "# Создаем списки для сохранения точности на тренировочном и тестовом датасете\n",
        "train_acc = []\n",
        "test_acc = []\n",
        "temp_train_acc = []\n",
        "temp_test_acc = []\n",
        "trees_grid = [5, 10, 15, 20, 30, 50, 75, 100]\n",
        "\n",
        "# Обучаем на тренировочном датасете\n",
        "for ntrees in trees_grid:\n",
        "    rfc = RandomForestClassifier(n_estimators=ntrees, random_state=42, n_jobs=-1, oob_score=True)\n",
        "    temp_train_acc = []\n",
        "    temp_test_acc = []\n",
        "    for train_index, test_index in skf.split(X, y):\n",
        "        X_train, X_test = X.iloc[train_index], X.iloc[test_index]\n",
        "        y_train, y_test = y[train_index], y[test_index]\n",
        "        rfc.fit(X_train, y_train)\n",
        "        temp_train_acc.append(rfc.score(X_train, y_train))\n",
        "        temp_test_acc.append(rfc.score(X_test, y_test))\n",
        "    train_acc.append(temp_train_acc)\n",
        "    test_acc.append(temp_test_acc)\n",
        "\n",
        "train_acc, test_acc = np.asarray(train_acc), np.asarray(test_acc)\n",
        "print(\"Best accuracy on CV is {:.2f}% with {} trees\".format(max(test_acc.mean(axis=1))*100, \n",
        "                                                        trees_grid[np.argmax(test_acc.mean(axis=1))]))"
      ],
      "execution_count": 13,
      "outputs": [
        {
          "output_type": "stream",
          "text": [
            "Best accuracy on CV is 92.50% with 100 trees\n"
          ],
          "name": "stdout"
        }
      ]
    },
    {
      "cell_type": "code",
      "metadata": {
        "id": "fHWAjAcwXEoP",
        "outputId": "862e1de7-0765-4a49-afcc-d0f38e120f87",
        "colab": {
          "base_uri": "https://localhost:8080/",
          "height": 303
        }
      },
      "source": [
        "import matplotlib.pyplot as plt\n",
        "plt.style.use('ggplot')\n",
        "%matplotlib inline\n",
        "\n",
        "fig, ax = plt.subplots(figsize=(8, 4))\n",
        "ax.plot(trees_grid, train_acc.mean(axis=1), alpha=0.5, color='blue', label='train')\n",
        "ax.plot(trees_grid, test_acc.mean(axis=1), alpha=0.5, color='red', label='cv')\n",
        "ax.fill_between(trees_grid, test_acc.mean(axis=1) - test_acc.std(axis=1), test_acc.mean(axis=1) + test_acc.std(axis=1), color='#888888', alpha=0.4)\n",
        "ax.fill_between(trees_grid, test_acc.mean(axis=1) - 2*test_acc.std(axis=1), test_acc.mean(axis=1) + 2*test_acc.std(axis=1), color='#888888', alpha=0.2)\n",
        "ax.legend(loc='best')\n",
        "ax.set_ylim([0.88,1.02])\n",
        "ax.set_ylabel(\"Accuracy\")\n",
        "ax.set_xlabel(\"N_estimators\")"
      ],
      "execution_count": 14,
      "outputs": [
        {
          "output_type": "execute_result",
          "data": {
            "text/plain": [
              "Text(0.5, 0, 'N_estimators')"
            ]
          },
          "metadata": {
            "tags": []
          },
          "execution_count": 14
        },
        {
          "output_type": "display_data",
          "data": {
            "image/png": "[encoded data removed]",
            "text/plain": [
              "<Figure size 576x288 with 1 Axes>"
            ]
          },
          "metadata": {
            "tags": [],
            "needs_background": "light"
          }
        }
      ]
    },
    {
      "cell_type": "markdown",
      "metadata": {
        "id": "s23QVm_zXEoi"
      },
      "source": [
        "Подбираем параметр max_depth:"
      ]
    },
    {
      "cell_type": "code",
      "metadata": {
        "id": "6tjA3Az6XEol",
        "outputId": "644fecef-f221-4f8b-c827-9807d4ce40c7",
        "colab": {
          "base_uri": "https://localhost:8080/",
          "height": 34
        }
      },
      "source": [
        "# Создаем списки для сохранения точности на тренировочном и тестовом датасете\n",
        "train_acc = []\n",
        "test_acc = []\n",
        "temp_train_acc = []\n",
        "temp_test_acc = []\n",
        "max_depth_grid = [3, 5, 7, 9, 11, 13, 15, 17, 20, 22, 24]\n",
        "\n",
        "# Обучаем на тренировочном датасете\n",
        "for max_depth in max_depth_grid:\n",
        "    rfc = RandomForestClassifier(n_estimators=100, random_state=42, n_jobs=-1, oob_score=True, max_depth=max_depth)\n",
        "    temp_train_acc = []\n",
        "    temp_test_acc = []\n",
        "    for train_index, test_index in skf.split(X, y):\n",
        "        X_train, X_test = X.iloc[train_index], X.iloc[test_index]\n",
        "        y_train, y_test = y[train_index], y[test_index]\n",
        "        rfc.fit(X_train, y_train)\n",
        "        temp_train_acc.append(rfc.score(X_train, y_train))\n",
        "        temp_test_acc.append(rfc.score(X_test, y_test))\n",
        "    train_acc.append(temp_train_acc)\n",
        "    test_acc.append(temp_test_acc)\n",
        "\n",
        "train_acc, test_acc = np.asarray(train_acc), np.asarray(test_acc)\n",
        "print(\"Best accuracy on CV is {:.2f}% with {} max_depth\".format(max(test_acc.mean(axis=1))*100, \n",
        "                                                        max_depth_grid[np.argmax(test_acc.mean(axis=1))]))"
      ],
      "execution_count": 15,
      "outputs": [
        {
          "output_type": "stream",
          "text": [
            "Best accuracy on CV is 92.44% with 24 max_depth\n"
          ],
          "name": "stdout"
        }
      ]
    },
    {
      "cell_type": "code",
      "metadata": {
        "id": "xZiHX53xXEoy",
        "outputId": "789c98cf-6627-4b3e-9356-af9ad3f0e425",
        "colab": {
          "base_uri": "https://localhost:8080/",
          "height": 303
        }
      },
      "source": [
        "fig, ax = plt.subplots(figsize=(8, 4))\n",
        "ax.plot(max_depth_grid, train_acc.mean(axis=1), alpha=0.5, color='blue', label='train')\n",
        "ax.plot(max_depth_grid, test_acc.mean(axis=1), alpha=0.5, color='red', label='cv')\n",
        "ax.fill_between(max_depth_grid, test_acc.mean(axis=1) - test_acc.std(axis=1), test_acc.mean(axis=1) + test_acc.std(axis=1), color='#888888', alpha=0.4)\n",
        "ax.fill_between(max_depth_grid, test_acc.mean(axis=1) - 2*test_acc.std(axis=1), test_acc.mean(axis=1) + 2*test_acc.std(axis=1), color='#888888', alpha=0.2)\n",
        "ax.legend(loc='best')\n",
        "ax.set_ylim([0.88,1.02])\n",
        "ax.set_ylabel(\"Accuracy\")\n",
        "ax.set_xlabel(\"Max_depth\")"
      ],
      "execution_count": 16,
      "outputs": [
        {
          "output_type": "execute_result",
          "data": {
            "text/plain": [
              "Text(0.5, 0, 'Max_depth')"
            ]
          },
          "metadata": {
            "tags": []
          },
          "execution_count": 16
        },
        {
          "output_type": "display_data",
          "data": {
            "image/png": "[encoded data removed]",
            "text/plain": [
              "<Figure size 576x288 with 1 Axes>"
            ]
          },
          "metadata": {
            "tags": [],
            "needs_background": "light"
          }
        }
      ]
    },
    {
      "cell_type": "markdown",
      "metadata": {
        "id": "x4s0w6Z5XEo-"
      },
      "source": [
        "Параметр max_depth хорошо справляется с регуляризацией модели, и мы уже не так сильно переобучаемся. "
      ]
    },
    {
      "cell_type": "markdown",
      "metadata": {
        "id": "zlkvReGeXEpB"
      },
      "source": [
        "Параметр min_samples_leaf также выполняет функцию регуляризатора."
      ]
    },
    {
      "cell_type": "code",
      "metadata": {
        "id": "_FObn961XEpE"
      },
      "source": [
        "# Создаем списки для сохранения точности на тренировочном и тестовом датасете\n",
        "train_acc = []\n",
        "test_acc = []\n",
        "temp_train_acc = []\n",
        "temp_test_acc = []\n",
        "min_samples_leaf_grid = [1, 3, 5, 7, 9, 11, 13, 15, 17, 20, 22, 24]\n",
        "\n",
        "# Обучаем на тренировочном датасете\n",
        "for min_samples_leaf in min_samples_leaf_grid:\n",
        "    rfc = RandomForestClassifier(n_estimators=100, random_state=42, n_jobs=-1, \n",
        "                                 oob_score=True, min_samples_leaf=min_samples_leaf)\n",
        "    temp_train_acc = []\n",
        "    temp_test_acc = []\n",
        "    for train_index, test_index in skf.split(X, y):\n",
        "        X_train, X_test = X.iloc[train_index], X.iloc[test_index]\n",
        "        y_train, y_test = y[train_index], y[test_index]\n",
        "        rfc.fit(X_train, y_train)\n",
        "        temp_train_acc.append(rfc.score(X_train, y_train))\n",
        "        temp_test_acc.append(rfc.score(X_test, y_test))\n",
        "    train_acc.append(temp_train_acc)\n",
        "    test_acc.append(temp_test_acc)\n",
        "\n",
        "train_acc, test_acc = np.asarray(train_acc), np.asarray(test_acc)\n",
        "print(\"Best accuracy on CV is {:.2f}% with {} min_samples_leaf\".format(max(test_acc.mean(axis=1))*100, \n",
        "                                                        min_samples_leaf_grid[np.argmax(test_acc.mean(axis=1))]))"
      ],
      "execution_count": null,
      "outputs": []
    },
    {
      "cell_type": "code",
      "metadata": {
        "id": "GPjNCVboXEpS"
      },
      "source": [
        "fig, ax = plt.subplots(figsize=(8, 4))\n",
        "ax.plot(min_samples_leaf_grid, train_acc.mean(axis=1), alpha=0.5, color='blue', label='train')\n",
        "ax.plot(min_samples_leaf_grid, test_acc.mean(axis=1), alpha=0.5, color='red', label='cv')\n",
        "ax.fill_between(min_samples_leaf_grid, test_acc.mean(axis=1) - test_acc.std(axis=1), test_acc.mean(axis=1) + test_acc.std(axis=1), color='#888888', alpha=0.4)\n",
        "ax.fill_between(min_samples_leaf_grid, test_acc.mean(axis=1) - 2*test_acc.std(axis=1), test_acc.mean(axis=1) + 2*test_acc.std(axis=1), color='#888888', alpha=0.2)\n",
        "ax.legend(loc='best')\n",
        "ax.set_ylim([0.88,1.02])\n",
        "ax.set_ylabel(\"Accuracy\")\n",
        "ax.set_xlabel(\"Min_samples_leaf\")"
      ],
      "execution_count": null,
      "outputs": []
    },
    {
      "cell_type": "markdown",
      "metadata": {
        "id": "hMPe-eDoXEpf"
      },
      "source": [
        "Рассмотрим такой параметр как max_features. Для задач классификации по умолчанию используется $\\sqrt{n}$, где $n$ — число признаков."
      ]
    },
    {
      "cell_type": "code",
      "metadata": {
        "id": "-D1HLZitXEpj",
        "outputId": "4871289e-bfd2-4288-e5f3-e2e91f9d2226"
      },
      "source": [
        "# Создаем списки для сохранения точности на тренировочном и тестовом датасете\n",
        "train_acc = []\n",
        "test_acc = []\n",
        "temp_train_acc = []\n",
        "temp_test_acc = []\n",
        "max_features_grid = [2, 4, 6, 8, 10, 12, 14, 16]\n",
        "\n",
        "# Обучаем на тренировочном датасете\n",
        "for max_features in max_features_grid:\n",
        "    rfc = RandomForestClassifier(n_estimators=100, random_state=42, n_jobs=-1, \n",
        "                                 oob_score=True, max_features=max_features)\n",
        "    temp_train_acc = []\n",
        "    temp_test_acc = []\n",
        "    for train_index, test_index in skf.split(X, y):\n",
        "        X_train, X_test = X.iloc[train_index], X.iloc[test_index]\n",
        "        y_train, y_test = y[train_index], y[test_index]\n",
        "        rfc.fit(X_train, y_train)\n",
        "        temp_train_acc.append(rfc.score(X_train, y_train))\n",
        "        temp_test_acc.append(rfc.score(X_test, y_test))\n",
        "    train_acc.append(temp_train_acc)\n",
        "    test_acc.append(temp_test_acc)\n",
        "\n",
        "train_acc, test_acc = np.asarray(train_acc), np.asarray(test_acc)\n",
        "print(\"Best accuracy on CV is {:.2f}% with {} max_features\".format(max(test_acc.mean(axis=1))*100, \n",
        "                                                        max_features_grid[np.argmax(test_acc.mean(axis=1))]))"
      ],
      "execution_count": null,
      "outputs": [
        {
          "output_type": "stream",
          "text": [
            "Best accuracy on CV is 92.59% with 12 max_features\n"
          ],
          "name": "stdout"
        }
      ]
    },
    {
      "cell_type": "code",
      "metadata": {
        "id": "KfdSoKJaXEp3",
        "outputId": "7d0a09dc-1ea3-4e90-f348-97c62f0f3eba"
      },
      "source": [
        "fig, ax = plt.subplots(figsize=(8, 4))\n",
        "ax.plot(max_features_grid, train_acc.mean(axis=1), alpha=0.5, color='blue', label='train')\n",
        "ax.plot(max_features_grid, test_acc.mean(axis=1), alpha=0.5, color='red', label='cv')\n",
        "ax.fill_between(max_features_grid, test_acc.mean(axis=1) - test_acc.std(axis=1), test_acc.mean(axis=1) + test_acc.std(axis=1), color='#888888', alpha=0.4)\n",
        "ax.fill_between(max_features_grid, test_acc.mean(axis=1) - 2*test_acc.std(axis=1), test_acc.mean(axis=1) + 2*test_acc.std(axis=1), color='#888888', alpha=0.2)\n",
        "ax.legend(loc='best')\n",
        "ax.set_ylim([0.88,1.02])\n",
        "ax.set_ylabel(\"Accuracy\")\n",
        "ax.set_xlabel(\"Max_features\")"
      ],
      "execution_count": null,
      "outputs": [
        {
          "output_type": "execute_result",
          "data": {
            "text/plain": [
              "Text(0.5,0,'Max_features')"
            ]
          },
          "metadata": {
            "tags": []
          },
          "execution_count": 25
        },
        {
          "output_type": "display_data",
          "data": {
            "image/png": "[encoded data removed]",
            "text/plain": [
              "<Figure size 576x288 with 1 Axes>"
            ]
          },
          "metadata": {
            "tags": []
          }
        }
      ]
    },
    {
      "cell_type": "markdown",
      "metadata": {
        "id": "Fy1PpEUDXEqR"
      },
      "source": [
        "В нашем случае оптимальное число признаков - 10."
      ]
    },
    {
      "cell_type": "markdown",
      "metadata": {
        "id": "XF1Til0PXEqT"
      },
      "source": [
        "Итак, итоговый перебор параметров будет выглядеть следующим образом:"
      ]
    },
    {
      "cell_type": "code",
      "metadata": {
        "id": "hgWaQyv3XEqW",
        "outputId": "7f8e605f-6a98-4d78-d8f3-936fb01f0079"
      },
      "source": [
        "# Сделаем инициализацию параметров, по которым хотим сделать полный перебор\n",
        "parameters = {'max_features': [4, 7, 10, 13], 'min_samples_leaf': [1, 3, 5, 7], 'max_depth': [5,10,15,20]}\n",
        "rfc = RandomForestClassifier(n_estimators=100, random_state=42, \n",
        "                             n_jobs=-1, oob_score=True)\n",
        "gcv = GridSearchCV(rfc, parameters, n_jobs=-1, cv=skf, verbose=1)\n",
        "gcv.fit(X, y)"
      ],
      "execution_count": null,
      "outputs": [
        {
          "output_type": "stream",
          "text": [
            "Fitting 5 folds for each of 64 candidates, totalling 320 fits\n"
          ],
          "name": "stdout"
        },
        {
          "output_type": "stream",
          "text": [
            "[Parallel(n_jobs=-1)]: Done  42 tasks      | elapsed:   10.0s\n",
            "[Parallel(n_jobs=-1)]: Done 192 tasks      | elapsed:  1.2min\n",
            "[Parallel(n_jobs=-1)]: Done 320 out of 320 | elapsed:  2.3min finished\n"
          ],
          "name": "stderr"
        },
        {
          "output_type": "execute_result",
          "data": {
            "text/plain": [
              "GridSearchCV(cv=StratifiedKFold(n_splits=5, random_state=42, shuffle=True),\n",
              "       error_score='raise',\n",
              "       estimator=RandomForestClassifier(bootstrap=True, class_weight=None, criterion='gini',\n",
              "            max_depth=None, max_features='auto', max_leaf_nodes=None,\n",
              "            min_impurity_decrease=0.0, min_impurity_split=None,\n",
              "            min_samples_leaf=1, min_samples_split=2,\n",
              "            min_weight_fraction_leaf=0.0, n_estimators=100, n_jobs=-1,\n",
              "            oob_score=True, random_state=42, verbose=0, warm_start=False),\n",
              "       fit_params=None, iid=True, n_jobs=-1,\n",
              "       param_grid={'min_samples_leaf': [1, 3, 5, 7], 'max_depth': [5, 10, 15, 20], 'max_features': [4, 7, 10, 13]},\n",
              "       pre_dispatch='2*n_jobs', refit=True, return_train_score='warn',\n",
              "       scoring=None, verbose=1)"
            ]
          },
          "metadata": {
            "tags": []
          },
          "execution_count": 26
        }
      ]
    },
    {
      "cell_type": "markdown",
      "metadata": {
        "id": "4jidS3y0XEqi"
      },
      "source": [
        "### Есть ли переобучение с увеличением числа деревьев?"
      ]
    },
    {
      "cell_type": "code",
      "metadata": {
        "id": "awCpnWxdXEqj"
      },
      "source": [
        "from sklearn.metrics import accuracy_score"
      ],
      "execution_count": null,
      "outputs": []
    },
    {
      "cell_type": "code",
      "metadata": {
        "id": "gSyN2PrRXEqv",
        "outputId": "73772bdb-d03e-499d-ec51-9de678dea311"
      },
      "source": [
        "%%time\n",
        "\n",
        "for n_estimators in [10, 40, 100, 200, 600, 1000]:\n",
        "    clf = BaggingClassifier(base_estimator=DecisionTreeClassifier(), n_estimators=n_estimators, n_jobs=4)\n",
        "    clf = clf.fit(X_train, y_train)\n",
        "    train_acc, test_acc = accuracy_score(clf.predict(X_train), y_train), accuracy_score(clf.predict(X_test), y_test)\n",
        "    print('n_estimators = %4s train_acc = %4s test_acc = %4s' %(n_estimators, train_acc, test_acc))"
      ],
      "execution_count": null,
      "outputs": [
        {
          "output_type": "stream",
          "text": [
            "n_estimators =   10 train_acc = 0.9876265466816648 test_acc = 0.9054054054054054\n",
            "n_estimators =   40 train_acc = 0.9992500937382827 test_acc = 0.9024024024024024\n",
            "n_estimators =  100 train_acc =  1.0 test_acc = 0.9084084084084084\n",
            "n_estimators =  200 train_acc =  1.0 test_acc = 0.9054054054054054\n",
            "n_estimators =  600 train_acc =  1.0 test_acc = 0.9069069069069069\n",
            "n_estimators = 1000 train_acc =  1.0 test_acc = 0.9069069069069069\n",
            "CPU times: user 2.45 s, sys: 890 ms, total: 3.34 s\n",
            "Wall time: 20.5 s\n"
          ],
          "name": "stdout"
        }
      ]
    },
    {
      "cell_type": "code",
      "metadata": {
        "id": "feQMXmbDXEq7",
        "outputId": "9065f3f6-3302-449b-f5a7-1d06a4ef8f24"
      },
      "source": [
        "%%time\n",
        "\n",
        "for n_estimators in [10, 40, 100, 200, 600, 1000]:\n",
        "    clf = BaggingClassifier(base_estimator=DecisionTreeClassifier(max_depth=7), n_estimators=n_estimators, n_jobs=4)\n",
        "    clf = clf.fit(X_train, y_train)\n",
        "    train_acc, test_acc = accuracy_score(clf.predict(X_train), y_train), accuracy_score(clf.predict(X_test), y_test)\n",
        "    print('n_estimators = %4s train_acc = %4s test_acc = %4s' %(n_estimators, train_acc, test_acc))"
      ],
      "execution_count": null,
      "outputs": [
        {
          "output_type": "stream",
          "text": [
            "n_estimators =   10 train_acc = 0.9497562804649419 test_acc = 0.9129129129129129\n",
            "n_estimators =   40 train_acc = 0.9505061867266592 test_acc = 0.9144144144144144\n",
            "n_estimators =  100 train_acc = 0.9508811398575178 test_acc = 0.9159159159159159\n",
            "n_estimators =  200 train_acc = 0.9497562804649419 test_acc = 0.9129129129129129\n",
            "n_estimators =  600 train_acc = 0.9505061867266592 test_acc = 0.9129129129129129\n",
            "n_estimators = 1000 train_acc = 0.9501312335958005 test_acc = 0.9129129129129129\n",
            "CPU times: user 2.2 s, sys: 850 ms, total: 3.05 s\n",
            "Wall time: 13.4 s\n"
          ],
          "name": "stdout"
        }
      ]
    },
    {
      "cell_type": "code",
      "metadata": {
        "id": "KaJpFtrEXErH",
        "outputId": "f1494c0e-7c05-45bd-873f-e7cf27756c3b"
      },
      "source": [
        "%%time\n",
        "\n",
        "for n_estimators in [10, 40, 100, 200, 600, 1000]:\n",
        "    clf = BaggingClassifier(base_estimator=DecisionTreeClassifier(max_depth=14), n_estimators=n_estimators, n_jobs=4)\n",
        "    clf = clf.fit(X_train, y_train)\n",
        "    train_acc, test_acc = accuracy_score(clf.predict(X_train), y_train), accuracy_score(clf.predict(X_test), y_test)\n",
        "    print('n_estimators = %4s train_acc = %4s test_acc = %4s' %(n_estimators, train_acc, test_acc))"
      ],
      "execution_count": null,
      "outputs": [
        {
          "output_type": "stream",
          "text": [
            "n_estimators =   10 train_acc = 0.9797525309336333 test_acc = 0.9069069069069069\n",
            "n_estimators =   40 train_acc = 0.9835020622422197 test_acc = 0.9054054054054054\n",
            "n_estimators =  100 train_acc = 0.9868766404199475 test_acc = 0.9099099099099099\n",
            "n_estimators =  200 train_acc = 0.9850018747656543 test_acc = 0.9069069069069069\n",
            "n_estimators =  600 train_acc = 0.9861267341582303 test_acc = 0.9069069069069069\n",
            "n_estimators = 1000 train_acc = 0.9857517810273716 test_acc = 0.9084084084084084\n",
            "CPU times: user 2.44 s, sys: 1.05 s, total: 3.49 s\n",
            "Wall time: 19.5 s\n"
          ],
          "name": "stdout"
        }
      ]
    },
    {
      "cell_type": "markdown",
      "metadata": {
        "id": "SDsxwO0oXErU"
      },
      "source": [
        "### Out-of-bag error"
      ]
    },
    {
      "cell_type": "markdown",
      "metadata": {
        "id": "C1crYRAdXErX"
      },
      "source": [
        "<img src='https://github.com/girafe-ai/ml-mipt/blob/basic_f20/week0_06_trees_and_ensembles/img/oob.png?raw=1' width=700>"
      ]
    },
    {
      "cell_type": "markdown",
      "metadata": {
        "id": "QGvkbKaBXErZ"
      },
      "source": [
        "**Задача** Покажите, что примерно 37% примеров остаются вне выборки бутстрэпа и не используются при построении k-го дерева."
      ]
    },
    {
      "cell_type": "markdown",
      "metadata": {
        "id": "I-kOq5m5XErb"
      },
      "source": [
        "**Решение** Пусть в выборке $l$ объектов. На каждом шаге все объекты попадают в подвыборку с возвращением равновероятно, т.е отдельный объект — с вероятностью $\\dfrac{1}{l}$. Вероятность того, что объект НЕ попадет в подвыборку (т.е. его не взяли $l$ раз): $(1-\\dfrac{1}{l})^l$\n",
        "\n",
        "\n",
        "$$\\lim_{l \\rightarrow +\\infty} (1-\\dfrac{1}{l})^l = \\dfrac{1}{e}$$\n",
        "\n",
        "Тогда вероятность попадания конкретного объекта в подвыборку $1 - \\dfrac{1}{e} \\approx 63\\%$."
      ]
    },
    {
      "cell_type": "markdown",
      "metadata": {
        "id": "lKLJm3lrXEre"
      },
      "source": [
        "Out-of-Bag оценка — это усредненная оценка базовых алгоритмов на тех ~37% данных, на которых они не обучались."
      ]
    },
    {
      "cell_type": "markdown",
      "metadata": {
        "id": "k8c5wWENXErh"
      },
      "source": [
        "### Отбор признаков с помощью случайного леса"
      ]
    },
    {
      "cell_type": "markdown",
      "metadata": {
        "id": "5JYvoAyRXErj"
      },
      "source": [
        "<img src='https://github.com/girafe-ai/ml-mipt/blob/basic_f20/week0_06_trees_and_ensembles/img/features.png?raw=1'>"
      ]
    },
    {
      "cell_type": "markdown",
      "metadata": {
        "id": "-0f2IGyaXErl"
      },
      "source": [
        "### Как вычисляется feature importance?\n",
        "\n",
        "Каждый узел дерева использует конкретную фичу для максимизации критерия информативности. Для каждой фичи можно посчитать взвешенное (по размеру выборки) суммарное (по всем вершинам) изменение критерия информативности. \n",
        "И с помощью полученных результатов отсортировать фичи по важности.\n",
        "Для леса, данные значения можно вначале усреднить по всем деревьям, а уже затем отсортировать. "
      ]
    },
    {
      "cell_type": "markdown",
      "metadata": {
        "id": "8QtLv7G5XEro"
      },
      "source": [
        "Также можно напрямую измерять влияние фичи на качество модели. Например случайно переставлять значения какой-то фичи в тестовой выборке и смотреть как сильно ухудшается качество."
      ]
    },
    {
      "cell_type": "markdown",
      "metadata": {
        "id": "-kcJphuqXErr"
      },
      "source": [
        "Данные можно взять здесь: https://github.com/Yorko/mlcourse_open/blob/master/data/hostel_factors.csv"
      ]
    },
    {
      "cell_type": "code",
      "metadata": {
        "id": "oA9P06fnXErt",
        "outputId": "3350746b-ce86-486b-9c16-5f172f49b951"
      },
      "source": [
        "!wget https://raw.githubusercontent.com/Yorko/mlcourse.ai/master/data/hostel_factors.csv"
      ],
      "execution_count": null,
      "outputs": [
        {
          "output_type": "stream",
          "text": [
            "--2020-03-15 19:45:46--  https://raw.githubusercontent.com/Yorko/mlcourse.ai/master/data/hostel_factors.csv\n",
            "Resolving raw.githubusercontent.com (raw.githubusercontent.com)... 151.101.112.133\n",
            "Connecting to raw.githubusercontent.com (raw.githubusercontent.com)|151.101.112.133|:443... connected.\n",
            "HTTP request sent, awaiting response... 200 OK\n",
            "Length: 2873 (2.8K) [text/plain]\n",
            "Saving to: ‘hostel_factors.csv’\n",
            "\n",
            "hostel_factors.csv  100%[===================>]   2.81K  --.-KB/s    in 0s      \n",
            "\n",
            "2020-03-15 19:45:46 (11.0 MB/s) - ‘hostel_factors.csv’ saved [2873/2873]\n",
            "\n"
          ],
          "name": "stdout"
        }
      ]
    },
    {
      "cell_type": "code",
      "metadata": {
        "id": "GMAKEt-GXEr6",
        "outputId": "9756a3b8-cd64-4dce-ecbf-cff2f7a2d470"
      },
      "source": [
        "from __future__ import division, print_function\n",
        "# отключим всякие предупреждения Anaconda\n",
        "import warnings\n",
        "warnings.filterwarnings('ignore')\n",
        "%pylab inline\n",
        "import seaborn as sns\n",
        "# russian headres\n",
        "from matplotlib import rc\n",
        "font = {'family': 'Verdana',\n",
        "        'weight': 'normal'}\n",
        "rc('font', **font)\n",
        "import pandas as pd\n",
        "import numpy as np\n",
        "from sklearn.ensemble.forest import RandomForestRegressor\n",
        "\n",
        "hostel_data = pd.read_csv(\"hostel_factors.csv\")\n",
        "features = {\"f1\":u\"Персонал\",\n",
        "\"f2\":u\"Бронирование хостела \",\n",
        "\"f3\":u\"Заезд в хостел и выезд из хостела\",\n",
        "\"f4\":u\"Состояние комнаты\",\n",
        "\"f5\":u\"Состояние общей кухни\",\n",
        "\"f6\":u\"Состояние общего пространства\",\n",
        "\"f7\":u\"Дополнительные услуги\",\n",
        "\"f8\":u\"Общие условия и удобства\",\n",
        "\"f9\":u\"Цена/качество\",\n",
        "\"f10\":u\"ССЦ\"}\n",
        "\n",
        "forest = RandomForestRegressor(n_estimators=1000, max_features=10,\n",
        "                                random_state=0)\n",
        "\n",
        "forest.fit(hostel_data.drop(['hostel', 'rating'], axis=1), \n",
        "           hostel_data['rating'])\n",
        "importances = forest.feature_importances_\n",
        "\n",
        "indices = np.argsort(importances)[::-1]\n",
        "# Plot the feature importancies of the forest\n",
        "num_to_plot = 10\n",
        "feature_indices = [ind+1 for ind in indices[:num_to_plot]]\n",
        "\n",
        "# Print the feature ranking\n",
        "print(\"Feature ranking:\")\n",
        "\n",
        "for f in range(num_to_plot):\n",
        "    print(\"%d. %s %f \" % (f + 1, \n",
        "            features[\"f\"+str(feature_indices[f])], \n",
        "            importances[indices[f]]))\n",
        "plt.figure(figsize=(15,5))\n",
        "plt.title(u\"Важность конструктов\")\n",
        "bars = plt.bar(range(num_to_plot), \n",
        "               importances[indices[:num_to_plot]],\n",
        "       color=([str(i/float(num_to_plot+1)) \n",
        "               for i in range(num_to_plot)]),\n",
        "               align=\"center\")\n",
        "ticks = plt.xticks(range(num_to_plot), \n",
        "                   feature_indices)\n",
        "plt.xlim([-1, num_to_plot])\n",
        "plt.legend(bars, [u''.join(features[\"f\"+str(i)]) \n",
        "                  for i in feature_indices])"
      ],
      "execution_count": null,
      "outputs": [
        {
          "output_type": "stream",
          "text": [
            "Populating the interactive namespace from numpy and matplotlib\n",
            "Feature ranking:\n",
            "1. Персонал 0.182757 \n",
            "2. Цена/качество 0.148373 \n",
            "3. Состояние общего пространства 0.128296 \n",
            "4. Дополнительные услуги 0.116604 \n",
            "5. ССЦ 0.106668 \n",
            "6. Общие условия и удобства 0.088589 \n",
            "7. Состояние общей кухни 0.074273 \n",
            "8. Заезд в хостел и выезд из хостела 0.061521 \n",
            "9. Бронирование хостела  0.053615 \n",
            "10. Состояние комнаты 0.039305 \n"
          ],
          "name": "stdout"
        },
        {
          "output_type": "execute_result",
          "data": {
            "text/plain": [
              "<matplotlib.legend.Legend at 0x7f201837d908>"
            ]
          },
          "metadata": {
            "tags": []
          },
          "execution_count": 33
        },
        {
          "output_type": "display_data",
          "data": {
            "image/png": "[encoded data removed]",
            "text/plain": [
              "<Figure size 1080x360 with 1 Axes>"
            ]
          },
          "metadata": {
            "tags": []
          }
        }
      ]
    },
    {
      "cell_type": "code",
      "metadata": {
        "id": "hJIw8vHXXEsN"
      },
      "source": [
        ""
      ],
      "execution_count": null,
      "outputs": []
    },
    {
      "cell_type": "code",
      "metadata": {
        "id": "UL-F5GChXEsh"
      },
      "source": [
        ""
      ],
      "execution_count": null,
      "outputs": []
    },
    {
      "cell_type": "markdown",
      "metadata": {
        "id": "pLG2bXDYXEsx"
      },
      "source": [
        "<h1 align=\"center\">Выводы</h1> "
      ]
    },
    {
      "cell_type": "markdown",
      "metadata": {
        "collapsed": true,
        "id": "9KxDxT_1XEsz"
      },
      "source": [
        "**Bagging**:\n",
        "    - Одна из лучших техник для построения алгоритмов ML\n",
        "    - Линейно уменьшает разброс и не уменьшает смещение (если не коррелированы ответы базовых алоритмов) \n",
        "    - Слабое переобучение\n",
        "    - НО переобучение ЕСТЬ -- от сложности одного алгоритма, лучше все же немного обрезать деревья\n",
        "\n",
        "** Random Forest **\n",
        "\n",
        "Плюсы:\n",
        "- имеет высокую точность предсказания, на большинстве задач будет лучше линейных алгоритмов; точность сравнима с точностью бустинга\n",
        "- практически не чувствителен к выбросам в данных из-за случайного сэмлирования\n",
        "- не чувствителен к масштабированию (и вообще к любым монотонным преобразованиям) значений признаков, связано с выбором случайных подпространств\n",
        "- не требует тщательной настройки параметров, хорошо работает «из коробки». С помощью «тюнинга» параметров можно достичь прироста от 0.5 до 3% точности в зависимости от задачи и данных\n",
        "- способен эффективно обрабатывать данные с большим числом признаков и классов\n",
        "- одинаково хорошо обрабатывет как непрерывные, так и дискретные признаки\n",
        "- редко переобучается, на практике добавление деревьев почти всегда только улучшает композицию, но на валидации, после достижения определенного количества деревьев, кривая обучения выходит на асимптоту\n",
        "- для случайного леса существуют методы оценивания значимости отдельных признаков в модели\n",
        "- хорошо работает с пропущенными данными; сохраняет хорошую точность, если большая часть данных пропущенна\n",
        "- предполагает возможность сбалансировать вес каждого класса на всей выборке, либо на подвыборке каждого дерева\n",
        "- вычисляет близость между парами объектов, которые могут использоваться при кластеризации, обнаружении выбросов или (путем масштабирования) дают интересные представления данных\n",
        "- возможности, описанные выше, могут быть расширены до неразмеченных данных, что приводит к возможности делать кластеризацию и визуализацию данных, обнаруживать выбросы\n",
        "- высокая параллелизуемость и масштабируемость.\n",
        "\n",
        "Минусы:\n",
        "- в отличие от одного дерева, результаты случайного леса сложнее интерпретировать\n",
        "- нет формальных выводов (p-values), доступных для оценки важности переменных\n",
        "- алгоритм работает хуже многих линейных методов, когда в выборке очень много разреженных признаков (тексты, Bag of words)\n",
        "- случайный лес не умеет экстраполировать, в отличие от той же линейной регрессии (но это можно считать и плюсом, так как не будет экстремальных значений в случае попадания выброса)\n",
        "- алгоритм склонен к переобучению на некоторых задачах, особенно на зашумленных данных\n",
        "- для данных, включающих категориальные переменные с различным количеством уровней, случайные леса предвзяты в пользу признаков с большим количеством уровней: когда у признака много уровней, дерево будет сильнее подстраиваться именно под эти признаки, так как на них можно получить более высокое значение оптимизируемого функционала (типа прироста информации)\n",
        "- если данные содержат группы коррелированных признаков, имеющих схожую значимость для меток, то предпочтение отдается небольшим группам перед большими\n",
        "- больший размер получающихся моделей. Требуется $O(NK)$ памяти для хранения модели, где $K$ — число деревьев."
      ]
    }
  ]
}