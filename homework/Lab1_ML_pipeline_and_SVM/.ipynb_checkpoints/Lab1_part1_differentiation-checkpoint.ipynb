{
 "cells": [
  {
   "cell_type": "markdown",
   "metadata": {},
   "source": [
    "*Credits: materials from this notebook belong to YSDA [Practical DL](https://github.com/yandexdataschool/Practical_DL) course. Special thanks for making them available online.*"
   ]
  },
  {
   "cell_type": "markdown",
   "metadata": {},
   "source": [
    "# Lab assignment №1, part 1\n",
    "\n",
    "This lab assignment consists of several parts. You are supposed to make some transformations, train some models, estimate the quality of the models and explain your results.\n",
    "\n",
    "Several comments:\n",
    "* Don't hesitate to ask questions, it's a good practice.\n",
    "* No private/public sharing, please. The copied assignments will be graded with 0 points.\n",
    "* Blocks of this lab will be graded separately."
   ]
  },
  {
   "cell_type": "markdown",
   "metadata": {},
   "source": [
    "## Part 1. Matrix differentiation"
   ]
  },
  {
   "cell_type": "markdown",
   "metadata": {},
   "source": [
    "Since it easy to google every task please please please try to undestand what's going on. The \"just answer\" thing will be not counted, make sure to present derivation of your solution. It is absolutely OK if you found an answer on web then just exercise in $\\LaTeX$ copying it into here."
   ]
  },
  {
   "cell_type": "markdown",
   "metadata": {},
   "source": [
    "Useful links: \n",
    "[1](http://www.machinelearning.ru/wiki/images/2/2a/Matrix-Gauss.pdf)\n",
    "[2](http://www.atmos.washington.edu/~dennis/MatrixCalculus.pdf)\n",
    "[3](http://cal.cs.illinois.edu/~johannes/research/matrix%20calculus.pdf)\n",
    "[4](http://research.microsoft.com/en-us/um/people/cmbishop/prml/index.htm)"
   ]
  },
  {
   "cell_type": "markdown",
   "metadata": {},
   "source": [
    "## ex. 1"
   ]
  },
  {
   "cell_type": "markdown",
   "metadata": {},
   "source": [
    "$$  \n",
    "y = x^Tx,  \\quad x \\in \\mathbb{R}^N \n",
    "$$"
   ]
  },
  {
   "cell_type": "markdown",
   "metadata": {},
   "source": [
    "$$\n",
    "\\frac{\\partial y}{\\partial x} = \\frac{\\partial [x^T\\cdot E \\cdot x]}{\\partial x} = (E + E^T) \\cdot x = 2x\n",
    "$$ "
   ]
  },
  {
   "cell_type": "markdown",
   "metadata": {},
   "source": [
    "## ex. 2"
   ]
  },
  {
   "cell_type": "markdown",
   "metadata": {},
   "source": [
    "$$ y = tr(AB) \\quad A,B \\in \\mathbb{R}^{N \\times N} $$ "
   ]
  },
  {
   "cell_type": "markdown",
   "metadata": {},
   "source": [
    "В ссылках выше указано само правило: $$\\frac{\\partial y}{\\partial A} = \\frac{\\partial tr(AB)}{\\partial A} = B^T $$\n",
    "\n",
    "Теперь распишем подробнее: $$ \\frac{\\partial}{\\partial{a_{i,j}}}tr \\left( A \\cdot B \\right) = \\frac{\\partial}{\\partial{a_{i,j}}} \\left( \\sum_{k=1}^{N} \\sum_{l=1}^{N} a_{k,l}b_{l,k} \\right) = b_{j, i}\\rightarrow $$\n",
    "$$ \\frac{dy}{dA} = B^{T} $$"
   ]
  },
  {
   "cell_type": "markdown",
   "metadata": {},
   "source": [
    "## ex. 3"
   ]
  },
  {
   "cell_type": "markdown",
   "metadata": {},
   "source": [
    "$$  \n",
    "y = x^TAc , \\quad A\\in \\mathbb{R}^{N \\times N}, x\\in \\mathbb{R}^{N}, c\\in \\mathbb{R}^{N} \n",
    "$$"
   ]
  },
  {
   "cell_type": "markdown",
   "metadata": {},
   "source": [
    "Данная \"богом\" выше информация из источников выше:\n",
    "$$ \\frac{dy}{dx} = (A\\cdot c)^T $$\n",
    "\n",
    "Проделаем руками: $$ \\frac{\\partial{y}}{\\partial{x_k}}=\\frac{\\partial}{\\partial{x_k}}\\left( \\sum_{i=1}^{N} \\sum_{j=1}^{N} x_{i}a_{i,j}c_{j} \\right) = \\sum_{j=1}^{N} a_{k,j}c_{j} \\rightarrow $$\n",
    "$$ \\frac{dy}{dx} = A \\cdot c $$"
   ]
  },
  {
   "cell_type": "markdown",
   "metadata": {},
   "source": [
    "Аналогично: $$ \\frac{dy}{dA} = x\\cdot c^T $$\n",
    "\n",
    "$$ \\frac{\\partial{y}}{\\partial{a_{i,j}}} = \\frac{\\partial}{\\partial{a_{i,j}}}\\left( \\sum_{i,j=1}^{N} a_{i,j}x_{i}c_{j} \\right) = x_{i}c_{j} \\rightarrow $$ \n",
    "$$ \\frac{dy}{dA} = x \\cdot c^{T} $$ "
   ]
  },
  {
   "cell_type": "markdown",
   "metadata": {},
   "source": [
    "## ex. 4"
   ]
  },
  {
   "cell_type": "markdown",
   "metadata": {},
   "source": [
    "Classic matrix factorization example. Given matrix $X$ you need to find $A$, $S$ to approximate $X$. This can be done by simple gradient descent iteratively alternating $A$ and $S$ updates.\n",
    "$$\n",
    "J = || X - AS ||_F^2  , \\quad A\\in \\mathbb{R}^{N \\times R} , \\quad S\\in \\mathbb{R}^{R \\times M}\n",
    "$$\n",
    "$$\n",
    "\\frac{dJ}{dS} = ? \n",
    "$$\n",
    "\n",
    "You may use one of the following approaches:"
   ]
  },
  {
   "cell_type": "markdown",
   "metadata": {},
   "source": [
    "#### First approach\n",
    "Using ex.2 and the fact:\n",
    "$$\n",
    "|| X ||_F^2 = tr(XX^T) \n",
    "$$ \n",
    "it is easy to derive gradients (you can find it in one of the refs). \n",
    "\n",
    "$$\n",
    "\\frac{dJ}{dS} = \\frac{\\partial[tr(X - AS)(X-AS)^T]}{\\partial S} = \\frac{\\partial[tr(XX^T - XS^TA^T-ASX^T+ASS^TA^T)]}{\\partial S} = \n",
    "$$\n",
    "\n",
    "$$ = - \\frac{\\partial[tr(XS^TA^T)]}{\\partial S} - \\frac{\\partial[tr(ASX^T)]}{\\partial S} + \\frac{\\partial[tr(ASS^TA^T)]}{\\partial S} = \n",
    "$$\n",
    "\n",
    "\n",
    "$$ = - \\frac{\\partial[tr(S^TA^TX)]}{\\partial S} - \\frac{\\partial[tr(SX^TA)]}{\\partial S} + \\frac{\\partial[tr(SS^TA^TA)]}{\\partial S} = -A^TX-X^TA+S^TA^TA+A^TAS=-2A^TX+2A^TAS\n",
    "$$\n",
    "\n",
    "$$ \\frac{dJ}{dS} =2 \\cdot A^T (A \\cdot S - X)\n",
    "$$"
   ]
  }
 ],
 "metadata": {
  "kernelspec": {
   "display_name": "Python 3",
   "language": "python",
   "name": "python3"
  },
  "language_info": {
   "codemirror_mode": {
    "name": "ipython",
    "version": 3
   },
   "file_extension": ".py",
   "mimetype": "text/x-python",
   "name": "python",
   "nbconvert_exporter": "python",
   "pygments_lexer": "ipython3",
   "version": "3.8.5"
  }
 },
 "nbformat": 4,
 "nbformat_minor": 1
}
