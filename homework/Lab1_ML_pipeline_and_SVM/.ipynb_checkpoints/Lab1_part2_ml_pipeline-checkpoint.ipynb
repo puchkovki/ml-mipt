{
 "cells": [
  {
   "cell_type": "markdown",
   "metadata": {
    "nbgrader": {
     "grade": false,
     "grade_id": "cell-86e0de040aac317a",
     "locked": true,
     "schema_version": 2,
     "solution": false
    }
   },
   "source": [
    "# Lab assignment №1, part 2\n",
    "\n",
    "This lab assignment consists of several parts. You are supposed to make some transformations, train some models, estimate the quality of the models and explain your results.\n",
    "\n",
    "Several comments:\n",
    "* Don't hesitate to ask questions, it's a good practice.\n",
    "* No private/public sharing, please. The copied assignments will be graded with 0 points.\n",
    "* Blocks of this lab will be graded separately."
   ]
  },
  {
   "cell_type": "markdown",
   "metadata": {},
   "source": [
    "__*This is the second part of the assignment. First and third parts are waiting for you in the same directory.*__"
   ]
  },
  {
   "cell_type": "markdown",
   "metadata": {
    "nbgrader": {
     "grade": false,
     "grade_id": "cell-512ba712fc0fc065",
     "locked": true,
     "schema_version": 2,
     "solution": false
    }
   },
   "source": [
    "## Part 2. Data preprocessing, model training and evaluation."
   ]
  },
  {
   "cell_type": "markdown",
   "metadata": {
    "nbgrader": {
     "grade": false,
     "grade_id": "cell-b656a4266174b009",
     "locked": true,
     "schema_version": 2,
     "solution": false
    }
   },
   "source": [
    "### 1. Reading the data\n",
    "Today we work with the [dataset](https://archive.ics.uci.edu/ml/datasets/Statlog+%28Vehicle+Silhouettes%29), describing different cars for multiclass ($k=4$) classification problem. The data is available below."
   ]
  },
  {
   "cell_type": "code",
   "execution_count": 1,
   "metadata": {
    "nbgrader": {
     "grade": false,
     "grade_id": "cell-eebac6bfdf73d0bc",
     "locked": true,
     "schema_version": 2,
     "solution": false
    }
   },
   "outputs": [
    {
     "name": "stdout",
     "output_type": "stream",
     "text": [
      "(846, 19) (846,)\n",
      "(549, 19) (549,) (297, 19) (297,)\n"
     ]
    }
   ],
   "source": [
    "import pandas as pd\n",
    "import numpy as np\n",
    "from sklearn.model_selection import train_test_split\n",
    "\n",
    "dataset = pd.read_csv('car_data.csv', delimiter=',', header=None).values\n",
    "data = dataset[:, :-1].astype(int)\n",
    "target = dataset[:, -1]\n",
    "\n",
    "print(data.shape, target.shape)\n",
    "\n",
    "X_train, X_test, y_train, y_test = train_test_split(data, target, test_size=0.35)\n",
    "print(X_train.shape, y_train.shape, X_test.shape, y_test.shape)"
   ]
  },
  {
   "cell_type": "markdown",
   "metadata": {
    "nbgrader": {
     "grade": false,
     "grade_id": "cell-88b1a0f688568f2c",
     "locked": true,
     "schema_version": 2,
     "solution": false
    }
   },
   "source": [
    "To get some insights about the dataset, `pandas` might be used. The `train` part is transformed to `pd.DataFrame` below."
   ]
  },
  {
   "cell_type": "code",
   "execution_count": 2,
   "metadata": {},
   "outputs": [
    {
     "data": {
      "text/html": [
       "<div>\n",
       "<style scoped>\n",
       "    .dataframe tbody tr th:only-of-type {\n",
       "        vertical-align: middle;\n",
       "    }\n",
       "\n",
       "    .dataframe tbody tr th {\n",
       "        vertical-align: top;\n",
       "    }\n",
       "\n",
       "    .dataframe thead th {\n",
       "        text-align: right;\n",
       "    }\n",
       "</style>\n",
       "<table border=\"1\" class=\"dataframe\">\n",
       "  <thead>\n",
       "    <tr style=\"text-align: right;\">\n",
       "      <th></th>\n",
       "      <th>0</th>\n",
       "      <th>1</th>\n",
       "      <th>2</th>\n",
       "      <th>3</th>\n",
       "      <th>4</th>\n",
       "      <th>5</th>\n",
       "      <th>6</th>\n",
       "      <th>7</th>\n",
       "      <th>8</th>\n",
       "      <th>9</th>\n",
       "      <th>10</th>\n",
       "      <th>11</th>\n",
       "      <th>12</th>\n",
       "      <th>13</th>\n",
       "      <th>14</th>\n",
       "      <th>15</th>\n",
       "      <th>16</th>\n",
       "      <th>17</th>\n",
       "      <th>18</th>\n",
       "    </tr>\n",
       "  </thead>\n",
       "  <tbody>\n",
       "    <tr>\n",
       "      <th>0</th>\n",
       "      <td>774</td>\n",
       "      <td>94</td>\n",
       "      <td>37</td>\n",
       "      <td>72</td>\n",
       "      <td>146</td>\n",
       "      <td>60</td>\n",
       "      <td>9</td>\n",
       "      <td>133</td>\n",
       "      <td>50</td>\n",
       "      <td>18</td>\n",
       "      <td>135</td>\n",
       "      <td>161</td>\n",
       "      <td>262</td>\n",
       "      <td>128</td>\n",
       "      <td>69</td>\n",
       "      <td>2</td>\n",
       "      <td>7</td>\n",
       "      <td>192</td>\n",
       "      <td>195</td>\n",
       "    </tr>\n",
       "    <tr>\n",
       "      <th>1</th>\n",
       "      <td>561</td>\n",
       "      <td>88</td>\n",
       "      <td>39</td>\n",
       "      <td>88</td>\n",
       "      <td>194</td>\n",
       "      <td>69</td>\n",
       "      <td>8</td>\n",
       "      <td>168</td>\n",
       "      <td>40</td>\n",
       "      <td>20</td>\n",
       "      <td>133</td>\n",
       "      <td>199</td>\n",
       "      <td>416</td>\n",
       "      <td>151</td>\n",
       "      <td>74</td>\n",
       "      <td>3</td>\n",
       "      <td>22</td>\n",
       "      <td>186</td>\n",
       "      <td>192</td>\n",
       "    </tr>\n",
       "    <tr>\n",
       "      <th>2</th>\n",
       "      <td>519</td>\n",
       "      <td>88</td>\n",
       "      <td>39</td>\n",
       "      <td>76</td>\n",
       "      <td>155</td>\n",
       "      <td>62</td>\n",
       "      <td>8</td>\n",
       "      <td>137</td>\n",
       "      <td>48</td>\n",
       "      <td>18</td>\n",
       "      <td>137</td>\n",
       "      <td>156</td>\n",
       "      <td>281</td>\n",
       "      <td>124</td>\n",
       "      <td>63</td>\n",
       "      <td>3</td>\n",
       "      <td>6</td>\n",
       "      <td>201</td>\n",
       "      <td>209</td>\n",
       "    </tr>\n",
       "    <tr>\n",
       "      <th>3</th>\n",
       "      <td>128</td>\n",
       "      <td>97</td>\n",
       "      <td>45</td>\n",
       "      <td>88</td>\n",
       "      <td>173</td>\n",
       "      <td>67</td>\n",
       "      <td>10</td>\n",
       "      <td>157</td>\n",
       "      <td>43</td>\n",
       "      <td>20</td>\n",
       "      <td>157</td>\n",
       "      <td>173</td>\n",
       "      <td>365</td>\n",
       "      <td>157</td>\n",
       "      <td>67</td>\n",
       "      <td>8</td>\n",
       "      <td>12</td>\n",
       "      <td>192</td>\n",
       "      <td>200</td>\n",
       "    </tr>\n",
       "    <tr>\n",
       "      <th>4</th>\n",
       "      <td>226</td>\n",
       "      <td>107</td>\n",
       "      <td>54</td>\n",
       "      <td>98</td>\n",
       "      <td>210</td>\n",
       "      <td>66</td>\n",
       "      <td>11</td>\n",
       "      <td>218</td>\n",
       "      <td>31</td>\n",
       "      <td>24</td>\n",
       "      <td>169</td>\n",
       "      <td>221</td>\n",
       "      <td>704</td>\n",
       "      <td>216</td>\n",
       "      <td>71</td>\n",
       "      <td>14</td>\n",
       "      <td>0</td>\n",
       "      <td>188</td>\n",
       "      <td>197</td>\n",
       "    </tr>\n",
       "    <tr>\n",
       "      <th>5</th>\n",
       "      <td>179</td>\n",
       "      <td>89</td>\n",
       "      <td>44</td>\n",
       "      <td>70</td>\n",
       "      <td>137</td>\n",
       "      <td>58</td>\n",
       "      <td>6</td>\n",
       "      <td>136</td>\n",
       "      <td>49</td>\n",
       "      <td>18</td>\n",
       "      <td>146</td>\n",
       "      <td>168</td>\n",
       "      <td>273</td>\n",
       "      <td>166</td>\n",
       "      <td>78</td>\n",
       "      <td>10</td>\n",
       "      <td>3</td>\n",
       "      <td>186</td>\n",
       "      <td>187</td>\n",
       "    </tr>\n",
       "    <tr>\n",
       "      <th>6</th>\n",
       "      <td>633</td>\n",
       "      <td>102</td>\n",
       "      <td>52</td>\n",
       "      <td>101</td>\n",
       "      <td>213</td>\n",
       "      <td>64</td>\n",
       "      <td>10</td>\n",
       "      <td>203</td>\n",
       "      <td>33</td>\n",
       "      <td>23</td>\n",
       "      <td>157</td>\n",
       "      <td>214</td>\n",
       "      <td>616</td>\n",
       "      <td>186</td>\n",
       "      <td>65</td>\n",
       "      <td>0</td>\n",
       "      <td>19</td>\n",
       "      <td>193</td>\n",
       "      <td>203</td>\n",
       "    </tr>\n",
       "    <tr>\n",
       "      <th>7</th>\n",
       "      <td>700</td>\n",
       "      <td>106</td>\n",
       "      <td>53</td>\n",
       "      <td>98</td>\n",
       "      <td>192</td>\n",
       "      <td>58</td>\n",
       "      <td>11</td>\n",
       "      <td>217</td>\n",
       "      <td>31</td>\n",
       "      <td>24</td>\n",
       "      <td>166</td>\n",
       "      <td>228</td>\n",
       "      <td>693</td>\n",
       "      <td>191</td>\n",
       "      <td>71</td>\n",
       "      <td>11</td>\n",
       "      <td>24</td>\n",
       "      <td>188</td>\n",
       "      <td>198</td>\n",
       "    </tr>\n",
       "    <tr>\n",
       "      <th>8</th>\n",
       "      <td>523</td>\n",
       "      <td>90</td>\n",
       "      <td>43</td>\n",
       "      <td>81</td>\n",
       "      <td>231</td>\n",
       "      <td>97</td>\n",
       "      <td>46</td>\n",
       "      <td>150</td>\n",
       "      <td>45</td>\n",
       "      <td>19</td>\n",
       "      <td>149</td>\n",
       "      <td>200</td>\n",
       "      <td>332</td>\n",
       "      <td>164</td>\n",
       "      <td>91</td>\n",
       "      <td>5</td>\n",
       "      <td>9</td>\n",
       "      <td>186</td>\n",
       "      <td>196</td>\n",
       "    </tr>\n",
       "    <tr>\n",
       "      <th>9</th>\n",
       "      <td>681</td>\n",
       "      <td>96</td>\n",
       "      <td>46</td>\n",
       "      <td>70</td>\n",
       "      <td>194</td>\n",
       "      <td>70</td>\n",
       "      <td>6</td>\n",
       "      <td>167</td>\n",
       "      <td>39</td>\n",
       "      <td>20</td>\n",
       "      <td>148</td>\n",
       "      <td>183</td>\n",
       "      <td>427</td>\n",
       "      <td>171</td>\n",
       "      <td>69</td>\n",
       "      <td>17</td>\n",
       "      <td>10</td>\n",
       "      <td>200</td>\n",
       "      <td>203</td>\n",
       "    </tr>\n",
       "    <tr>\n",
       "      <th>10</th>\n",
       "      <td>448</td>\n",
       "      <td>101</td>\n",
       "      <td>53</td>\n",
       "      <td>91</td>\n",
       "      <td>194</td>\n",
       "      <td>65</td>\n",
       "      <td>6</td>\n",
       "      <td>204</td>\n",
       "      <td>32</td>\n",
       "      <td>23</td>\n",
       "      <td>161</td>\n",
       "      <td>231</td>\n",
       "      <td>636</td>\n",
       "      <td>214</td>\n",
       "      <td>78</td>\n",
       "      <td>5</td>\n",
       "      <td>14</td>\n",
       "      <td>192</td>\n",
       "      <td>192</td>\n",
       "    </tr>\n",
       "    <tr>\n",
       "      <th>11</th>\n",
       "      <td>197</td>\n",
       "      <td>82</td>\n",
       "      <td>44</td>\n",
       "      <td>72</td>\n",
       "      <td>150</td>\n",
       "      <td>64</td>\n",
       "      <td>7</td>\n",
       "      <td>154</td>\n",
       "      <td>44</td>\n",
       "      <td>19</td>\n",
       "      <td>144</td>\n",
       "      <td>181</td>\n",
       "      <td>350</td>\n",
       "      <td>177</td>\n",
       "      <td>80</td>\n",
       "      <td>0</td>\n",
       "      <td>16</td>\n",
       "      <td>183</td>\n",
       "      <td>187</td>\n",
       "    </tr>\n",
       "    <tr>\n",
       "      <th>12</th>\n",
       "      <td>784</td>\n",
       "      <td>87</td>\n",
       "      <td>37</td>\n",
       "      <td>52</td>\n",
       "      <td>116</td>\n",
       "      <td>54</td>\n",
       "      <td>6</td>\n",
       "      <td>115</td>\n",
       "      <td>58</td>\n",
       "      <td>17</td>\n",
       "      <td>126</td>\n",
       "      <td>135</td>\n",
       "      <td>196</td>\n",
       "      <td>144</td>\n",
       "      <td>74</td>\n",
       "      <td>11</td>\n",
       "      <td>22</td>\n",
       "      <td>186</td>\n",
       "      <td>190</td>\n",
       "    </tr>\n",
       "    <tr>\n",
       "      <th>13</th>\n",
       "      <td>255</td>\n",
       "      <td>112</td>\n",
       "      <td>50</td>\n",
       "      <td>110</td>\n",
       "      <td>186</td>\n",
       "      <td>56</td>\n",
       "      <td>11</td>\n",
       "      <td>214</td>\n",
       "      <td>31</td>\n",
       "      <td>24</td>\n",
       "      <td>159</td>\n",
       "      <td>232</td>\n",
       "      <td>676</td>\n",
       "      <td>203</td>\n",
       "      <td>71</td>\n",
       "      <td>18</td>\n",
       "      <td>27</td>\n",
       "      <td>191</td>\n",
       "      <td>202</td>\n",
       "    </tr>\n",
       "    <tr>\n",
       "      <th>14</th>\n",
       "      <td>272</td>\n",
       "      <td>91</td>\n",
       "      <td>43</td>\n",
       "      <td>88</td>\n",
       "      <td>157</td>\n",
       "      <td>61</td>\n",
       "      <td>9</td>\n",
       "      <td>149</td>\n",
       "      <td>45</td>\n",
       "      <td>19</td>\n",
       "      <td>157</td>\n",
       "      <td>165</td>\n",
       "      <td>326</td>\n",
       "      <td>140</td>\n",
       "      <td>64</td>\n",
       "      <td>1</td>\n",
       "      <td>26</td>\n",
       "      <td>197</td>\n",
       "      <td>207</td>\n",
       "    </tr>\n",
       "  </tbody>\n",
       "</table>\n",
       "</div>"
      ],
      "text/plain": [
       "     0    1   2    3    4   5   6    7   8   9    10   11   12   13  14  15  \\\n",
       "0   774   94  37   72  146  60   9  133  50  18  135  161  262  128  69   2   \n",
       "1   561   88  39   88  194  69   8  168  40  20  133  199  416  151  74   3   \n",
       "2   519   88  39   76  155  62   8  137  48  18  137  156  281  124  63   3   \n",
       "3   128   97  45   88  173  67  10  157  43  20  157  173  365  157  67   8   \n",
       "4   226  107  54   98  210  66  11  218  31  24  169  221  704  216  71  14   \n",
       "5   179   89  44   70  137  58   6  136  49  18  146  168  273  166  78  10   \n",
       "6   633  102  52  101  213  64  10  203  33  23  157  214  616  186  65   0   \n",
       "7   700  106  53   98  192  58  11  217  31  24  166  228  693  191  71  11   \n",
       "8   523   90  43   81  231  97  46  150  45  19  149  200  332  164  91   5   \n",
       "9   681   96  46   70  194  70   6  167  39  20  148  183  427  171  69  17   \n",
       "10  448  101  53   91  194  65   6  204  32  23  161  231  636  214  78   5   \n",
       "11  197   82  44   72  150  64   7  154  44  19  144  181  350  177  80   0   \n",
       "12  784   87  37   52  116  54   6  115  58  17  126  135  196  144  74  11   \n",
       "13  255  112  50  110  186  56  11  214  31  24  159  232  676  203  71  18   \n",
       "14  272   91  43   88  157  61   9  149  45  19  157  165  326  140  64   1   \n",
       "\n",
       "    16   17   18  \n",
       "0    7  192  195  \n",
       "1   22  186  192  \n",
       "2    6  201  209  \n",
       "3   12  192  200  \n",
       "4    0  188  197  \n",
       "5    3  186  187  \n",
       "6   19  193  203  \n",
       "7   24  188  198  \n",
       "8    9  186  196  \n",
       "9   10  200  203  \n",
       "10  14  192  192  \n",
       "11  16  183  187  \n",
       "12  22  186  190  \n",
       "13  27  191  202  \n",
       "14  26  197  207  "
      ]
     },
     "execution_count": 2,
     "metadata": {},
     "output_type": "execute_result"
    }
   ],
   "source": [
    "X_train_pd = pd.DataFrame(X_train)\n",
    "\n",
    "# First 15 rows of our dataset.\n",
    "X_train_pd.head(15)"
   ]
  },
  {
   "cell_type": "markdown",
   "metadata": {
    "nbgrader": {
     "grade": false,
     "grade_id": "cell-98e7d91d77d65fcf",
     "locked": true,
     "schema_version": 2,
     "solution": false
    }
   },
   "source": [
    "Methods `describe` and `info` deliver some useful information."
   ]
  },
  {
   "cell_type": "code",
   "execution_count": 3,
   "metadata": {},
   "outputs": [
    {
     "data": {
      "text/html": [
       "<div>\n",
       "<style scoped>\n",
       "    .dataframe tbody tr th:only-of-type {\n",
       "        vertical-align: middle;\n",
       "    }\n",
       "\n",
       "    .dataframe tbody tr th {\n",
       "        vertical-align: top;\n",
       "    }\n",
       "\n",
       "    .dataframe thead th {\n",
       "        text-align: right;\n",
       "    }\n",
       "</style>\n",
       "<table border=\"1\" class=\"dataframe\">\n",
       "  <thead>\n",
       "    <tr style=\"text-align: right;\">\n",
       "      <th></th>\n",
       "      <th>0</th>\n",
       "      <th>1</th>\n",
       "      <th>2</th>\n",
       "      <th>3</th>\n",
       "      <th>4</th>\n",
       "      <th>5</th>\n",
       "      <th>6</th>\n",
       "      <th>7</th>\n",
       "      <th>8</th>\n",
       "      <th>9</th>\n",
       "      <th>10</th>\n",
       "      <th>11</th>\n",
       "      <th>12</th>\n",
       "      <th>13</th>\n",
       "      <th>14</th>\n",
       "      <th>15</th>\n",
       "      <th>16</th>\n",
       "      <th>17</th>\n",
       "      <th>18</th>\n",
       "    </tr>\n",
       "  </thead>\n",
       "  <tbody>\n",
       "    <tr>\n",
       "      <th>count</th>\n",
       "      <td>549.000000</td>\n",
       "      <td>549.000000</td>\n",
       "      <td>549.000000</td>\n",
       "      <td>549.000000</td>\n",
       "      <td>549.000000</td>\n",
       "      <td>549.000000</td>\n",
       "      <td>549.000000</td>\n",
       "      <td>549.000000</td>\n",
       "      <td>549.000000</td>\n",
       "      <td>549.000000</td>\n",
       "      <td>549.000000</td>\n",
       "      <td>549.000000</td>\n",
       "      <td>549.000000</td>\n",
       "      <td>549.000000</td>\n",
       "      <td>549.000000</td>\n",
       "      <td>549.000000</td>\n",
       "      <td>549.000000</td>\n",
       "      <td>549.000000</td>\n",
       "      <td>549.000000</td>\n",
       "    </tr>\n",
       "    <tr>\n",
       "      <th>mean</th>\n",
       "      <td>418.138434</td>\n",
       "      <td>93.610200</td>\n",
       "      <td>44.770492</td>\n",
       "      <td>81.976321</td>\n",
       "      <td>168.573770</td>\n",
       "      <td>61.690346</td>\n",
       "      <td>8.657559</td>\n",
       "      <td>168.366120</td>\n",
       "      <td>41.060109</td>\n",
       "      <td>20.544627</td>\n",
       "      <td>147.894353</td>\n",
       "      <td>188.311475</td>\n",
       "      <td>437.258652</td>\n",
       "      <td>174.076503</td>\n",
       "      <td>72.550091</td>\n",
       "      <td>6.559199</td>\n",
       "      <td>12.613843</td>\n",
       "      <td>188.981785</td>\n",
       "      <td>195.670310</td>\n",
       "    </tr>\n",
       "    <tr>\n",
       "      <th>std</th>\n",
       "      <td>239.693606</td>\n",
       "      <td>8.404963</td>\n",
       "      <td>6.174335</td>\n",
       "      <td>15.922067</td>\n",
       "      <td>34.001939</td>\n",
       "      <td>8.227974</td>\n",
       "      <td>4.958150</td>\n",
       "      <td>33.163976</td>\n",
       "      <td>7.764440</td>\n",
       "      <td>2.582986</td>\n",
       "      <td>14.538765</td>\n",
       "      <td>31.629462</td>\n",
       "      <td>176.430758</td>\n",
       "      <td>32.197860</td>\n",
       "      <td>7.910756</td>\n",
       "      <td>5.102834</td>\n",
       "      <td>8.959370</td>\n",
       "      <td>6.198631</td>\n",
       "      <td>7.576294</td>\n",
       "    </tr>\n",
       "    <tr>\n",
       "      <th>min</th>\n",
       "      <td>0.000000</td>\n",
       "      <td>73.000000</td>\n",
       "      <td>33.000000</td>\n",
       "      <td>42.000000</td>\n",
       "      <td>104.000000</td>\n",
       "      <td>47.000000</td>\n",
       "      <td>2.000000</td>\n",
       "      <td>114.000000</td>\n",
       "      <td>26.000000</td>\n",
       "      <td>17.000000</td>\n",
       "      <td>118.000000</td>\n",
       "      <td>131.000000</td>\n",
       "      <td>191.000000</td>\n",
       "      <td>109.000000</td>\n",
       "      <td>60.000000</td>\n",
       "      <td>0.000000</td>\n",
       "      <td>0.000000</td>\n",
       "      <td>176.000000</td>\n",
       "      <td>181.000000</td>\n",
       "    </tr>\n",
       "    <tr>\n",
       "      <th>25%</th>\n",
       "      <td>216.000000</td>\n",
       "      <td>87.000000</td>\n",
       "      <td>40.000000</td>\n",
       "      <td>70.000000</td>\n",
       "      <td>141.000000</td>\n",
       "      <td>57.000000</td>\n",
       "      <td>7.000000</td>\n",
       "      <td>146.000000</td>\n",
       "      <td>33.000000</td>\n",
       "      <td>19.000000</td>\n",
       "      <td>137.000000</td>\n",
       "      <td>167.000000</td>\n",
       "      <td>318.000000</td>\n",
       "      <td>150.000000</td>\n",
       "      <td>67.000000</td>\n",
       "      <td>2.000000</td>\n",
       "      <td>6.000000</td>\n",
       "      <td>185.000000</td>\n",
       "      <td>190.000000</td>\n",
       "    </tr>\n",
       "    <tr>\n",
       "      <th>50%</th>\n",
       "      <td>417.000000</td>\n",
       "      <td>92.000000</td>\n",
       "      <td>44.000000</td>\n",
       "      <td>80.000000</td>\n",
       "      <td>167.000000</td>\n",
       "      <td>61.000000</td>\n",
       "      <td>8.000000</td>\n",
       "      <td>156.000000</td>\n",
       "      <td>43.000000</td>\n",
       "      <td>20.000000</td>\n",
       "      <td>146.000000</td>\n",
       "      <td>177.000000</td>\n",
       "      <td>362.000000</td>\n",
       "      <td>173.000000</td>\n",
       "      <td>71.000000</td>\n",
       "      <td>6.000000</td>\n",
       "      <td>11.000000</td>\n",
       "      <td>189.000000</td>\n",
       "      <td>197.000000</td>\n",
       "    </tr>\n",
       "    <tr>\n",
       "      <th>75%</th>\n",
       "      <td>622.000000</td>\n",
       "      <td>100.000000</td>\n",
       "      <td>49.000000</td>\n",
       "      <td>98.000000</td>\n",
       "      <td>194.000000</td>\n",
       "      <td>65.000000</td>\n",
       "      <td>10.000000</td>\n",
       "      <td>197.000000</td>\n",
       "      <td>46.000000</td>\n",
       "      <td>23.000000</td>\n",
       "      <td>159.000000</td>\n",
       "      <td>217.000000</td>\n",
       "      <td>584.000000</td>\n",
       "      <td>197.000000</td>\n",
       "      <td>76.000000</td>\n",
       "      <td>10.000000</td>\n",
       "      <td>18.000000</td>\n",
       "      <td>193.000000</td>\n",
       "      <td>201.000000</td>\n",
       "    </tr>\n",
       "    <tr>\n",
       "      <th>max</th>\n",
       "      <td>845.000000</td>\n",
       "      <td>119.000000</td>\n",
       "      <td>59.000000</td>\n",
       "      <td>112.000000</td>\n",
       "      <td>333.000000</td>\n",
       "      <td>138.000000</td>\n",
       "      <td>55.000000</td>\n",
       "      <td>265.000000</td>\n",
       "      <td>59.000000</td>\n",
       "      <td>29.000000</td>\n",
       "      <td>188.000000</td>\n",
       "      <td>320.000000</td>\n",
       "      <td>1018.000000</td>\n",
       "      <td>264.000000</td>\n",
       "      <td>135.000000</td>\n",
       "      <td>22.000000</td>\n",
       "      <td>41.000000</td>\n",
       "      <td>206.000000</td>\n",
       "      <td>211.000000</td>\n",
       "    </tr>\n",
       "  </tbody>\n",
       "</table>\n",
       "</div>"
      ],
      "text/plain": [
       "               0           1           2           3           4           5   \\\n",
       "count  549.000000  549.000000  549.000000  549.000000  549.000000  549.000000   \n",
       "mean   418.138434   93.610200   44.770492   81.976321  168.573770   61.690346   \n",
       "std    239.693606    8.404963    6.174335   15.922067   34.001939    8.227974   \n",
       "min      0.000000   73.000000   33.000000   42.000000  104.000000   47.000000   \n",
       "25%    216.000000   87.000000   40.000000   70.000000  141.000000   57.000000   \n",
       "50%    417.000000   92.000000   44.000000   80.000000  167.000000   61.000000   \n",
       "75%    622.000000  100.000000   49.000000   98.000000  194.000000   65.000000   \n",
       "max    845.000000  119.000000   59.000000  112.000000  333.000000  138.000000   \n",
       "\n",
       "               6           7           8           9           10          11  \\\n",
       "count  549.000000  549.000000  549.000000  549.000000  549.000000  549.000000   \n",
       "mean     8.657559  168.366120   41.060109   20.544627  147.894353  188.311475   \n",
       "std      4.958150   33.163976    7.764440    2.582986   14.538765   31.629462   \n",
       "min      2.000000  114.000000   26.000000   17.000000  118.000000  131.000000   \n",
       "25%      7.000000  146.000000   33.000000   19.000000  137.000000  167.000000   \n",
       "50%      8.000000  156.000000   43.000000   20.000000  146.000000  177.000000   \n",
       "75%     10.000000  197.000000   46.000000   23.000000  159.000000  217.000000   \n",
       "max     55.000000  265.000000   59.000000   29.000000  188.000000  320.000000   \n",
       "\n",
       "                12          13          14          15          16  \\\n",
       "count   549.000000  549.000000  549.000000  549.000000  549.000000   \n",
       "mean    437.258652  174.076503   72.550091    6.559199   12.613843   \n",
       "std     176.430758   32.197860    7.910756    5.102834    8.959370   \n",
       "min     191.000000  109.000000   60.000000    0.000000    0.000000   \n",
       "25%     318.000000  150.000000   67.000000    2.000000    6.000000   \n",
       "50%     362.000000  173.000000   71.000000    6.000000   11.000000   \n",
       "75%     584.000000  197.000000   76.000000   10.000000   18.000000   \n",
       "max    1018.000000  264.000000  135.000000   22.000000   41.000000   \n",
       "\n",
       "               17          18  \n",
       "count  549.000000  549.000000  \n",
       "mean   188.981785  195.670310  \n",
       "std      6.198631    7.576294  \n",
       "min    176.000000  181.000000  \n",
       "25%    185.000000  190.000000  \n",
       "50%    189.000000  197.000000  \n",
       "75%    193.000000  201.000000  \n",
       "max    206.000000  211.000000  "
      ]
     },
     "execution_count": 3,
     "metadata": {},
     "output_type": "execute_result"
    }
   ],
   "source": [
    "X_train_pd.describe()"
   ]
  },
  {
   "cell_type": "code",
   "execution_count": 4,
   "metadata": {},
   "outputs": [
    {
     "name": "stdout",
     "output_type": "stream",
     "text": [
      "<class 'pandas.core.frame.DataFrame'>\n",
      "RangeIndex: 549 entries, 0 to 548\n",
      "Data columns (total 19 columns):\n",
      " #   Column  Non-Null Count  Dtype\n",
      "---  ------  --------------  -----\n",
      " 0   0       549 non-null    int64\n",
      " 1   1       549 non-null    int64\n",
      " 2   2       549 non-null    int64\n",
      " 3   3       549 non-null    int64\n",
      " 4   4       549 non-null    int64\n",
      " 5   5       549 non-null    int64\n",
      " 6   6       549 non-null    int64\n",
      " 7   7       549 non-null    int64\n",
      " 8   8       549 non-null    int64\n",
      " 9   9       549 non-null    int64\n",
      " 10  10      549 non-null    int64\n",
      " 11  11      549 non-null    int64\n",
      " 12  12      549 non-null    int64\n",
      " 13  13      549 non-null    int64\n",
      " 14  14      549 non-null    int64\n",
      " 15  15      549 non-null    int64\n",
      " 16  16      549 non-null    int64\n",
      " 17  17      549 non-null    int64\n",
      " 18  18      549 non-null    int64\n",
      "dtypes: int64(19)\n",
      "memory usage: 81.6 KB\n"
     ]
    }
   ],
   "source": [
    "X_train_pd.info()"
   ]
  },
  {
   "cell_type": "markdown",
   "metadata": {
    "nbgrader": {
     "grade": false,
     "grade_id": "cell-be844269be69c387",
     "locked": true,
     "schema_version": 2,
     "solution": false
    }
   },
   "source": [
    "### 2. Machine Learning pipeline\n",
    "Here you are supposed to perform the desired transformations. Please, explain your results briefly after each task."
   ]
  },
  {
   "cell_type": "markdown",
   "metadata": {},
   "source": [
    "#### 2.0. Data preprocessing\n",
    "* Make some transformations of the dataset (if necessary). Briefly explain the transformations"
   ]
  },
  {
   "cell_type": "code",
   "execution_count": 5,
   "metadata": {
    "nbgrader": {
     "grade": true,
     "grade_id": "cell-a1514aa189a49fca",
     "locked": false,
     "points": 15,
     "schema_version": 2,
     "solution": true
    }
   },
   "outputs": [],
   "source": [
    "from sklearn.preprocessing import StandardScaler\n",
    "\n",
    "# Scale data before using\n",
    "scaler = StandardScaler()\n",
    "X_train_scaled = scaler.fit_transform(X_train)\n",
    "X_test_scaled = scaler.transform(X_test)"
   ]
  },
  {
   "cell_type": "markdown",
   "metadata": {},
   "source": [
    "#### 2.1. Basic logistic regression\n",
    "* Find optimal hyperparameters for logistic regression with cross-validation on the `train` data (small grid/random search is enough, no need to find the *best* parameters).\n",
    "\n",
    "* Estimate the model quality with `f1` and `accuracy` scores.\n",
    "* Plot a ROC-curve for the trained model. For the multiclass case you might use `scikitplot` library (e.g. `scikitplot.metrics.plot_roc(test_labels, predicted_proba)`).\n",
    "\n",
    "*Note: please, use the following hyperparameters for logistic regression: `multi_class='multinomial'`, `solver='saga'` `tol=1e-3` and ` max_iter=500`.*"
   ]
  },
  {
   "cell_type": "code",
   "execution_count": 6,
   "metadata": {
    "nbgrader": {
     "grade": true,
     "grade_id": "cell-1dd5ad5d0845cbbb",
     "locked": false,
     "points": 5,
     "schema_version": 2,
     "solution": true
    }
   },
   "outputs": [],
   "source": [
    "import numpy as np\n",
    "from sklearn.linear_model import LogisticRegression\n",
    "from sklearn.model_selection import GridSearchCV\n",
    "\n",
    "# 500 итераций не хватало\n",
    "logreg = LogisticRegression(multi_class='multinomial', solver='saga', tol=1e-3, max_iter=1000)"
   ]
  },
  {
   "cell_type": "code",
   "execution_count": 36,
   "metadata": {},
   "outputs": [
    {
     "name": "stdout",
     "output_type": "stream",
     "text": [
      "Best parameters:  {'C': 0.1}\n"
     ]
    }
   ],
   "source": [
    "# Find optimal hyperparameters for logistic regression with cross-validation on the train data\n",
    "param_grid = {'C': [0.1, 1.0, 10, 15, 20, 30, 50, 100, 150, 200, 500, 1000] }\n",
    "\n",
    "grid = GridSearchCV(estimator=logreg,\n",
    "                    param_grid=param_grid,\n",
    "                    cv=5)\n",
    "\n",
    "grid_result = grid.fit(X_train, y_train)\n",
    "\n",
    "print('Best parameters: ', grid_result.best_params_)"
   ]
  },
  {
   "cell_type": "code",
   "execution_count": 8,
   "metadata": {},
   "outputs": [],
   "source": [
    "logreg = LogisticRegression(C=grid_result.best_params_['C'], multi_class='multinomial', solver='saga', tol=1e-3, max_iter=1000)"
   ]
  },
  {
   "cell_type": "code",
   "execution_count": 9,
   "metadata": {},
   "outputs": [
    {
     "name": "stdout",
     "output_type": "stream",
     "text": [
      "Accuracy test score:  0.7171717171717171\n",
      "              precision    recall  f1-score   support\n",
      "\n",
      "         bus       0.86      0.91      0.88        76\n",
      "        opel       0.67      0.44      0.53        85\n",
      "        saab       0.50      0.58      0.54        69\n",
      "         van       0.82      1.00      0.90        67\n",
      "\n",
      "    accuracy                           0.72       297\n",
      "   macro avg       0.71      0.73      0.71       297\n",
      "weighted avg       0.71      0.72      0.71       297\n",
      "\n"
     ]
    }
   ],
   "source": [
    "# Estimate the model quality with f1 and accuracy scores\n",
    "from sklearn.metrics import classification_report\n",
    "\n",
    "clf = logreg.fit(X_train_scaled, y_train)\n",
    "print(\"Accuracy test score: \", clf.score(X_test_scaled, y_test))\n",
    "\n",
    "y_pred = logreg.predict(X_test_scaled)\n",
    "print(classification_report(y_test, y_pred))"
   ]
  },
  {
   "cell_type": "code",
   "execution_count": 10,
   "metadata": {},
   "outputs": [
    {
     "data": {
      "image/png": "[encoded data removed]",
      "text/plain": [
       "<Figure size 432x288 with 1 Axes>"
      ]
     },
     "metadata": {
      "needs_background": "light"
     },
     "output_type": "display_data"
    }
   ],
   "source": [
    "import scikitplot as skplt\n",
    "import matplotlib.pyplot as plt\n",
    "\n",
    "# Plot a ROC-curve for the trained model\n",
    "y_probas = logreg.predict_proba(X_test_scaled)\n",
    "skplt.metrics.plot_roc(y_test, y_probas)\n",
    "plt.show()"
   ]
  },
  {
   "cell_type": "markdown",
   "metadata": {},
   "source": [
    "#### 2.2. PCA: explained variance plot\n",
    "* Apply the PCA to the train part of the data. Build the explaided variance plot. "
   ]
  },
  {
   "cell_type": "code",
   "execution_count": 11,
   "metadata": {
    "nbgrader": {
     "grade": true,
     "grade_id": "cell-c6c614740bce090e",
     "locked": false,
     "points": 10,
     "schema_version": 2,
     "solution": true
    }
   },
   "outputs": [],
   "source": [
    "# Normalize data to produce a reasonable covariance analysis\n",
    "# therefore put all attributes in the range between 0 and 1\n",
    "from sklearn.preprocessing import MinMaxScaler\n",
    "scaler = MinMaxScaler(feature_range=[0, 1])\n",
    "\n",
    "X_train_scaled = scaler.fit_transform(X_train)\n",
    "X_test_scaled = scaler.transform(X_test)"
   ]
  },
  {
   "cell_type": "code",
   "execution_count": 12,
   "metadata": {},
   "outputs": [
    {
     "data": {
      "image/png": "[encoded data removed]",
      "text/plain": [
       "<Figure size 432x288 with 1 Axes>"
      ]
     },
     "metadata": {
      "needs_background": "light"
     },
     "output_type": "display_data"
    }
   ],
   "source": [
    "# Fit the PCA algorithm with data\n",
    "from sklearn.decomposition import PCA\n",
    "pca = PCA().fit(X_train_scaled)\n",
    "\n",
    "# Plot the сumulative сum of the explained variance\n",
    "plt.figure()\n",
    "plt.plot(np.cumsum(pca.explained_variance_ratio_))\n",
    "plt.xlabel('Number of Components')\n",
    "plt.ylabel('Variance (%)')\n",
    "plt.title('X_train Dataset Explained Variance')\n",
    "plt.show()"
   ]
  },
  {
   "cell_type": "markdown",
   "metadata": {
    "nbgrader": {
     "grade": false,
     "grade_id": "cell-0c1fe666f52fe53c",
     "locked": true,
     "schema_version": 2,
     "solution": false
    }
   },
   "source": [
    "#### 2.3. PCA trasformation\n",
    "* Select the appropriate number of components. Briefly explain your choice. Should you normalize the data?\n",
    "\n",
    "*Use `fit` and `transform` methods to transform the `train` and `test` parts.*"
   ]
  },
  {
   "cell_type": "markdown",
   "metadata": {},
   "source": [
    "Из графика становится понятно, что хватит 9 компонент."
   ]
  },
  {
   "cell_type": "code",
   "execution_count": 13,
   "metadata": {
    "nbgrader": {
     "grade": true,
     "grade_id": "cell-96ab18d96473ef71",
     "locked": false,
     "points": 5,
     "schema_version": 2,
     "solution": true
    }
   },
   "outputs": [],
   "source": [
    "# Perform the PCA transformation\n",
    "\n",
    "pca = PCA(n_components=9)\n",
    "X_train_pca = pca.fit_transform(X_train_scaled)\n",
    "X_test_pca = pca.transform(X_test_scaled)"
   ]
  },
  {
   "cell_type": "markdown",
   "metadata": {
    "nbgrader": {
     "grade": false,
     "grade_id": "cell-d28b58a35c94e988",
     "locked": true,
     "schema_version": 2,
     "solution": false
    }
   },
   "source": [
    "#### 2.4. Logistic regression on PCA-preprocessed data.\n",
    "* Find optimal hyperparameters for logistic regression with cross-validation on the transformed by PCA `train` data.\n",
    "\n",
    "* Estimate the model quality with `f1` and `accuracy` scores.\n",
    "* Plot a ROC-curve for the trained model. For the multiclass case you might use `scikitplot` library (e.g. `scikitplot.metrics.plot_roc(test_labels, predicted_proba)`).\n",
    "\n",
    "*Note: please, use the following hyperparameters for logistic regression: `multi_class='multinomial'`, `solver='saga'` and `tol=1e-3`*"
   ]
  },
  {
   "cell_type": "code",
   "execution_count": 15,
   "metadata": {
    "nbgrader": {
     "grade": true,
     "grade_id": "cell-12d53ea45258fa82",
     "locked": false,
     "points": 5,
     "schema_version": 2,
     "solution": true
    }
   },
   "outputs": [],
   "source": [
    "logreg = LogisticRegression(multi_class='multinomial', solver='saga', tol=1e-3, max_iter=1000)"
   ]
  },
  {
   "cell_type": "code",
   "execution_count": 16,
   "metadata": {},
   "outputs": [
    {
     "name": "stdout",
     "output_type": "stream",
     "text": [
      "Best score:  0.7013010842368641\n",
      "Best parameters:  {'C': 30}\n"
     ]
    }
   ],
   "source": [
    "# Find optimal hyperparameters for logistic regression with cross-validation on the transformed by PCA train data\n",
    "\n",
    "param_grid = {'C': [0.001, 0.01, 0.1, 1.0, 10, 15, 20, 30, 50, 100, 150, 200, 500, 1000] }\n",
    "grid = GridSearchCV(estimator=logreg,\n",
    "                    param_grid=param_grid,\n",
    "                    cv=5)\n",
    "grid_result = grid.fit(X_train_pca, y_train)\n",
    "\n",
    "print('Best score: ', grid_result.best_score_)\n",
    "print('Best parameters: ', grid_result.best_params_)"
   ]
  },
  {
   "cell_type": "code",
   "execution_count": 17,
   "metadata": {},
   "outputs": [],
   "source": [
    "logreg = LogisticRegression(C=grid_result.best_params_['C'], multi_class='multinomial', solver='saga', tol=1e-3, max_iter=500)"
   ]
  },
  {
   "cell_type": "code",
   "execution_count": 18,
   "metadata": {},
   "outputs": [
    {
     "name": "stdout",
     "output_type": "stream",
     "text": [
      "Accuracy test score:  0.6801346801346801\n",
      "              precision    recall  f1-score   support\n",
      "\n",
      "         bus       0.77      0.84      0.81        76\n",
      "        opel       0.59      0.39      0.47        85\n",
      "        saab       0.47      0.57      0.51        69\n",
      "         van       0.88      0.99      0.93        67\n",
      "\n",
      "    accuracy                           0.68       297\n",
      "   macro avg       0.68      0.70      0.68       297\n",
      "weighted avg       0.67      0.68      0.67       297\n",
      "\n"
     ]
    }
   ],
   "source": [
    "# Estimate the model quality with f1 and accuracy scores\n",
    "\n",
    "clf = logreg.fit(X_train_pca, y_train)\n",
    "print(\"Accuracy test score: \", clf.score(X_test_pca, y_test))\n",
    "\n",
    "y_pred = logreg.predict(X_test_pca)\n",
    "print(classification_report(y_test, y_pred))"
   ]
  },
  {
   "cell_type": "code",
   "execution_count": 19,
   "metadata": {},
   "outputs": [
    {
     "data": {
      "image/png": "[encoded data removed]",
      "text/plain": [
       "<Figure size 432x288 with 1 Axes>"
      ]
     },
     "metadata": {
      "needs_background": "light"
     },
     "output_type": "display_data"
    }
   ],
   "source": [
    "# Plot a ROC-curve for the trained model\n",
    "y_probas = logreg.predict_proba(X_test_pca)\n",
    "skplt.metrics.plot_roc(y_test, y_probas)\n",
    "plt.show()"
   ]
  },
  {
   "cell_type": "markdown",
   "metadata": {
    "nbgrader": {
     "grade": false,
     "grade_id": "cell-4fbf16c64076e139",
     "locked": true,
     "schema_version": 2,
     "solution": false
    }
   },
   "source": [
    "#### 2.5. Decision tree\n",
    "* Now train a desicion tree on the same data. Find optimal tree depth (`max_depth`) using cross-validation.\n",
    "\n",
    "* Measure the model quality using the same metrics you used above."
   ]
  },
  {
   "cell_type": "code",
   "execution_count": 20,
   "metadata": {},
   "outputs": [],
   "source": [
    "from sklearn.tree import DecisionTreeClassifier"
   ]
  },
  {
   "cell_type": "code",
   "execution_count": 21,
   "metadata": {
    "nbgrader": {
     "grade": true,
     "grade_id": "cell-748ed20b51c67fab",
     "locked": false,
     "points": 15,
     "schema_version": 2,
     "solution": true
    }
   },
   "outputs": [
    {
     "name": "stdout",
     "output_type": "stream",
     "text": [
      "Best Score:  0.6139449541284405\n",
      "Best Params:  {'max_depth': 8}\n"
     ]
    }
   ],
   "source": [
    "# Train a desicion tree on the same data\n",
    "# Find optimal tree depth (max_depth) using cross-validation.\n",
    "\n",
    "decTree = DecisionTreeClassifier(random_state=0)\n",
    "\n",
    "param_grid = {'max_depth': [1, 2, 4, 8, 16, 32, 64, 128, 25, 80]}\n",
    "grid = GridSearchCV(estimator=decTree,\n",
    "                    param_grid=param_grid, \n",
    "                    cv=5)\n",
    "grid_result = grid.fit(X_train_pca, y_train)\n",
    "\n",
    "print('Best Score: ', grid_result.best_score_)\n",
    "print('Best Params: ', grid_result.best_params_)"
   ]
  },
  {
   "cell_type": "code",
   "execution_count": 22,
   "metadata": {},
   "outputs": [
    {
     "name": "stdout",
     "output_type": "stream",
     "text": [
      "Accuracy test score:  0.632996632996633\n",
      "              precision    recall  f1-score   support\n",
      "\n",
      "         bus       0.78      0.82      0.80        76\n",
      "        opel       0.51      0.36      0.42        85\n",
      "        saab       0.42      0.51      0.46        69\n",
      "         van       0.82      0.90      0.86        67\n",
      "\n",
      "    accuracy                           0.63       297\n",
      "   macro avg       0.63      0.65      0.63       297\n",
      "weighted avg       0.63      0.63      0.63       297\n",
      "\n"
     ]
    }
   ],
   "source": [
    "# Measure the model quality using the same metrics you used above\n",
    "\n",
    "decTree = DecisionTreeClassifier(max_depth=grid_result.best_params_['max_depth'])\n",
    "\n",
    "clf = decTree.fit(X_train_pca, y_train)\n",
    "print(\"Accuracy test score: \", clf.score(X_test_pca, y_test))\n",
    "\n",
    "y_pred = decTree.predict(X_test_pca)\n",
    "print(classification_report(y_test, y_pred))"
   ]
  },
  {
   "cell_type": "markdown",
   "metadata": {
    "nbgrader": {
     "grade": false,
     "grade_id": "cell-9eadd4d8a03ae67a",
     "locked": true,
     "schema_version": 2,
     "solution": false
    }
   },
   "source": [
    "#### 2.6. Bagging.\n",
    "Here starts the ensembling part.\n",
    "\n",
    "First we will use the __Bagging__ approach. Build an ensemble of $N$ algorithms varying N from $N_{min}=2$ to $N_{max}=100$ (with step 5).\n",
    "\n",
    "We will build two ensembles: of logistic regressions and of decision trees.\n",
    "\n",
    "*Comment: each ensemble should be constructed from models of the same family, so logistic regressions should not be mixed up with decision trees.*\n",
    "\n",
    "\n",
    "*Hint 1: To build a __Bagging__ ensebmle varying the ensemble size efficiently you might generate $N_{max}$ subsets of `train` data (of the same size as the original dataset) using bootstrap procedure once. Then you train a new instance of logistic regression/decision tree with optimal hyperparameters you estimated before on each subset (so you train it from scratch). Finally, to get an ensemble of $N$ models you average the $N$ out of $N_{max}$ models predictions.*\n",
    "\n",
    "*Hint 2: sklearn might help you with this taks. Some appropriate function/class might be out there.*\n",
    "\n",
    "* Plot `f1` and `accuracy` scores plots w.r.t. the size of the ensemble.\n",
    "\n",
    "* Briefly analyse the plot. What is the optimal number of algorithms? Explain your answer.\n",
    "\n",
    "* How do you think, are the hyperparameters for the decision trees you found in 2.5 optimal for trees used in ensemble? "
   ]
  },
  {
   "cell_type": "code",
   "execution_count": 23,
   "metadata": {
    "nbgrader": {
     "grade": true,
     "grade_id": "cell-8fc95a2b206bdae1",
     "locked": false,
     "points": 35,
     "schema_version": 2,
     "solution": true
    }
   },
   "outputs": [],
   "source": [
    "from sklearn.ensemble import BaggingClassifier\n",
    "from sklearn.metrics import f1_score"
   ]
  },
  {
   "cell_type": "code",
   "execution_count": 24,
   "metadata": {},
   "outputs": [
    {
     "data": {
      "image/png": "[encoded data removed]",
      "text/plain": [
       "<Figure size 432x288 with 1 Axes>"
      ]
     },
     "metadata": {
      "needs_background": "light"
     },
     "output_type": "display_data"
    },
    {
     "data": {
      "image/png": "[encoded data removed]",
      "text/plain": [
       "<Figure size 432x288 with 1 Axes>"
      ]
     },
     "metadata": {
      "needs_background": "light"
     },
     "output_type": "display_data"
    }
   ],
   "source": [
    "# Decision tree\n",
    "\n",
    "estimators = list(range(2, 100, 5))\n",
    "accuracy = []\n",
    "f1 = []\n",
    "\n",
    "for n_estimators in estimators:\n",
    "    decTree_clf = BaggingClassifier(DecisionTreeClassifier(max_depth=grid_result.best_params_['max_depth']),\n",
    "                                   n_estimators=n_estimators)\n",
    "    decTree_clf.fit(X_train, y_train)\n",
    "    \n",
    "    acc = decTree_clf.score(X_test, y_test)\n",
    "    accuracy.append(acc)\n",
    "    \n",
    "    y_pred = decTree_clf.predict(X_test)\n",
    "    f1_sc = f1_score(y_test, y_pred, average=\"macro\")\n",
    "    f1.append(f1_sc)\n",
    "\n",
    "plt.plot(estimators, accuracy)\n",
    "plt.xlabel(\"Number of estimators\")\n",
    "plt.ylabel(\"Accuracy\")\n",
    "plt.show()\n",
    "\n",
    "plt.plot(estimators, f1)\n",
    "plt.xlabel(\"Number of estimators\")\n",
    "plt.ylabel(\"f1 score\")\n",
    "plt.show()"
   ]
  },
  {
   "cell_type": "markdown",
   "metadata": {},
   "source": [
    "Видно,что увеличение имеет форму логарифма. Имеет смысл остановиться на количестве алгоритмов = 27~30"
   ]
  },
  {
   "cell_type": "code",
   "execution_count": 26,
   "metadata": {
    "scrolled": false
   },
   "outputs": [
    {
     "data": {
      "image/png": "[encoded data removed]",
      "text/plain": [
       "<Figure size 432x288 with 1 Axes>"
      ]
     },
     "metadata": {
      "needs_background": "light"
     },
     "output_type": "display_data"
    },
    {
     "data": {
      "image/png": "[encoded data removed]",
      "text/plain": [
       "<Figure size 432x288 with 1 Axes>"
      ]
     },
     "metadata": {
      "needs_background": "light"
     },
     "output_type": "display_data"
    }
   ],
   "source": [
    "# Logistic regression\n",
    "\n",
    "logreg = LogisticRegression(multi_class='multinomial', solver='saga', tol=1e-3, max_iter=1500)\n",
    "\n",
    "estimators = list(range(2, 100, 5))\n",
    "accuracy = []\n",
    "f1 = []\n",
    "\n",
    "for n_estimators in estimators:\n",
    "    logreg_clf = BaggingClassifier(logreg,\n",
    "                                   n_estimators=n_estimators)\n",
    "    \n",
    "    logreg_clf.fit(X_train, y_train)\n",
    "    \n",
    "    acc = logreg_clf.score(X_test, y_test)\n",
    "    accuracy.append(acc)\n",
    "    \n",
    "    y_pred = logreg_clf.predict(X_test)\n",
    "    f1_sc = f1_score(y_test, y_pred, average=\"macro\")\n",
    "    f1.append(f1_sc)\n",
    "\n",
    "plt.plot(estimators, accuracy)\n",
    "plt.xlabel(\"Number of estimators\")\n",
    "plt.ylabel(\"Accuracy\")\n",
    "plt.show()\n",
    "\n",
    "\n",
    "plt.plot(estimators, f1)\n",
    "plt.xlabel(\"Number of estimators\")\n",
    "plt.ylabel(\"f1 score\")\n",
    "plt.show()"
   ]
  },
  {
   "cell_type": "markdown",
   "metadata": {},
   "source": [
    "Аналогично предыдущему, имеет смысл остановиться на количестве алгоритмов = 52~50"
   ]
  },
  {
   "cell_type": "markdown",
   "metadata": {
    "nbgrader": {
     "grade": false,
     "grade_id": "cell-241b7691ab44cbfb",
     "locked": true,
     "schema_version": 2,
     "solution": false
    }
   },
   "source": [
    "#### 2.7. Random Forest\n",
    "Now we will work with the Random Forest (its `sklearn` implementation).\n",
    "\n",
    "* * Plot `f1` and `accuracy` scores plots w.r.t. the number of trees in Random Forest.\n",
    "\n",
    "* What is the optimal number of trees you've got? Is it different from the optimal number of logistic regressions/decision trees in 2.6? Explain the results briefly."
   ]
  },
  {
   "cell_type": "code",
   "execution_count": 28,
   "metadata": {
    "nbgrader": {
     "grade": true,
     "grade_id": "cell-888755d0f3d91620",
     "locked": false,
     "points": 15,
     "schema_version": 2,
     "solution": true
    }
   },
   "outputs": [
    {
     "data": {
      "image/png": "[encoded data removed]",
      "text/plain": [
       "<Figure size 432x288 with 1 Axes>"
      ]
     },
     "metadata": {
      "needs_background": "light"
     },
     "output_type": "display_data"
    },
    {
     "data": {
      "image/png": "[encoded data removed]",
      "text/plain": [
       "<Figure size 432x288 with 1 Axes>"
      ]
     },
     "metadata": {
      "needs_background": "light"
     },
     "output_type": "display_data"
    }
   ],
   "source": [
    "from sklearn.ensemble import RandomForestClassifier\n",
    "\n",
    "num_of_trees = list(range(2, 100, 5))\n",
    "accuracy_rf = []\n",
    "f1_rf = []\n",
    "\n",
    "for n_estimators in num_of_trees:\n",
    "    random_forest_clf = RandomForestClassifier(n_estimators=n_estimators)\n",
    "    random_forest_clf.fit(X_train, y_train)\n",
    "    \n",
    "    acc = random_forest_clf.score(X_test, y_test)\n",
    "    accuracy_rf.append(acc)\n",
    "    \n",
    "    y_pred = random_forest_clf.predict(X_test)\n",
    "    f1_sc = f1_score(y_test, y_pred, average=\"macro\")\n",
    "    f1_rf.append(f1_sc)\n",
    "\n",
    "plt.plot(estimators, accuracy_rf)\n",
    "plt.xlabel(\"Number of trees\")\n",
    "plt.ylabel(\"Accuracy\")\n",
    "plt.show()\n",
    "\n",
    "plt.plot(estimators, f1_rf)\n",
    "plt.xlabel(\"Number of trees\")\n",
    "plt.ylabel(\"f1 score\")\n",
    "plt.show()"
   ]
  },
  {
   "cell_type": "markdown",
   "metadata": {},
   "source": [
    "Оптимальное число деревьев = 22. Число близко к оптимальному числу алгоритмов при сипользовании решающих деревьев,\n",
    "а довольно сильно отличается от метода, использовавшего лог.регрессию"
   ]
  },
  {
   "cell_type": "markdown",
   "metadata": {
    "nbgrader": {
     "grade": false,
     "grade_id": "cell-99191c0852538d4d",
     "locked": true,
     "schema_version": 2,
     "solution": false
    }
   },
   "source": [
    "#### 2.8. Learning curve\n",
    "Your goal is to estimate, how does the model behaviour change with the increase of the `train` dataset size.\n",
    "\n",
    "* Split the training data into 10 equal (almost) parts. Then train the models from above (Logistic regression, Desicion Tree, Random Forest) with optimal hyperparameters you have selected on 1 part, 2 parts (combined, so the train size in increased by 2 times), 3 parts and so on.\n",
    "\n",
    "* Build a plot of `accuracy` and `f1` scores on `test` part, varying the `train` dataset size (so the axes will be score - dataset size.\n",
    "\n",
    "* Analyse the final plot. Can you make any conlusions using it? "
   ]
  },
  {
   "cell_type": "code",
   "execution_count": 30,
   "metadata": {
    "nbgrader": {
     "grade": true,
     "grade_id": "cell-e39bc7e7dff61ff9",
     "locked": false,
     "points": 15,
     "schema_version": 2,
     "solution": true
    }
   },
   "outputs": [],
   "source": [
    "logreg_cf = LogisticRegression(C=20, multi_class='multinomial', solver='saga', tol=1e-3, max_iter=1000)\n",
    "decTree_cf = DecisionTreeClassifier(max_depth=64)\n",
    "rf_cf = RandomForestClassifier(n_estimators=n_estimators)"
   ]
  },
  {
   "cell_type": "code",
   "execution_count": 31,
   "metadata": {},
   "outputs": [
    {
     "name": "stdout",
     "output_type": "stream",
     "text": [
      "[ 61 122 183 244 305 366 427 488 549]\n"
     ]
    }
   ],
   "source": [
    "# Split the training data into 10 equal (almost) parts\n",
    "\n",
    "indexes = np.linspace(0, X_train.shape[0], num=10, dtype=int)[1:]\n",
    "print(indexes)"
   ]
  },
  {
   "cell_type": "code",
   "execution_count": 32,
   "metadata": {},
   "outputs": [
    {
     "data": {
      "image/png": "[encoded data removed]",
      "text/plain": [
       "<Figure size 432x288 with 1 Axes>"
      ]
     },
     "metadata": {
      "needs_background": "light"
     },
     "output_type": "display_data"
    },
    {
     "data": {
      "image/png": "[encoded data removed]",
      "text/plain": [
       "<Figure size 432x288 with 1 Axes>"
      ]
     },
     "metadata": {
      "needs_background": "light"
     },
     "output_type": "display_data"
    }
   ],
   "source": [
    "# Decision tree\n",
    "accuracy_decTree = []\n",
    "f1_decTree = []\n",
    "\n",
    "for border in indexes:\n",
    "    decTree_cf.fit(X_train[:border,], y_train[:border])\n",
    "    acc = decTree_cf.score(X_test, y_test)\n",
    "    accuracy_decTree.append(acc)\n",
    "    \n",
    "    y_pred = decTree_cf.predict(X_test)\n",
    "    f1_sc = f1_score(y_test, y_pred, average=\"macro\")\n",
    "    f1_decTree.append(f1_sc)\n",
    "\n",
    "plt.plot(indexes, accuracy_decTree)\n",
    "plt.xlabel(\"Training set size\")\n",
    "plt.ylabel(\"Accuracy\")\n",
    "plt.show()\n",
    "\n",
    "plt.plot(indexes, f1_decTree)\n",
    "plt.xlabel(\"Training set size\")\n",
    "plt.ylabel(\"f1 score\")\n",
    "plt.show()"
   ]
  },
  {
   "cell_type": "code",
   "execution_count": 33,
   "metadata": {},
   "outputs": [
    {
     "data": {
      "image/png": "[encoded data removed]",
      "text/plain": [
       "<Figure size 432x288 with 1 Axes>"
      ]
     },
     "metadata": {
      "needs_background": "light"
     },
     "output_type": "display_data"
    },
    {
     "data": {
      "image/png": "[encoded data removed]",
      "text/plain": [
       "<Figure size 432x288 with 1 Axes>"
      ]
     },
     "metadata": {
      "needs_background": "light"
     },
     "output_type": "display_data"
    }
   ],
   "source": [
    "# Logistic regression\n",
    "accuracy_logreg = []\n",
    "f1_logreg = []\n",
    "\n",
    "for border in indexes:\n",
    "    logreg_cf.fit(X_train[:border,], y_train[:border])\n",
    "    acc = logreg_cf.score(X_test, y_test)\n",
    "    accuracy_logreg.append(acc)\n",
    "    \n",
    "    y_pred = logreg_cf.predict(X_test)\n",
    "    f1_sc = f1_score(y_test, y_pred, average=\"macro\")\n",
    "    f1_logreg.append(f1_sc)\n",
    "\n",
    "plt.plot(indexes, accuracy_logreg)\n",
    "plt.xlabel(\"Training set size\")\n",
    "plt.ylabel(\"Accuracy\")\n",
    "plt.show()\n",
    "\n",
    "plt.plot(indexes, f1_logreg)\n",
    "plt.xlabel(\"Training set size\")\n",
    "plt.ylabel(\"f1 score\")\n",
    "plt.show()"
   ]
  },
  {
   "cell_type": "code",
   "execution_count": 34,
   "metadata": {},
   "outputs": [
    {
     "data": {
      "image/png": "[encoded data removed]",
      "text/plain": [
       "<Figure size 432x288 with 1 Axes>"
      ]
     },
     "metadata": {
      "needs_background": "light"
     },
     "output_type": "display_data"
    },
    {
     "data": {
      "image/png": "[encoded data removed]",
      "text/plain": [
       "<Figure size 432x288 with 1 Axes>"
      ]
     },
     "metadata": {
      "needs_background": "light"
     },
     "output_type": "display_data"
    }
   ],
   "source": [
    "# Random forest\n",
    "accuracy_rf = []\n",
    "f1_rf = []\n",
    "\n",
    "for border in indexes:\n",
    "    rf_cf.fit(X_train[:border,], y_train[:border])\n",
    "    acc = rf_cf.score(X_test, y_test)\n",
    "    accuracy_rf.append(acc)\n",
    "    \n",
    "    y_pred = rf_cf.predict(X_test)\n",
    "    f1_sc = f1_score(y_test, y_pred, average=\"macro\")\n",
    "    f1_rf.append(f1_sc)\n",
    "\n",
    "plt.plot(indexes, accuracy_rf)\n",
    "plt.xlabel(\"Training set size\")\n",
    "plt.ylabel(\"Accuracy\")\n",
    "plt.show()\n",
    "\n",
    "plt.plot(indexes, f1_rf)\n",
    "plt.xlabel(\"Training set size\")\n",
    "plt.ylabel(\"f1 score\")\n",
    "plt.show()"
   ]
  },
  {
   "cell_type": "markdown",
   "metadata": {},
   "source": [
    "Вывод: качество предсказания модели растет с ростом обучающей выборки"
   ]
  }
 ],
 "metadata": {
  "celltoolbar": "Create Assignment",
  "kernelspec": {
   "display_name": "Python 3",
   "language": "python",
   "name": "python3"
  },
  "language_info": {
   "codemirror_mode": {
    "name": "ipython",
    "version": 3
   },
   "file_extension": ".py",
   "mimetype": "text/x-python",
   "name": "python",
   "nbconvert_exporter": "python",
   "pygments_lexer": "ipython3",
   "version": "3.8.5"
  },
  "toc": {
   "base_numbering": 1,
   "nav_menu": {},
   "number_sections": false,
   "sideBar": true,
   "skip_h1_title": false,
   "title_cell": "Table of Contents",
   "title_sidebar": "Contents",
   "toc_cell": false,
   "toc_position": {},
   "toc_section_display": true,
   "toc_window_display": false
  }
 },
 "nbformat": 4,
 "nbformat_minor": 2
}
