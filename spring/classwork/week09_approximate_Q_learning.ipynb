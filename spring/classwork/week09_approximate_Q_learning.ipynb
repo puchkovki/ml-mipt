{
  "nbformat": 4,
  "nbformat_minor": 0,
  "metadata": {
    "anaconda-cloud": {},
    "kernelspec": {
      "display_name": "Python 3",
      "language": "python",
      "name": "python3"
    },
    "language_info": {
      "codemirror_mode": {
        "name": "ipython",
        "version": 3
      },
      "file_extension": ".py",
      "mimetype": "text/x-python",
      "name": "python",
      "nbconvert_exporter": "python",
      "pygments_lexer": "ipython3",
      "version": "3.7.3"
    },
    "colab": {
      "name": "week09_approximate_Q_learning.ipynb",
      "provenance": []
    },
    "accelerator": "GPU"
  },
  "cells": [
    {
      "cell_type": "markdown",
      "metadata": {
        "id": "OIe6XoZbQoac"
      },
      "source": [
        "## week09: approximate q-learning\n",
        "_Reference: based on Practical RL_ [week04](https://github.com/yandexdataschool/Practical_RL/tree/master/week04_approx_rl)\n",
        "\n",
        "\n",
        "In this notebook you will teach a __pytorch__ neural network to do Q-learning."
      ]
    },
    {
      "cell_type": "code",
      "metadata": {
        "id": "aOjDHj1GQoat",
        "outputId": "775ed50f-0a40-4b27-89a1-44fca1abc0ec",
        "colab": {
          "base_uri": "https://localhost:8080/"
        }
      },
      "source": [
        "# # in google colab uncomment this\n",
        "\n",
        "import os\n",
        "\n",
        "os.system('apt-get install -y xvfb')\n",
        "os.system('wget https://raw.githubusercontent.com/yandexdataschool/Practical_DL/fall18/xvfb -O ../xvfb')\n",
        "os.system('apt-get install -y python-opengl ffmpeg')\n",
        "\n",
        "# XVFB will be launched if you run on a server\n",
        "import os\n",
        "if type(os.environ.get(\"DISPLAY\")) is not str or len(os.environ.get(\"DISPLAY\")) == 0:\n",
        "    !bash ../xvfb start\n",
        "    %env DISPLAY = : 1"
      ],
      "execution_count": 1,
      "outputs": [
        {
          "output_type": "stream",
          "text": [
            "Starting virtual X frame buffer: Xvfb.\n",
            "env: DISPLAY=: 1\n"
          ],
          "name": "stdout"
        }
      ]
    },
    {
      "cell_type": "code",
      "metadata": {
        "id": "eQA7bkA5Qoav"
      },
      "source": [
        "import gym\n",
        "import numpy as np\n",
        "import pandas as pd\n",
        "import matplotlib.pyplot as plt\n",
        "%matplotlib inline"
      ],
      "execution_count": 2,
      "outputs": []
    },
    {
      "cell_type": "code",
      "metadata": {
        "scrolled": false,
        "id": "IAPoU8SWQoaw",
        "outputId": "0cdc50ba-49b2-409b-b7e1-f62321f4bbdd",
        "colab": {
          "base_uri": "https://localhost:8080/",
          "height": 269
        }
      },
      "source": [
        "env = gym.make(\"CartPole-v0\").env\n",
        "env.reset()\n",
        "n_actions = env.action_space.n\n",
        "state_dim = env.observation_space.shape\n",
        "\n",
        "plt.imshow(env.render(\"rgb_array\"))\n",
        "env.close()"
      ],
      "execution_count": 3,
      "outputs": [
        {
          "output_type": "display_data",
          "data": {
            "image/png": "[encoded data removed]",
            "text/plain": [
              "<Figure size 432x288 with 1 Axes>"
            ]
          },
          "metadata": {
            "tags": [],
            "needs_background": "light"
          }
        }
      ]
    },
    {
      "cell_type": "code",
      "metadata": {
        "id": "K0p9uaiuRJFu",
        "outputId": "04265c25-bc7e-4262-fb3b-59e1ca4bab4e",
        "colab": {
          "base_uri": "https://localhost:8080/"
        }
      },
      "source": [
        "s = env.reset()\n",
        "print(s)"
      ],
      "execution_count": 4,
      "outputs": [
        {
          "output_type": "stream",
          "text": [
            "[ 0.01220806 -0.00982639 -0.04166393 -0.02032925]\n"
          ],
          "name": "stdout"
        }
      ]
    },
    {
      "cell_type": "markdown",
      "metadata": {
        "id": "8FVctWsmQoax"
      },
      "source": [
        "# Approximate Q-learning: building the network\n",
        "\n",
        "To train a neural network policy one must have a neural network policy. Let's build it.\n",
        "\n",
        "\n",
        "Since we're working with a pre-extracted features (cart positions, angles and velocities), we don't need a complicated network yet. In fact, let's build something like this for starters:\n",
        "\n",
        "![img](https://raw.githubusercontent.com/yandexdataschool/Practical_RL/spring19/yet_another_week/_resource/qlearning_scheme.png)\n",
        "\n",
        "For your first run, please only use linear layers (nn.Linear) and activations. Stuff like batch normalization or dropout may ruin everything if used haphazardly. \n",
        "\n",
        "Also please avoid using nonlinearities like sigmoid & tanh: agent's observations are not normalized so sigmoids may become saturated from init.\n",
        "\n",
        "Ideally you should start small with maybe 1-2 hidden layers with < 200 neurons and then increase network size if agent doesn't beat the target score."
      ]
    },
    {
      "cell_type": "code",
      "metadata": {
        "id": "rMsbkDehQoay"
      },
      "source": [
        "import torch\n",
        "import torch.nn as nn\n",
        "import torch.nn.functional as F"
      ],
      "execution_count": 5,
      "outputs": []
    },
    {
      "cell_type": "code",
      "metadata": {
        "id": "ENwpz4G4Qoay"
      },
      "source": [
        "network = nn.Sequential()\n",
        "\n",
        "network.add_module('layer1', nn.Linear(state_dim[0], 32))\n",
        "network.add_module('relur1', nn.ReLU())\n",
        "network.add_module('layer2', nn.Linear(32, 64))\n",
        "network.add_module('relur2', nn.ReLU())\n",
        "network.add_module('output', nn.Linear(64, n_actions))\n",
        "\n",
        "# hint: use state_dim[0] as input size"
      ],
      "execution_count": 6,
      "outputs": []
    },
    {
      "cell_type": "code",
      "metadata": {
        "id": "VaFZdVedQoaz"
      },
      "source": [
        "def get_action(state, epsilon=0):\n",
        "    \"\"\"\n",
        "    sample actions with epsilon-greedy policy\n",
        "    recap: with p = epsilon pick random action, else pick action with highest Q(s,a)\n",
        "    \"\"\"\n",
        "    state = torch.tensor(state[None], dtype=torch.float32)\n",
        "    q_values = network(state).detach().numpy()\n",
        "\n",
        "    if np.random.random() < epsilon:\n",
        "      chosen_action = np.random.choice(np.arange(n_actions))\n",
        "    else:\n",
        "      chosen_action = np.argmax(q_values)\n",
        "\n",
        "\n",
        "    return int(chosen_action)"
      ],
      "execution_count": 7,
      "outputs": []
    },
    {
      "cell_type": "code",
      "metadata": {
        "id": "1Fyjl9F5Qoa0",
        "outputId": "cf0438c9-95e5-47e7-810d-777ccb221d96",
        "colab": {
          "base_uri": "https://localhost:8080/"
        }
      },
      "source": [
        "s = env.reset()\n",
        "assert tuple(network(torch.tensor([s]*3, dtype=torch.float32)).size()) == (\n",
        "    3, n_actions), \"please make sure your model maps state s -> [Q(s,a0), ..., Q(s, a_last)]\"\n",
        "assert isinstance(list(network.modules(\n",
        "))[-1], nn.Linear), \"please make sure you predict q-values without nonlinearity (ignore if you know what you're doing)\"\n",
        "assert isinstance(get_action(\n",
        "    s), int), \"get_action(s) must return int, not %s. try int(action)\" % (type(get_action(s)))\n",
        "\n",
        "# test epsilon-greedy exploration\n",
        "for eps in [0., 0.1, 0.5, 1.0]:\n",
        "    state_frequencies = np.bincount(\n",
        "        [get_action(s, epsilon=eps) for i in range(10000)], minlength=n_actions)\n",
        "    best_action = state_frequencies.argmax()\n",
        "    assert abs(state_frequencies[best_action] -\n",
        "               10000 * (1 - eps + eps / n_actions)) < 200\n",
        "    for other_action in range(n_actions):\n",
        "        if other_action != best_action:\n",
        "            assert abs(state_frequencies[other_action] -\n",
        "                       10000 * (eps / n_actions)) < 200\n",
        "    print('e=%.1f tests passed' % eps)"
      ],
      "execution_count": 8,
      "outputs": [
        {
          "output_type": "stream",
          "text": [
            "e=0.0 tests passed\n",
            "e=0.1 tests passed\n",
            "e=0.5 tests passed\n",
            "e=1.0 tests passed\n"
          ],
          "name": "stdout"
        }
      ]
    },
    {
      "cell_type": "markdown",
      "metadata": {
        "id": "WMq9z-qBQoa1"
      },
      "source": [
        "### Q-learning via gradient descent\n",
        "\n",
        "We shall now train our agent's Q-function by minimizing the TD loss:\n",
        "$$ L = { 1 \\over N} \\sum_i (Q_{\\theta}(s,a) - [r(s,a) + \\gamma \\cdot max_{a'} Q_{-}(s', a')]) ^2 $$\n",
        "\n",
        "\n",
        "Where\n",
        "* $s, a, r, s'$ are current state, action, reward and next state respectively\n",
        "* $\\gamma$ is a discount factor defined two cells above.\n",
        "\n",
        "The tricky part is with  $Q_{-}(s',a')$. From an engineering standpoint, it's the same as $Q_{\\theta}$ - the output of your neural network policy. However, when doing gradient descent, __we won't propagate gradients through it__ to make training more stable (see lectures).\n",
        "\n",
        "To do so, we shall use `x.detach()` function which basically says \"consider this thing constant when doingbackprop\"."
      ]
    },
    {
      "cell_type": "code",
      "metadata": {
        "id": "PewTyWYVQoa2"
      },
      "source": [
        "def to_one_hot(y_tensor, n_dims=None):\n",
        "    \"\"\" helper: take an integer vector and convert it to 1-hot matrix. \"\"\"\n",
        "    y_tensor = y_tensor.type(torch.LongTensor).view(-1, 1)\n",
        "    n_dims = n_dims if n_dims is not None else int(torch.max(y_tensor)) + 1\n",
        "    y_one_hot = torch.zeros(\n",
        "        y_tensor.size()[0], n_dims).scatter_(1, y_tensor, 1)\n",
        "    return y_one_hot\n",
        "\n",
        "\n",
        "def where(cond, x_1, x_2):\n",
        "    \"\"\" helper: like np.where but in pytorch. \"\"\"\n",
        "    return (cond * x_1) + ((1-cond) * x_2)"
      ],
      "execution_count": 9,
      "outputs": []
    },
    {
      "cell_type": "code",
      "metadata": {
        "id": "NNsmXAvcQoa3"
      },
      "source": [
        "def compute_td_loss(states, actions, rewards, next_states, is_done, gamma=0.99, check_shapes=False):\n",
        "    \"\"\" Compute td loss using torch operations only. Use the formula above. \"\"\"\n",
        "    states = torch.tensor(\n",
        "        states, dtype=torch.float32)    # shape: [batch_size, state_size]\n",
        "    actions = torch.tensor(actions, dtype=torch.int32)    # shape: [batch_size]\n",
        "    rewards = torch.tensor(rewards, dtype=torch.float32)  # shape: [batch_size]\n",
        "    # shape: [batch_size, state_size]\n",
        "    next_states = torch.tensor(next_states, dtype=torch.float32)\n",
        "    is_done = torch.tensor(is_done, dtype=torch.float32)  # shape: [batch_size]\n",
        "\n",
        "    # get q-values for all actions in current states\n",
        "    predicted_qvalues = network(states)\n",
        "\n",
        "    # select q-values for chosen actions\n",
        "    predicted_qvalues_for_actions = torch.sum(\n",
        "        predicted_qvalues * to_one_hot(actions, n_actions), dim=1)\n",
        "\n",
        "    # compute q-values for all actions in next states\n",
        "    # detach, чтобы считать Q_ константой (иначе все сломается из-за неправильного дифференцирования)\n",
        "    predicted_next_qvalues =  network(next_states).detach()\n",
        "\n",
        "    # compute V*(next_states) using predicted next q-values\n",
        "    next_state_values, _ = torch.max(predicted_next_qvalues, dim=1)\n",
        "    assert next_state_values.dtype == torch.float32\n",
        "\n",
        "    # compute \"target q-values\" for loss - it's what's inside square parentheses in the above formula.\n",
        "    target_qvalues_for_actions = rewards + gamma*next_state_values\n",
        "\n",
        "    # at the last state we shall use simplified formula: Q(s,a) = r(s,a) since s' doesn't exist\n",
        "    target_qvalues_for_actions = where(\n",
        "        is_done, rewards, target_qvalues_for_actions)\n",
        "\n",
        "    # mean squared error loss to minimize\n",
        "    loss = torch.mean((predicted_qvalues_for_actions -\n",
        "                       target_qvalues_for_actions.detach()) ** 2)\n",
        "\n",
        "    if check_shapes:\n",
        "        assert predicted_next_qvalues.data.dim(\n",
        "        ) == 2, \"make sure you predicted q-values for all actions in next state\"\n",
        "        assert next_state_values.data.dim(\n",
        "        ) == 1, \"make sure you computed V(s') as maximum over just the actions axis and not all axes\"\n",
        "        assert target_qvalues_for_actions.data.dim(\n",
        "        ) == 1, \"there's something wrong with target q-values, they must be a vector\"\n",
        "\n",
        "    return loss"
      ],
      "execution_count": 11,
      "outputs": []
    },
    {
      "cell_type": "code",
      "metadata": {
        "id": "_qwOoRdYQoa6"
      },
      "source": [
        "# sanity checks\n",
        "s = env.reset()\n",
        "a = env.action_space.sample()\n",
        "next_s, r, done, _ = env.step(a)\n",
        "loss = compute_td_loss([s], [a], [r], [next_s], [done], check_shapes=True)\n",
        "loss.backward()\n",
        "\n",
        "assert len(loss.size()) == 0, \"you must return scalar loss - mean over batch\"\n",
        "assert np.any(next(network.parameters()).grad.detach().numpy() !=\n",
        "              0), \"loss must be differentiable w.r.t. network weights\""
      ],
      "execution_count": 12,
      "outputs": []
    },
    {
      "cell_type": "markdown",
      "metadata": {
        "id": "QnB3dNcNQoa8"
      },
      "source": [
        "### Playing the game"
      ]
    },
    {
      "cell_type": "code",
      "metadata": {
        "id": "nmfF_9u1Qoa9"
      },
      "source": [
        "opt = torch.optim.Adam(network.parameters(), lr=1e-4)\n",
        "epsilon = 0.5"
      ],
      "execution_count": 13,
      "outputs": []
    },
    {
      "cell_type": "code",
      "metadata": {
        "id": "JKac-xrSQoa-"
      },
      "source": [
        "def generate_session(t_max=1000, epsilon=0, train=False):\n",
        "    \"\"\"play env with approximate q-learning agent and train it at the same time\"\"\"\n",
        "    total_reward = 0\n",
        "    s = env.reset()\n",
        "\n",
        "    for t in range(t_max):\n",
        "        a = get_action(s, epsilon=epsilon)\n",
        "        next_s, r, done, _ = env.step(a)\n",
        "\n",
        "        if train:\n",
        "            opt.zero_grad()\n",
        "            compute_td_loss([s], [a], [r], [next_s], [done]).backward()\n",
        "            opt.step()\n",
        "\n",
        "        total_reward += r\n",
        "        s = next_s\n",
        "        if done:\n",
        "            break\n",
        "\n",
        "    return total_reward"
      ],
      "execution_count": 14,
      "outputs": []
    },
    {
      "cell_type": "code",
      "metadata": {
        "scrolled": true,
        "id": "uyglW92TQoa_",
        "outputId": "0bc93767-312a-49df-de7f-f9d34f7823d9",
        "colab": {
          "base_uri": "https://localhost:8080/"
        }
      },
      "source": [
        "for i in range(1000):\n",
        "    session_rewards = [generate_session(\n",
        "        epsilon=epsilon, train=True) for _ in range(100)]\n",
        "    print(\"epoch #{}\\tmean reward = {:.3f}\\tepsilon = {:.3f}\".format(\n",
        "        i, np.mean(session_rewards), epsilon))\n",
        "\n",
        "    epsilon *= 0.99\n",
        "    assert epsilon >= 1e-4, \"Make sure epsilon is always nonzero during training\"\n",
        "\n",
        "    if np.mean(session_rewards) > 300:\n",
        "        print(\"You Win!\")\n",
        "        break"
      ],
      "execution_count": 15,
      "outputs": [
        {
          "output_type": "stream",
          "text": [
            "epoch #0\tmean reward = 13.460\tepsilon = 0.500\n",
            "epoch #1\tmean reward = 13.760\tepsilon = 0.495\n",
            "epoch #2\tmean reward = 14.970\tepsilon = 0.490\n",
            "epoch #3\tmean reward = 13.590\tepsilon = 0.485\n",
            "epoch #4\tmean reward = 15.150\tepsilon = 0.480\n",
            "epoch #5\tmean reward = 13.420\tepsilon = 0.475\n",
            "epoch #6\tmean reward = 13.220\tepsilon = 0.471\n",
            "epoch #7\tmean reward = 13.410\tepsilon = 0.466\n",
            "epoch #8\tmean reward = 13.940\tepsilon = 0.461\n",
            "epoch #9\tmean reward = 13.630\tepsilon = 0.457\n",
            "epoch #10\tmean reward = 18.500\tepsilon = 0.452\n",
            "epoch #11\tmean reward = 19.000\tepsilon = 0.448\n",
            "epoch #12\tmean reward = 25.370\tepsilon = 0.443\n",
            "epoch #13\tmean reward = 24.240\tepsilon = 0.439\n",
            "epoch #14\tmean reward = 25.450\tepsilon = 0.434\n",
            "epoch #15\tmean reward = 30.530\tepsilon = 0.430\n",
            "epoch #16\tmean reward = 40.190\tepsilon = 0.426\n",
            "epoch #17\tmean reward = 35.300\tepsilon = 0.421\n",
            "epoch #18\tmean reward = 44.000\tepsilon = 0.417\n",
            "epoch #19\tmean reward = 57.380\tepsilon = 0.413\n",
            "epoch #20\tmean reward = 55.200\tepsilon = 0.409\n",
            "epoch #21\tmean reward = 83.130\tepsilon = 0.405\n",
            "epoch #22\tmean reward = 86.830\tepsilon = 0.401\n",
            "epoch #23\tmean reward = 113.930\tepsilon = 0.397\n",
            "epoch #24\tmean reward = 115.830\tepsilon = 0.393\n",
            "epoch #25\tmean reward = 112.530\tepsilon = 0.389\n",
            "epoch #26\tmean reward = 142.480\tepsilon = 0.385\n",
            "epoch #27\tmean reward = 179.560\tepsilon = 0.381\n",
            "epoch #28\tmean reward = 213.720\tepsilon = 0.377\n",
            "epoch #29\tmean reward = 242.610\tepsilon = 0.374\n",
            "epoch #30\tmean reward = 238.160\tepsilon = 0.370\n",
            "epoch #31\tmean reward = 272.470\tepsilon = 0.366\n",
            "epoch #32\tmean reward = 83.690\tepsilon = 0.362\n",
            "epoch #33\tmean reward = 168.760\tepsilon = 0.359\n",
            "epoch #34\tmean reward = 268.730\tepsilon = 0.355\n",
            "epoch #35\tmean reward = 155.130\tepsilon = 0.352\n",
            "epoch #36\tmean reward = 203.720\tepsilon = 0.348\n",
            "epoch #37\tmean reward = 218.560\tepsilon = 0.345\n",
            "epoch #38\tmean reward = 236.020\tepsilon = 0.341\n",
            "epoch #39\tmean reward = 229.940\tepsilon = 0.338\n",
            "epoch #40\tmean reward = 270.100\tepsilon = 0.334\n",
            "epoch #41\tmean reward = 245.120\tepsilon = 0.331\n",
            "epoch #42\tmean reward = 171.680\tepsilon = 0.328\n",
            "epoch #43\tmean reward = 263.050\tepsilon = 0.325\n",
            "epoch #44\tmean reward = 288.640\tepsilon = 0.321\n",
            "epoch #45\tmean reward = 346.680\tepsilon = 0.318\n",
            "You Win!\n"
          ],
          "name": "stdout"
        }
      ]
    },
    {
      "cell_type": "markdown",
      "metadata": {
        "id": "UgzNCHYUQobA"
      },
      "source": [
        "### How to interpret results\n",
        "\n",
        "\n",
        "Welcome to the f.. world of deep f...n reinforcement learning. Don't expect agent's reward to smoothly go up. Hope for it to go increase eventually. If it deems you worthy.\n",
        "\n",
        "Seriously though,\n",
        "* __ mean reward__ is the average reward per game. For a correct implementation it may stay low for some 10 epochs, then start growing while oscilating insanely and converges by ~50-100 steps depending on the network architecture. \n",
        "* If it never reaches target score by the end of for loop, try increasing the number of hidden neurons or look at the epsilon.\n",
        "* __ epsilon__ - agent's willingness to explore. If you see that agent's already at < 0.01 epsilon before it's is at least 200, just reset it back to 0.1 - 0.5."
      ]
    },
    {
      "cell_type": "markdown",
      "metadata": {
        "id": "aced4xIyQobB"
      },
      "source": [
        "### Record videos\n",
        "\n",
        "As usual, we now use `gym.wrappers.Monitor` to record a video of our agent playing the game. Unlike our previous attempts with state binarization, this time we expect our agent to act ~~(or fail)~~ more smoothly since there's no more binarization error at play.\n",
        "\n",
        "As you already did with tabular q-learning, we set epsilon=0 for final evaluation to prevent agent from exploring himself to death."
      ]
    },
    {
      "cell_type": "code",
      "metadata": {
        "scrolled": true,
        "id": "SYz9aPeFQobD"
      },
      "source": [
        "# record sessions\n",
        "import gym.wrappers\n",
        "env = gym.wrappers.Monitor(gym.make(\"CartPole-v0\"),\n",
        "                           directory=\"videos\", force=True)\n",
        "sessions = [generate_session(epsilon=0, train=False) for _ in range(500)]\n",
        "env.close()"
      ],
      "execution_count": 24,
      "outputs": []
    },
    {
      "cell_type": "code",
      "metadata": {
        "id": "p7m-G3RrQobF",
        "outputId": "5d2da2a6-3f48-47fb-b974-d0236ecc9321",
        "colab": {
          "base_uri": "https://localhost:8080/",
          "height": 501
        }
      },
      "source": [
        "# Show video. This may not work in some setups. If it doesn't\n",
        "# work for you, you can download the videos and view them locally.\n",
        "\n",
        "import sys\n",
        "from pathlib import Path\n",
        "from base64 import b64encode\n",
        "from IPython.display import HTML\n",
        "\n",
        "video_paths = sorted([s for s in Path('videos').iterdir() if s.suffix == '.mp4'])\n",
        "video_path = video_paths[-3]  # You can also try other indices\n",
        "\n",
        "if 'google.colab' in sys.modules:\n",
        "    # https://stackoverflow.com/a/57378660/1214547\n",
        "    with video_path.open('rb') as fp:\n",
        "        mp4 = fp.read()\n",
        "    data_url = 'data:video/mp4;base64,' + b64encode(mp4).decode()\n",
        "else:\n",
        "    data_url = str(video_path)\n",
        "\n",
        "HTML(\"\"\"\n",
        "<video width=\"640\" height=\"480\" controls>\n",
        "  <source src=\"{}\" type=\"video/mp4\">\n",
        "</video>\n",
        "\"\"\".format(data_url))"
      ],
      "execution_count": 25,
      "outputs": [
        {
          "output_type": "execute_result",
          "data": {
            "text/html": [
              "\n",
              "<video width=\"640\" height=\"480\" controls>\n",
              "  <source src=\"data:video/mp4;base64,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\" type=\"video/mp4\">\n",
              "</video>\n"
            ],
            "text/plain": [
              "<IPython.core.display.HTML object>"
            ]
          },
          "metadata": {
            "tags": []
          },
          "execution_count": 25
        }
      ]
    }
  ]
}