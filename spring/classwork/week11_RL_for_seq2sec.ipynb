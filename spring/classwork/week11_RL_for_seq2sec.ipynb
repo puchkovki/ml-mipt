{
  "nbformat": 4,
  "nbformat_minor": 0,
  "metadata": {
    "kernelspec": {
      "display_name": "py3_research env",
      "language": "python",
      "name": "py3_research"
    },
    "language_info": {
      "codemirror_mode": {
        "name": "ipython",
        "version": 3
      },
      "file_extension": ".py",
      "mimetype": "text/x-python",
      "name": "python",
      "nbconvert_exporter": "python",
      "pygments_lexer": "ipython3",
      "version": "3.8.1"
    },
    "colab": {
      "name": "week11_RL_for_seq2sec.ipynb",
      "provenance": []
    },
    "accelerator": "GPU"
  },
  "cells": [
    {
      "cell_type": "markdown",
      "metadata": {
        "id": "56Qz6jK2mIEj"
      },
      "source": [
        "# week11: Self-critical Sequence Training\n",
        "_Reference: based on Practical RL_ [week07](https://github.com/yandexdataschool/Practical_RL/blob/master/week07_seq2seq)\n",
        "\n",
        "This time we'll solve a problem of transribing hebrew words in english, also known as g2p (grapheme2phoneme)\n",
        "\n",
        " * word (sequence of letters in source language) -> translation (sequence of letters in target language)\n",
        "\n",
        "Unlike what most deep learning practicioners do, we won't only train it to maximize likelihood of correct translation, but also employ reinforcement learning to actually teach it to translate with as few errors as possible.\n",
        "\n",
        "\n",
        "### About the task\n",
        "\n",
        "One notable property of Hebrew is that it's consonant language. That is, there are no wovels in the written language. One could represent wovels with diacritics above consonants, but you don't expect people to do that in everyay life.\n",
        "\n",
        "Therefore, some hebrew characters will correspond to several english letters and others - to none, so we should use encoder-decoder architecture to figure that out.\n",
        "\n",
        "![img](https://esciencegroup.files.wordpress.com/2016/03/seq2seq.jpg)\n",
        "_(img: esciencegroup.files.wordpress.com)_\n",
        "\n",
        "Encoder-decoder architectures are about converting anything to anything, including\n",
        " * Machine translation and spoken dialogue systems\n",
        " * [Image captioning](http://mscoco.org/dataset/#captions-challenge2015) and [image2latex](https://htmlpreview.github.io/?https://github.com/openai/requests-for-research/blob/master/_requests_for_research/im2latex.html) (convolutional encoder, recurrent decoder)\n",
        " * Generating [images by captions](https://arxiv.org/abs/1511.02793) (recurrent encoder, convolutional decoder)\n",
        " * Grapheme2phoneme - convert words to transcripts\n",
        "  \n",
        "We chose simplified __Hebrew->English__ machine translation for words and short phrases (character-level), as it is relatively quick to train even without a gpu cluster."
      ]
    },
    {
      "cell_type": "code",
      "metadata": {
        "id": "odmCP-B1moKu"
      },
      "source": [
        "!rm basic_model_torch.py\n",
        "!rm main_dataset.txt\n",
        "!rm voc.py"
      ],
      "execution_count": 3,
      "outputs": []
    },
    {
      "cell_type": "code",
      "metadata": {
        "id": "EJxN_YUymIE7",
        "outputId": "01ee9e55-0fe1-4d07-efd3-8e2dee9f49ed",
        "colab": {
          "base_uri": "https://localhost:8080/"
        }
      },
      "source": [
        "# # if running in colab, uncomment\n",
        "!wget https://raw.githubusercontent.com/girafe-ai/ml-mipt/advanced_s21/week1_11_RL_outside_games/basic_model_torch.py -O basic_model_torch.py -nc\n",
        "!wget https://raw.githubusercontent.com/girafe-ai/ml-mipt/advanced_s21/week1_11_RL_outside_games/main_dataset.txt -O main_dataset.txt -nc\n",
        "!wget https://raw.githubusercontent.com/girafe-ai/ml-mipt/advanced_s21/week1_11_RL_outside_games/voc.py -O voc.py -nc\n",
        "# !pip install nltk editdistance"
      ],
      "execution_count": 4,
      "outputs": [
        {
          "output_type": "stream",
          "text": [
            "--2021-04-26 14:35:09--  https://raw.githubusercontent.com/girafe-ai/ml-mipt/advanced_s21/week1_11_RL_outside_games/basic_model_torch.py\n",
            "Resolving raw.githubusercontent.com (raw.githubusercontent.com)... 185.199.111.133, 185.199.110.133, 185.199.109.133, ...\n",
            "Connecting to raw.githubusercontent.com (raw.githubusercontent.com)|185.199.111.133|:443... connected.\n",
            "HTTP request sent, awaiting response... 200 OK\n",
            "Length: 7054 (6.9K) [text/plain]\n",
            "Saving to: ‘basic_model_torch.py’\n",
            "\n",
            "\rbasic_model_torch.p   0%[                    ]       0  --.-KB/s               \rbasic_model_torch.p 100%[===================>]   6.89K  --.-KB/s    in 0s      \n",
            "\n",
            "2021-04-26 14:35:09 (57.0 MB/s) - ‘basic_model_torch.py’ saved [7054/7054]\n",
            "\n",
            "--2021-04-26 14:35:09--  https://raw.githubusercontent.com/girafe-ai/ml-mipt/advanced_s21/week1_11_RL_outside_games/main_dataset.txt\n",
            "Resolving raw.githubusercontent.com (raw.githubusercontent.com)... 185.199.109.133, 185.199.108.133, 185.199.111.133, ...\n",
            "Connecting to raw.githubusercontent.com (raw.githubusercontent.com)|185.199.109.133|:443... connected.\n",
            "HTTP request sent, awaiting response... 200 OK\n",
            "Length: 8608230 (8.2M) [text/plain]\n",
            "Saving to: ‘main_dataset.txt’\n",
            "\n",
            "main_dataset.txt    100%[===================>]   8.21M  54.6MB/s    in 0.2s    \n",
            "\n",
            "2021-04-26 14:35:10 (54.6 MB/s) - ‘main_dataset.txt’ saved [8608230/8608230]\n",
            "\n",
            "--2021-04-26 14:35:10--  https://raw.githubusercontent.com/girafe-ai/ml-mipt/advanced_s21/week1_11_RL_outside_games/voc.py\n",
            "Resolving raw.githubusercontent.com (raw.githubusercontent.com)... 185.199.111.133, 185.199.109.133, 185.199.110.133, ...\n",
            "Connecting to raw.githubusercontent.com (raw.githubusercontent.com)|185.199.111.133|:443... connected.\n",
            "HTTP request sent, awaiting response... 200 OK\n",
            "Length: 2581 (2.5K) [text/plain]\n",
            "Saving to: ‘voc.py’\n",
            "\n",
            "voc.py              100%[===================>]   2.52K  --.-KB/s    in 0s      \n",
            "\n",
            "2021-04-26 14:35:10 (31.7 MB/s) - ‘voc.py’ saved [2581/2581]\n",
            "\n"
          ],
          "name": "stdout"
        }
      ]
    },
    {
      "cell_type": "code",
      "metadata": {
        "id": "rFTjs8g6mIFA"
      },
      "source": [
        "# If True, only translates phrases shorter than 20 characters (way easier).\n",
        "EASY_MODE = True\n",
        "# Useful for initial coding.\n",
        "# If false, works with all phrases (please switch to this mode for homework assignment)\n",
        "\n",
        "# way we translate. Either \"he-to-en\" or \"en-to-he\"\n",
        "MODE = \"he-to-en\"\n",
        "# maximal length of _generated_ output, does not affect training\n",
        "MAX_OUTPUT_LENGTH = 50 if not EASY_MODE else 20\n",
        "REPORT_FREQ = 100                          # how often to evaluate validation score"
      ],
      "execution_count": 5,
      "outputs": []
    },
    {
      "cell_type": "markdown",
      "metadata": {
        "id": "jmQqVplPmIFB"
      },
      "source": [
        "### Step 1: preprocessing\n",
        "\n",
        "We shall store dataset as a dictionary\n",
        "`{ word1:[translation1,translation2,...], word2:[...],...}`.\n",
        "\n",
        "This is mostly due to the fact that many words have several correct translations.\n",
        "\n",
        "We have implemented this thing for you so that you can focus on more interesting parts.\n",
        "\n",
        "\n",
        "__Attention python2 users!__ You may want to cast everything to unicode later during homework phase, just make sure you do it _everywhere_."
      ]
    },
    {
      "cell_type": "code",
      "metadata": {
        "id": "u8rrPpzJmIFD",
        "outputId": "779b244c-1c6b-4124-8fbe-b6e1a1cc2e12",
        "colab": {
          "base_uri": "https://localhost:8080/"
        }
      },
      "source": [
        "import numpy as np\n",
        "from collections import defaultdict\n",
        "word_to_translation = defaultdict(list)  # our dictionary\n",
        "\n",
        "bos = '_'\n",
        "eos = ';'\n",
        "\n",
        "with open(\"main_dataset.txt\", encoding=\"utf-8\") as fin:\n",
        "    for line in fin:\n",
        "\n",
        "        en, he = line[:-1].lower().replace(bos, ' ').replace(eos,\n",
        "                                                             ' ').split('\\t')\n",
        "        word, trans = (he, en) if MODE == 'he-to-en' else (en, he)\n",
        "\n",
        "        if len(word) < 3:\n",
        "            continue\n",
        "        if EASY_MODE:\n",
        "            if max(len(word), len(trans)) > 20:\n",
        "                continue\n",
        "\n",
        "        word_to_translation[word].append(trans)\n",
        "\n",
        "print(\"size = \", len(word_to_translation))"
      ],
      "execution_count": 6,
      "outputs": [
        {
          "output_type": "stream",
          "text": [
            "size =  130113\n"
          ],
          "name": "stdout"
        }
      ]
    },
    {
      "cell_type": "code",
      "metadata": {
        "id": "KouoP2UAmIFF"
      },
      "source": [
        "# get all unique lines in source language\n",
        "all_words = np.array(list(word_to_translation.keys()))\n",
        "# get all unique lines in translation language\n",
        "all_translations = np.array(\n",
        "    [ts for all_ts in word_to_translation.values() for ts in all_ts])"
      ],
      "execution_count": 7,
      "outputs": []
    },
    {
      "cell_type": "markdown",
      "metadata": {
        "id": "ZMC2rMEvmIFG"
      },
      "source": [
        "### split the dataset\n",
        "\n",
        "We hold out 10% of all words to be used for validation.\n"
      ]
    },
    {
      "cell_type": "code",
      "metadata": {
        "id": "GM0bv6iGmIFH"
      },
      "source": [
        "from sklearn.model_selection import train_test_split\n",
        "train_words, test_words = train_test_split(\n",
        "    all_words, test_size=0.1, random_state=42)"
      ],
      "execution_count": 8,
      "outputs": []
    },
    {
      "cell_type": "code",
      "metadata": {
        "id": "aLHRBZoJmIFI",
        "outputId": "6df77513-99f4-4712-fa70-fbbe61b89406",
        "colab": {
          "base_uri": "https://localhost:8080/"
        }
      },
      "source": [
        "len(test_words)"
      ],
      "execution_count": 9,
      "outputs": [
        {
          "output_type": "execute_result",
          "data": {
            "text/plain": [
              "13012"
            ]
          },
          "metadata": {
            "tags": []
          },
          "execution_count": 9
        }
      ]
    },
    {
      "cell_type": "markdown",
      "metadata": {
        "id": "FMF8aTQjmIFP"
      },
      "source": [
        "### Building vocabularies\n",
        "\n",
        "We now need to build vocabularies that map strings to token ids and vice versa. We're gonna need these fellas when we feed training data into model or convert output matrices into english words."
      ]
    },
    {
      "cell_type": "code",
      "metadata": {
        "id": "lt1weTLfmIFQ"
      },
      "source": [
        "from voc import Vocab\n",
        "inp_voc = Vocab.from_lines(''.join(all_words), bos=bos, eos=eos, sep='')\n",
        "out_voc = Vocab.from_lines(''.join(all_translations), bos=bos, eos=eos, sep='')"
      ],
      "execution_count": 10,
      "outputs": []
    },
    {
      "cell_type": "code",
      "metadata": {
        "id": "TcgHnPJEmIFR",
        "outputId": "6feae8d1-a90c-494f-f344-3281c7c8fa30",
        "colab": {
          "base_uri": "https://localhost:8080/"
        }
      },
      "source": [
        "len(out_voc.tokens)"
      ],
      "execution_count": 11,
      "outputs": [
        {
          "output_type": "execute_result",
          "data": {
            "text/plain": [
              "283"
            ]
          },
          "metadata": {
            "tags": []
          },
          "execution_count": 11
        }
      ]
    },
    {
      "cell_type": "code",
      "metadata": {
        "id": "sGdFxjRAmIFS",
        "outputId": "87980ca0-0b08-467f-c365-78096fec38a6",
        "colab": {
          "base_uri": "https://localhost:8080/"
        }
      },
      "source": [
        "len(inp_voc.tokens)"
      ],
      "execution_count": 12,
      "outputs": [
        {
          "output_type": "execute_result",
          "data": {
            "text/plain": [
              "189"
            ]
          },
          "metadata": {
            "tags": []
          },
          "execution_count": 12
        }
      ]
    },
    {
      "cell_type": "code",
      "metadata": {
        "id": "-GRI_LeBmIFT",
        "outputId": "45ec9318-b617-4ada-a928-329392eb7933",
        "colab": {
          "base_uri": "https://localhost:8080/"
        }
      },
      "source": [
        "# Here's how you cast lines into ids and backwards.\n",
        "batch_lines = all_words[:5]\n",
        "batch_ids = inp_voc.to_matrix(batch_lines)\n",
        "batch_lines_restored = inp_voc.to_lines(batch_ids)\n",
        "\n",
        "print(\"lines\")\n",
        "print(batch_lines)\n",
        "print(\"\\nwords to ids (0 = bos, 1 = eos):\")\n",
        "print(batch_ids)\n",
        "print(\"\\nback to words\")\n",
        "print(batch_lines_restored)"
      ],
      "execution_count": 13,
      "outputs": [
        {
          "output_type": "stream",
          "text": [
            "lines\n",
            "['אנרכיזם' 'אוטיזם קלאסי' 'אלבדו' 'אלבמה' 'אכילס']\n",
            "\n",
            "words to ids (0 = bos, 1 = eos):\n",
            "[[  0  80 127  36  75 152 145  50   1   1   1   1   1   1]\n",
            " [  0  80  37  94 152 145  50 151 128 102  80 160 152   1]\n",
            " [  0  80 102  24 175  37   1   1   1   1   1   1   1   1]\n",
            " [  0  80 102  24   8  89   1   1   1   1   1   1   1   1]\n",
            " [  0  80  75 152 102 160   1   1   1   1   1   1   1   1]]\n",
            "\n",
            "back to words\n",
            "['אנרכיזם', 'אוטיזם קלאסי', 'אלבדו', 'אלבמה', 'אכילס']\n"
          ],
          "name": "stdout"
        }
      ]
    },
    {
      "cell_type": "markdown",
      "metadata": {
        "id": "emyIBxnpmIFU"
      },
      "source": [
        "Draw word/translation length distributions to estimate the scope of the task."
      ]
    },
    {
      "cell_type": "code",
      "metadata": {
        "id": "gU-qLW8TmIFU",
        "outputId": "c2f8834b-d90e-434d-fe3c-fc7b7b3270e9",
        "colab": {
          "base_uri": "https://localhost:8080/",
          "height": 400
        }
      },
      "source": [
        "import matplotlib.pyplot as plt\n",
        "%matplotlib inline\n",
        "plt.figure(figsize=[8, 4])\n",
        "plt.subplot(1, 2, 1)\n",
        "plt.title(\"words\")\n",
        "plt.hist(list(map(len, all_words)), bins=18)\n",
        "\n",
        "plt.subplot(1, 2, 2)\n",
        "plt.title('translations')\n",
        "plt.hist(list(map(len, all_translations)), bins=20)"
      ],
      "execution_count": 15,
      "outputs": [
        {
          "output_type": "execute_result",
          "data": {
            "text/plain": [
              "(array([   21.,   112.,  3098.,  8157., 11482., 12556., 11430.,  9568.,\n",
              "         9254.,  9755., 10299., 11123., 11203., 10840.,  9316.,  7873.,\n",
              "         6527.,  5523.,  4505.,  3684.]),\n",
              " array([ 1.  ,  1.95,  2.9 ,  3.85,  4.8 ,  5.75,  6.7 ,  7.65,  8.6 ,\n",
              "         9.55, 10.5 , 11.45, 12.4 , 13.35, 14.3 , 15.25, 16.2 , 17.15,\n",
              "        18.1 , 19.05, 20.  ]),\n",
              " <a list of 20 Patch objects>)"
            ]
          },
          "metadata": {
            "tags": []
          },
          "execution_count": 15
        },
        {
          "output_type": "display_data",
          "data": {
            "image/png": "[encoded data removed]",
            "text/plain": [
              "<Figure size 576x288 with 2 Axes>"
            ]
          },
          "metadata": {
            "tags": [],
            "needs_background": "light"
          }
        }
      ]
    },
    {
      "cell_type": "markdown",
      "metadata": {
        "id": "iMrITRbcmIFV"
      },
      "source": [
        "### Step 3: deploy encoder-decoder \n",
        "\n",
        "__assignment starts here__\n",
        "\n",
        "Our architecture consists of two main blocks:\n",
        "* Encoder reads words character by character and outputs code vector (usually a function of last RNN state)\n",
        "* Decoder takes that code vector and produces translations character by character\n",
        "\n",
        "Than it gets fed into a model that follows this simple interface:\n",
        "* __`model(inp, out, **flags) -> logp`__ - takes symbolic int32 matrices of hebrew words and their english translations. Computes the log-probabilities of all possible english characters given english prefices and hebrew word.\n",
        "* __`model.translate(inp, **flags) -> out, logp`__ - takes symbolic int32 matrix of hebrew words, produces output tokens sampled from the model and output log-probabilities for all possible tokens at each tick.\n",
        "  * if given flag __`greedy=True`__, takes most likely next token at each iteration. Otherwise samples with next token probabilities predicted by model.\n",
        "\n",
        "That's all! It's as hard as it gets. With those two methods alone you can implement all kinds of prediction and training."
      ]
    },
    {
      "cell_type": "code",
      "metadata": {
        "id": "nStbj7D3mIFX"
      },
      "source": [
        "import torch\n",
        "import torch.nn as nn\n",
        "import torch.nn.functional as F"
      ],
      "execution_count": 16,
      "outputs": []
    },
    {
      "cell_type": "code",
      "metadata": {
        "id": "8f_sW3YmmIFY"
      },
      "source": [
        "from basic_model_torch import BasicTranslationModel\n",
        "model = BasicTranslationModel(inp_voc, out_voc,\n",
        "                              emb_size=64, hid_size=256)"
      ],
      "execution_count": 17,
      "outputs": []
    },
    {
      "cell_type": "code",
      "metadata": {
        "id": "JTL5Jdo2mIFY",
        "outputId": "7705abae-ee15-4d8b-8fcc-6ee0e1545bb8",
        "colab": {
          "base_uri": "https://localhost:8080/"
        }
      },
      "source": [
        "device = torch.device('cuda:0') if torch.cuda.is_available() else torch.device('cpu')\n",
        "model.to(device)"
      ],
      "execution_count": 18,
      "outputs": [
        {
          "output_type": "execute_result",
          "data": {
            "text/plain": [
              "BasicTranslationModel(\n",
              "  (emb_inp): Embedding(189, 64)\n",
              "  (emb_out): Embedding(283, 64)\n",
              "  (enc0): GRU(64, 256, batch_first=True)\n",
              "  (dec_start): Linear(in_features=256, out_features=256, bias=True)\n",
              "  (dec0): GRUCell(64, 256)\n",
              "  (logits): Linear(in_features=256, out_features=283, bias=True)\n",
              ")"
            ]
          },
          "metadata": {
            "tags": []
          },
          "execution_count": 18
        }
      ]
    },
    {
      "cell_type": "code",
      "metadata": {
        "id": "qRetL8aomIFZ",
        "outputId": "36ce14af-41ef-41cc-8e22-772b5350e906",
        "colab": {
          "base_uri": "https://localhost:8080/"
        }
      },
      "source": [
        "# Play around with symbolic_translate and symbolic_score\n",
        "inp = torch.tensor(np.random.randint(0, 10, [3, 5]), dtype=torch.int64).to(device)\n",
        "out = torch.tensor(np.random.randint(0, 10, [3, 5]), dtype=torch.int64).to(device)\n",
        "\n",
        "# translate inp (with untrained model)\n",
        "sampled_out, logp = model.translate(inp, greedy=False)\n",
        "\n",
        "print(\"Sample translations:\\n\", sampled_out)\n",
        "print(\"Log-probabilities at each step:\\n\", logp)"
      ],
      "execution_count": 19,
      "outputs": [
        {
          "output_type": "stream",
          "text": [
            "Sample translations:\n",
            " tensor([[  0, 218,   8,  92, 222,  29, 113, 265, 199,  54,   4,  64, 194,  50,\n",
            "           2, 255, 171,  41,  75,  39, 236, 229, 208,  65,  74, 262, 264, 161,\n",
            "         150, 262, 123,  41, 248, 130,   3,  61, 109, 141,  71,  24,  65, 108,\n",
            "          27, 147,  46,  97, 127,  71, 178, 249, 223, 273, 216, 235, 261, 185,\n",
            "          32,  72, 191,  26, 272,  83,  32, 148,  35,  28,  42, 214, 197, 170,\n",
            "          71, 251, 186,  28,  10,  34, 231, 118,  71, 115, 193, 140, 169, 132,\n",
            "         229, 192, 109,  64, 246, 260, 170,  37, 125, 151, 211, 116, 115, 240,\n",
            "          57,  25,  72, 133, 118,  93, 239,  87,   0, 244, 109,  44, 132,  58,\n",
            "          98, 237, 247, 169, 104, 239, 274, 184, 244, 183, 272,  44, 146, 262,\n",
            "         147, 267, 173, 167,  44,  43, 164,  58, 268, 262,  51, 188, 172, 267,\n",
            "         125, 219, 131,  49, 225,  51,  81, 220, 100, 200,  13, 265, 141,  96,\n",
            "         160,  18, 177,  13, 130, 198,  75, 243, 192, 238, 217, 167, 171,  30,\n",
            "         265, 114,  81, 148,  85, 237,  36, 170,  63, 225,  82, 235, 228, 144,\n",
            "          37, 244, 132,  77,  58, 176, 199, 249, 226, 181, 246, 104,  51, 207,\n",
            "          78,  27, 182,  28, 179,  59, 237, 194,  63, 193, 148, 278, 197, 168,\n",
            "          22,  42,  89,  41,  84, 201, 105, 113,  95, 121, 159, 250, 157, 195,\n",
            "         108, 282, 102, 209,  76, 262, 204, 218, 132, 135, 231,  68,  87, 212,\n",
            "          82,  47, 144, 141, 269, 222,  70,  44, 132, 130,  57, 161, 185,  41,\n",
            "         201,  48, 104, 209,  85,  11, 100, 168, 251, 211, 219, 260, 146, 244,\n",
            "         107,  12, 252, 119, 251, 220, 147,  53,  54,  85,  52, 186, 190, 166,\n",
            "         127,  35, 148, 184, 219, 130,  65, 143, 282,  95, 141, 282,   3,  89,\n",
            "         129, 151, 235, 217, 175, 242, 131, 147, 268,  39, 146, 227, 154,  49,\n",
            "         113,  27,  88, 163,  11, 247, 157,  52, 206, 156,   1],\n",
            "        [  0, 282, 250, 226,  75,  78,  56, 100,  23, 192, 204, 114, 116, 267,\n",
            "          60, 103,  69,  83, 158, 177, 259,  24, 224,  26, 265, 227, 196, 115,\n",
            "         190, 199,  62,  16,  32,  95,  96, 153, 196, 187, 123, 159,  77,  49,\n",
            "         254, 191, 120, 167,   5, 232,  25,  25, 198, 270, 150, 244,  21,  83,\n",
            "         139, 153, 277, 110, 271, 103, 128,   1, 146, 117, 127,  67,  87,  15,\n",
            "           5,  99,  75, 120,  31,  28, 173, 208, 255, 169, 241, 120, 262, 107,\n",
            "         254, 151, 261, 230, 202, 207, 139, 138, 198, 156,  80, 229, 139,  14,\n",
            "         193, 153, 174, 131, 258, 181, 101,  97, 256, 184, 208, 263, 214,  15,\n",
            "         111,  37, 125,   0, 102, 278,  99, 212, 139, 176, 151, 233, 152, 140,\n",
            "          92, 169, 183,  28, 114,  56,  61, 163, 202, 227, 186, 166, 185,  59,\n",
            "          63, 159, 151, 214, 200, 241, 127,  71,   4, 126, 245, 108,  61, 219,\n",
            "         243, 186, 173, 105, 273,  47, 250, 209, 165,  18, 276, 260, 213, 184,\n",
            "         165, 187,  95, 138,  53, 260, 160,  58, 142, 146, 110, 265, 154,   4,\n",
            "         179,  14, 104, 132,  76, 234, 211, 254,  46,  46, 190,  39, 260,  60,\n",
            "          56,   7,  33, 248,  82, 147, 123, 126, 138, 196,  16, 178, 193, 125,\n",
            "          65, 153,  18,   6, 253, 174,  95, 133, 171, 143, 246,  60,  90, 269,\n",
            "          63, 271, 273, 276, 236, 103, 233, 180,  98,  95,  75, 171, 188, 113,\n",
            "         181, 115, 144,  22, 231, 112, 243, 245,  53, 239, 234,  25, 221, 272,\n",
            "          74, 173, 150, 222,   0,  20, 139, 160, 249,  56,  96, 263, 131,  89,\n",
            "          83,  17,  93,  85,  68,  56, 208, 275, 271,  93, 254, 175,  94, 105,\n",
            "         220, 151, 281, 221, 120, 204,  44, 107,  36, 233,   2, 226,  68,  39,\n",
            "         196, 125, 276,  25, 189, 209, 231, 151, 116, 215, 180,  44, 248, 265,\n",
            "          77, 153, 119, 176, 260,  68, 272, 278, 213, 116, 115],\n",
            "        [  0, 207,  29, 143, 183, 116, 107,  85, 271,  97,  54, 151, 220, 121,\n",
            "         112,  10, 258, 233, 140,  49,   6,  13, 160, 114,  69, 213,  46, 145,\n",
            "          18, 216, 172,  29,  10,  51,  44, 107,  86, 102, 260, 260, 211, 204,\n",
            "          77, 168, 213, 111,  33,  78, 176,  91, 252, 116, 154, 128, 178, 210,\n",
            "          86,  21, 184, 124, 133, 240,  26, 148, 147,   2, 107, 181, 254, 211,\n",
            "         118,   5, 106, 257, 192,  11,  71,  57,  65, 170, 155, 278, 178, 189,\n",
            "         210,   6, 159,  19,  39, 123, 215, 221,  87, 190, 188, 253, 264,  33,\n",
            "          67,   6, 182, 268,   8,  36, 269, 191,  61, 250,  80, 281,  49,  12,\n",
            "         185, 212,  73, 267,  34, 123,  62,  96,  93, 165, 169,  83, 242, 274,\n",
            "          63, 153, 170,  97,  71, 116, 210,  46, 130, 243, 149, 251, 263, 246,\n",
            "          66, 188,   1, 152,  74, 222, 156,  31,  95,  86,  63, 240, 274, 195,\n",
            "         108, 132,   7, 113, 177,  72, 181, 196, 219, 282, 155, 134, 265, 127,\n",
            "         104,  40,  52,  36,  94,  75, 130, 239, 100, 276,  78, 121, 167, 244,\n",
            "         222, 158, 224,  23,  10,  97,  44,  36,  17, 159,  90, 124, 267, 258,\n",
            "         272, 140, 157, 122, 165, 180, 133,  57,  90, 186, 192, 223,  34,  50,\n",
            "          33,  79,  31,  18, 270,  68, 167,  20, 120, 248,  47, 197,  57,  21,\n",
            "         213,  70, 116,  79,  71,   6, 119,  39,  50, 255, 263, 186,  10,   2,\n",
            "          54, 112,  17, 120, 218, 139, 210, 150,  11, 199, 136,  56,  27, 192,\n",
            "         276, 196, 201,  12, 118,  91, 248, 167, 211, 181, 102,  46, 243,  88,\n",
            "         182,  90, 281, 106, 281, 250,  60, 127, 150, 114, 275,  86,  52,   1,\n",
            "         261, 110, 119,  23, 170, 121, 211, 264,  68, 207,  26, 191, 149, 127,\n",
            "         108, 238,  88, 154, 123,  75, 139,  52, 152, 147, 268,  98,  70, 109,\n",
            "         120, 170,  16,  33,  38, 201,  80, 199,  77, 160,  15]],\n",
            "       device='cuda:0')\n",
            "Log-probabilities at each step:\n",
            " tensor([[[  0.0000, -69.0776, -69.0776,  ..., -69.0776, -69.0776, -69.0776],\n",
            "         [ -5.7508,  -5.6960,  -5.6980,  ...,  -5.5409,  -5.5870,  -5.7683],\n",
            "         [ -5.7277,  -5.6609,  -5.6211,  ...,  -5.7039,  -5.6481,  -5.7833],\n",
            "         ...,\n",
            "         [ -5.8675,  -5.7184,  -5.7337,  ...,  -5.5736,  -5.8298,  -5.9655],\n",
            "         [ -5.8181,  -5.5551,  -5.6352,  ...,  -5.5440,  -5.8836,  -5.7555],\n",
            "         [ -5.7148,  -5.6531,  -5.7371,  ...,  -5.6649,  -5.7273,  -5.6761]],\n",
            "\n",
            "        [[  0.0000, -69.0776, -69.0776,  ..., -69.0776, -69.0776, -69.0776],\n",
            "         [ -5.8263,  -5.6743,  -5.6726,  ...,  -5.5783,  -5.6542,  -5.7675],\n",
            "         [ -5.7728,  -5.6685,  -5.7312,  ...,  -5.6459,  -5.6864,  -5.6789],\n",
            "         ...,\n",
            "         [ -5.5069,  -5.5222,  -5.8467,  ...,  -5.5504,  -5.6910,  -5.8081],\n",
            "         [ -5.6934,  -5.5476,  -5.8183,  ...,  -5.6319,  -5.7171,  -5.7134],\n",
            "         [ -5.7352,  -5.5934,  -5.7006,  ...,  -5.5712,  -5.6689,  -5.8354]],\n",
            "\n",
            "        [[  0.0000, -69.0776, -69.0776,  ..., -69.0776, -69.0776, -69.0776],\n",
            "         [ -5.7809,  -5.6812,  -5.7047,  ...,  -5.5288,  -5.6072,  -5.7598],\n",
            "         [ -5.7172,  -5.5094,  -5.7776,  ...,  -5.7030,  -5.6630,  -5.7105],\n",
            "         ...,\n",
            "         [ -5.5416,  -5.5579,  -5.7254,  ...,  -5.6582,  -5.7863,  -5.7813],\n",
            "         [ -5.7473,  -5.4770,  -5.5889,  ...,  -5.7611,  -5.8421,  -5.7056],\n",
            "         [ -5.7878,  -5.4555,  -5.6683,  ...,  -5.7683,  -5.7241,  -5.7149]]],\n",
            "       device='cuda:0', grad_fn=<LogSoftmaxBackward>)\n"
          ],
          "name": "stdout"
        }
      ]
    },
    {
      "cell_type": "code",
      "metadata": {
        "id": "ijNBIK4BmIFa",
        "outputId": "99c6c270-bfe8-4e3d-da4a-c18042d88ee5",
        "colab": {
          "base_uri": "https://localhost:8080/"
        }
      },
      "source": [
        "# score logp(out | inp) with untrained input\n",
        "logp = model(inp, out)\n",
        "print(\"Symbolic_score output:\\n\", logp)\n",
        "\n",
        "print(\"Log-probabilities of output tokens:\\n\",\n",
        "      torch.gather(logp, dim=2, index=out[:, :, None]))"
      ],
      "execution_count": 20,
      "outputs": [
        {
          "output_type": "stream",
          "text": [
            "Symbolic_score output:\n",
            " tensor([[[  0.0000, -69.0776, -69.0776,  ..., -69.0776, -69.0776, -69.0776],\n",
            "         [ -5.6040,  -5.6723,  -5.7373,  ...,  -5.5429,  -5.5983,  -5.7877],\n",
            "         [ -5.4923,  -5.6601,  -5.6820,  ...,  -5.5633,  -5.6544,  -5.8041],\n",
            "         [ -5.6688,  -5.6634,  -5.6701,  ...,  -5.6392,  -5.7321,  -5.7750],\n",
            "         [ -5.6393,  -5.7596,  -5.5705,  ...,  -5.6412,  -5.7331,  -6.0082]],\n",
            "\n",
            "        [[  0.0000, -69.0776, -69.0776,  ..., -69.0776, -69.0776, -69.0776],\n",
            "         [ -5.7095,  -5.8805,  -5.5537,  ...,  -5.7155,  -5.6859,  -5.7472],\n",
            "         [ -5.7864,  -5.7552,  -5.7209,  ...,  -5.5707,  -5.7246,  -5.7278],\n",
            "         [ -5.6660,  -5.7440,  -5.5524,  ...,  -5.5402,  -5.6556,  -5.7105],\n",
            "         [ -5.6502,  -5.8336,  -5.5904,  ...,  -5.5791,  -5.7361,  -5.7060]],\n",
            "\n",
            "        [[  0.0000, -69.0776, -69.0776,  ..., -69.0776, -69.0776, -69.0776],\n",
            "         [ -5.7809,  -5.6812,  -5.7047,  ...,  -5.5288,  -5.6072,  -5.7598],\n",
            "         [ -5.6644,  -5.6982,  -5.5381,  ...,  -5.5157,  -5.6000,  -5.6812],\n",
            "         [ -5.7334,  -5.7170,  -5.6336,  ...,  -5.5412,  -5.5651,  -5.7632],\n",
            "         [ -5.7947,  -5.7069,  -5.6823,  ...,  -5.6517,  -5.7415,  -5.7145]]],\n",
            "       device='cuda:0', grad_fn=<LogSoftmaxBackward>)\n",
            "Log-probabilities of output tokens:\n",
            " tensor([[[-69.0776],\n",
            "         [ -5.6216],\n",
            "         [ -5.6154],\n",
            "         [ -5.6634],\n",
            "         [ -5.7464]],\n",
            "\n",
            "        [[-69.0776],\n",
            "         [ -5.5537],\n",
            "         [ -5.7822],\n",
            "         [ -5.5661],\n",
            "         [ -5.5323]],\n",
            "\n",
            "        [[  0.0000],\n",
            "         [ -5.6820],\n",
            "         [ -5.6644],\n",
            "         [ -5.7603],\n",
            "         [ -5.4741]]], device='cuda:0', grad_fn=<GatherBackward>)\n"
          ],
          "name": "stdout"
        }
      ]
    },
    {
      "cell_type": "code",
      "metadata": {
        "id": "40bWEk9wmIFc"
      },
      "source": [
        "def translate(lines, max_len=MAX_OUTPUT_LENGTH, device=device):\n",
        "    \"\"\"\n",
        "    You are given a list of input lines. \n",
        "    Make your neural network translate them.\n",
        "    :return: a list of output lines\n",
        "    \"\"\"\n",
        "    # Convert lines to a matrix of indices\n",
        "    lines_ix = inp_voc.to_matrix(lines)\n",
        "    lines_ix = torch.tensor(lines_ix, dtype=torch.int64).to(device)\n",
        "\n",
        "    # Compute translations in form of indices\n",
        "    trans_ix, _ = model.translate(lines_ix, greedy=True, max_len=max_len) # <YOUR CODE >\n",
        "\n",
        "    # Convert translations back into strings\n",
        "    return out_voc.to_lines(trans_ix.cpu().data.numpy())"
      ],
      "execution_count": 21,
      "outputs": []
    },
    {
      "cell_type": "code",
      "metadata": {
        "id": "kqfuAsu4mIFd",
        "outputId": "553e3698-fbcc-4a72-bd34-69524cf07249",
        "colab": {
          "base_uri": "https://localhost:8080/"
        }
      },
      "source": [
        "print(\"Sample inputs:\", all_words[:3])\n",
        "print(\"Dummy translations:\", translate(all_words[:3]))\n",
        "trans = translate(all_words[:3])\n",
        "\n",
        "assert translate(all_words[:3]) == translate(\n",
        "    all_words[:3]), \"make sure translation is deterministic (use greedy=True and disable any noise layers)\"\n",
        "assert type(translate(all_words[:3])) is list and (type(translate(all_words[:1])[0]) is str or type(\n",
        "    translate(all_words[:1])[0]) is unicode), \"translate(lines) must return a sequence of strings!\"\n",
        "# note: if translation freezes, make sure you used max_len parameter\n",
        "print(\"Tests passed!\")"
      ],
      "execution_count": 22,
      "outputs": [
        {
          "output_type": "stream",
          "text": [
            "Sample inputs: ['אנרכיזם' 'אוטיזם קלאסי' 'אלבדו']\n",
            "Dummy translations: ['ŭ`ůjρыŋņõë+kεťťiõ→=', 'ŭ`пŋ=աtղםρʿõồŋ=աtğl', 'ŭ`ůjρ守zע`ồāồāóťťiõŋ']\n",
            "Tests passed!\n"
          ],
          "name": "stdout"
        }
      ]
    },
    {
      "cell_type": "markdown",
      "metadata": {
        "id": "UbAoG6UhmIFd"
      },
      "source": [
        "### Scoring function\n",
        "\n",
        "LogLikelihood is a poor estimator of model performance.\n",
        "* If we predict zero probability once, it shouldn't ruin entire model.\n",
        "* It is enough to learn just one translation if there are several correct ones.\n",
        "* What matters is how many mistakes model's gonna make when it translates!\n",
        "\n",
        "Therefore, we will use minimal Levenshtein distance. It measures how many characters do we need to add/remove/replace from model translation to make it perfect. Alternatively, one could use character-level BLEU/RougeL or other similar metrics.\n",
        "\n",
        "The catch here is that Levenshtein distance is not differentiable: it isn't even continuous. We can't train our neural network to maximize it by gradient descent."
      ]
    },
    {
      "cell_type": "code",
      "metadata": {
        "id": "mLy24cwgmIFe"
      },
      "source": [
        "import editdistance  # !pip install editdistance\n",
        "\n",
        "\n",
        "def get_distance(word, trans):\n",
        "    \"\"\"\n",
        "    A function that takes word and predicted translation\n",
        "    and evaluates (Levenshtein's) edit distance to closest correct translation\n",
        "    \"\"\"\n",
        "    references = word_to_translation[word]\n",
        "    assert len(references) != 0, \"wrong/unknown word\"\n",
        "    return min(editdistance.eval(trans, ref) for ref in references)\n",
        "\n",
        "\n",
        "def score(words, bsize=100):\n",
        "    \"\"\"a function that computes levenshtein distance for bsize random samples\"\"\"\n",
        "    assert isinstance(words, np.ndarray)\n",
        "\n",
        "    batch_words = np.random.choice(words, size=bsize, replace=False)\n",
        "    batch_trans = translate(batch_words)\n",
        "\n",
        "    distances = list(map(get_distance, batch_words, batch_trans))\n",
        "\n",
        "    return np.array(distances, dtype='float32')"
      ],
      "execution_count": 24,
      "outputs": []
    },
    {
      "cell_type": "code",
      "metadata": {
        "id": "7XphiNc2mIFf",
        "outputId": "7489c8f7-3980-4d33-da3a-bf1c2a6a3f9c",
        "colab": {
          "base_uri": "https://localhost:8080/"
        }
      },
      "source": [
        "# should be around 5-50 and decrease rapidly after training :)\n",
        "[score(test_words, 10).mean() for _ in range(5)]"
      ],
      "execution_count": 25,
      "outputs": [
        {
          "output_type": "execute_result",
          "data": {
            "text/plain": [
              "[18.7, 18.9, 18.5, 18.6, 18.6]"
            ]
          },
          "metadata": {
            "tags": []
          },
          "execution_count": 25
        }
      ]
    },
    {
      "cell_type": "markdown",
      "metadata": {
        "id": "9LAvqVAhmIFg"
      },
      "source": [
        "### Supervised pre-training\n",
        "\n",
        "Here we define a function that trains our model through maximizing log-likelihood a.k.a. minimizing crossentropy."
      ]
    },
    {
      "cell_type": "code",
      "metadata": {
        "id": "vhCq9in4mIFh"
      },
      "source": [
        "import random\n",
        "\n",
        "\n",
        "def sample_batch(words, word_to_translation, batch_size):\n",
        "    \"\"\"\n",
        "    sample random batch of words and random correct translation for each word\n",
        "    example usage:\n",
        "    batch_x,batch_y = sample_batch(train_words, word_to_translations,10)\n",
        "    \"\"\"\n",
        "    # choose words\n",
        "    batch_words = np.random.choice(words, size=batch_size)\n",
        "\n",
        "    # choose translations\n",
        "    batch_trans_candidates = list(map(word_to_translation.get, batch_words))\n",
        "    batch_trans = list(map(random.choice, batch_trans_candidates))\n",
        "    return batch_words, batch_trans"
      ],
      "execution_count": 26,
      "outputs": []
    },
    {
      "cell_type": "code",
      "metadata": {
        "id": "nW3Q3H-omIFi",
        "outputId": "3ffeaaed-c64b-4e68-d401-9737f3a08ebf",
        "colab": {
          "base_uri": "https://localhost:8080/"
        }
      },
      "source": [
        "bx, by = sample_batch(train_words, word_to_translation, batch_size=3)\n",
        "print(\"Source:\")\n",
        "print(bx)\n",
        "print(\"Target:\")\n",
        "print(by)"
      ],
      "execution_count": 27,
      "outputs": [
        {
          "output_type": "stream",
          "text": [
            "Source:\n",
            "['רוברט בראון' 'קטגוריה:טכנולוגיה' 'לורדים רוחניים']\n",
            "Target:\n",
            "['robert brown', 'technology', 'lords spiritual']\n"
          ],
          "name": "stdout"
        }
      ]
    },
    {
      "cell_type": "code",
      "metadata": {
        "id": "YoIOtEAXmIFj"
      },
      "source": [
        "from basic_model_torch import infer_length, infer_mask, to_one_hot\n",
        "\n",
        "\n",
        "def compute_loss_on_batch(input_sequence, reference_answers, device=device):\n",
        "    \"\"\" Compute crossentropy loss given a batch of sources and translations \"\"\"\n",
        "    input_sequence = torch.tensor(inp_voc.to_matrix(input_sequence), dtype=torch.int64).to(device)\n",
        "    reference_answers = torch.tensor(out_voc.to_matrix(reference_answers), dtype=torch.int64).to(device)\n",
        "\n",
        "    # Compute log-probabilities of all possible tokens at each step. Use model interface.\n",
        "    \n",
        "    # [batch_size, seq_length, n_classes (dict size)]\n",
        "    logprobs_seq = model(input_sequence, reference_answers) # YOUR CODE\n",
        "\n",
        "    \n",
        "    \n",
        "    \n",
        "    # compute elementwise crossentropy as negative log-probabilities of reference_answers.\n",
        "    crossentropy = -torch.sum(to_one_hot(reference_answers, len(out_voc)) * logprobs_seq, dim=-1)\n",
        "    # YOUR CODE\n",
        "    assert crossentropy.dim(\n",
        "    ) == 2, \"please return elementwise crossentropy, don't compute mean just yet\"\n",
        "\n",
        "    # [batch_size, seq_length]\n",
        "    # average with mask\n",
        "\n",
        "    mask = infer_mask(reference_answers, out_voc.eos_ix)\n",
        "    loss = torch.sum(crossentropy * mask) / torch.sum(mask)\n",
        "\n",
        "    return loss"
      ],
      "execution_count": 28,
      "outputs": []
    },
    {
      "cell_type": "code",
      "metadata": {
        "id": "ZECCxevFmIFk",
        "outputId": "fc9a72c5-7fba-4544-c344-65a581258689",
        "colab": {
          "base_uri": "https://localhost:8080/"
        }
      },
      "source": [
        "# test it\n",
        "loss = compute_loss_on_batch(*sample_batch(train_words, word_to_translation, 3))\n",
        "print('loss = ', loss)\n",
        "\n",
        "assert loss.item() > 0.0\n",
        "loss.backward()\n",
        "for w in model.parameters():\n",
        "    assert w.grad is not None and torch.max(torch.abs(w.grad)).item() != 0, \\\n",
        "        \"Loss is not differentiable w.r.t. a weight with shape %s. Check comput_loss_on_batch.\" % (\n",
        "            w.size(),)\n",
        "print('Seems fine!')"
      ],
      "execution_count": 29,
      "outputs": [
        {
          "output_type": "stream",
          "text": [
            "loss =  tensor(5.1506, device='cuda:0', grad_fn=<DivBackward0>)\n",
            "Seems fine!\n"
          ],
          "name": "stdout"
        }
      ]
    },
    {
      "cell_type": "markdown",
      "metadata": {
        "id": "vgSBJbVlmIFn"
      },
      "source": [
        "##### Actually train the model\n",
        "\n",
        "Minibatches and stuff..."
      ]
    },
    {
      "cell_type": "code",
      "metadata": {
        "id": "AFV6hJMMmIFo"
      },
      "source": [
        "from IPython.display import clear_output\n",
        "from tqdm import tqdm, trange  # or use tqdm_notebook,tnrange\n",
        "\n",
        "loss_history = []\n",
        "editdist_history = []\n",
        "entropy_history = []\n",
        "opt = torch.optim.Adam(model.parameters())"
      ],
      "execution_count": 30,
      "outputs": []
    },
    {
      "cell_type": "code",
      "metadata": {
        "id": "5nnJzgSNmIFq",
        "outputId": "0642f045-1f4b-4e14-a75f-7781efc6e640",
        "colab": {
          "base_uri": "https://localhost:8080/",
          "height": 315
        }
      },
      "source": [
        "for i in trange(5000):\n",
        "    loss = compute_loss_on_batch(*sample_batch(train_words, word_to_translation, 32))\n",
        "\n",
        "    # train with backprop\n",
        "    loss.backward()\n",
        "    opt.step()\n",
        "    opt.zero_grad()\n",
        "\n",
        "    loss_history.append(loss.item())\n",
        "\n",
        "    if (i+1) % REPORT_FREQ == 0:\n",
        "        clear_output(True)\n",
        "        current_scores = score(test_words)\n",
        "        editdist_history.append(current_scores.mean())\n",
        "        print(\"llh=%.3f, mean score=%.3f\" %\n",
        "              (np.mean(loss_history[-10:]), np.mean(editdist_history[-10:])))\n",
        "        plt.figure(figsize=(12, 4))\n",
        "        plt.subplot(131)\n",
        "        plt.title('train loss / traning time')\n",
        "        plt.plot(loss_history)\n",
        "        plt.grid()\n",
        "        plt.subplot(132)\n",
        "        plt.title('val score distribution')\n",
        "        plt.hist(current_scores, bins=20)\n",
        "        plt.subplot(133)\n",
        "        plt.title('val score / traning time (lower is better)')\n",
        "        plt.plot(editdist_history)\n",
        "        plt.grid()\n",
        "        plt.show()"
      ],
      "execution_count": 31,
      "outputs": [
        {
          "output_type": "stream",
          "text": [
            "llh=1.364, mean score=6.879\n"
          ],
          "name": "stdout"
        },
        {
          "output_type": "display_data",
          "data": {
            "image/png": "[encoded data removed]",
            "text/plain": [
              "<Figure size 864x288 with 3 Axes>"
            ]
          },
          "metadata": {
            "tags": [],
            "needs_background": "light"
          }
        },
        {
          "output_type": "stream",
          "text": [
            "\r100%|██████████| 5000/5000 [02:22<00:00, 35.11it/s]\n"
          ],
          "name": "stderr"
        }
      ]
    },
    {
      "cell_type": "markdown",
      "metadata": {
        "id": "aTSmEYvOmIFr"
      },
      "source": [
        "__How to interpret the plots:__\n",
        "\n",
        "* __Train loss__ - that's your model's crossentropy over minibatches. It should go down steadily. Most importantly, it shouldn't be NaN :)\n",
        "* __Val score distribution__ - distribution of translation edit distance (score) within batch. It should move to the left over time.\n",
        "* __Val score / training time__ - it's your current mean edit distance. This plot is much whimsier than loss, but make sure it goes below 8 by 2500 steps. \n",
        "\n",
        "If it doesn't, first try to re-create both model and opt. You may have changed it's weight too much while debugging. If that doesn't help, it's debugging time."
      ]
    },
    {
      "cell_type": "code",
      "metadata": {
        "id": "9BqjTIuNmIFs",
        "outputId": "874e9ff9-3ee7-4072-8727-d358bf3a0b13",
        "colab": {
          "base_uri": "https://localhost:8080/"
        }
      },
      "source": [
        "for word in train_words[:10]:\n",
        "    print(\"%s -> %s\" % (word, translate([word])[0]))"
      ],
      "execution_count": 32,
      "outputs": [
        {
          "output_type": "stream",
          "text": [
            "כל אנשי סמיילי -> semin seale\n",
            "קטגוריה:ערוץ 2 -> strouse of the ress\n",
            "עבודה מהבית -> polical constrope\n",
            "פראליה -> paralia\n",
            "קפלר 42 -> kapler 42\n",
            "קטגוריה:מתאסלמים -> mathelasm\n",
            "בושמי -> boshami\n",
            "לאונרדו -> leorando\n",
            "שאמה -> shama\n",
            "עכברה -> mathera\n"
          ],
          "name": "stdout"
        }
      ]
    },
    {
      "cell_type": "code",
      "metadata": {
        "id": "SYq_Cm89mIFt",
        "outputId": "24bf318a-0cf4-4552-860d-b6641e1c9cc1",
        "colab": {
          "base_uri": "https://localhost:8080/"
        }
      },
      "source": [
        "test_scores = []\n",
        "for start_i in trange(0, len(test_words), 32):\n",
        "    batch_words = test_words[start_i:start_i+32]\n",
        "    batch_trans = translate(batch_words)\n",
        "    distances = list(map(get_distance, batch_words, batch_trans))\n",
        "    test_scores.extend(distances)\n",
        "\n",
        "print(\"Supervised test score:\", np.mean(test_scores))"
      ],
      "execution_count": 33,
      "outputs": [
        {
          "output_type": "stream",
          "text": [
            "100%|██████████| 407/407 [00:04<00:00, 82.39it/s]"
          ],
          "name": "stderr"
        },
        {
          "output_type": "stream",
          "text": [
            "Supervised test score: 7.070166000614817\n"
          ],
          "name": "stdout"
        },
        {
          "output_type": "stream",
          "text": [
            "\n"
          ],
          "name": "stderr"
        }
      ]
    },
    {
      "cell_type": "markdown",
      "metadata": {
        "id": "ZnU0o_vUmIFu"
      },
      "source": [
        "### Self-critical policy gradient\n",
        "\n",
        "In this section you'll implement algorithm called self-critical sequence training (here's an [article](https://arxiv.org/abs/1612.00563)).\n",
        "\n",
        "The algorithm is a vanilla policy gradient with a special baseline. \n",
        "\n",
        "$$ \\nabla J = E_{x \\sim p(s)} E_{y \\sim \\pi(y|x)} \\nabla log \\pi(y|x) \\cdot (R(x,y) - b(x)) $$\n",
        "\n",
        "Here reward R(x,y) is a __negative levenshtein distance__ (since we minimize it). The baseline __b(x)__ represents how well model fares on word __x__.\n",
        "\n",
        "In practice, this means that we compute baseline as a score of greedy translation, $b(x) = R(x,y_{greedy}(x)) $.\n",
        "\n",
        "![img](https://github.com/yandexdataschool/Practical_RL/raw/master/yet_another_week/_resource/scheme.png)\n",
        "\n",
        "\n",
        "Luckily, we already obtained the required outputs: `model.greedy_translations, model.greedy_mask` and we only need to compute levenshtein using `compute_levenshtein` function.\n"
      ]
    },
    {
      "cell_type": "code",
      "metadata": {
        "id": "eSFs9M3ImIFv"
      },
      "source": [
        "def compute_reward(input_sequence, translations):\n",
        "    \"\"\" computes sample-wise reward given token ids for inputs and translations \"\"\"\n",
        "    distances = list(map(get_distance,\n",
        "                         inp_voc.to_lines(input_sequence.data.numpy()),\n",
        "                         out_voc.to_lines(translations.data.numpy())))\n",
        "    # use negative levenshtein distance so that larger reward means better policy\n",
        "    return - torch.tensor(distances, dtype=torch.int64)"
      ],
      "execution_count": 34,
      "outputs": []
    },
    {
      "cell_type": "code",
      "metadata": {
        "id": "8xykOBBTmIFv"
      },
      "source": [
        "def scst_objective_on_batch(input_sequence, max_len=MAX_OUTPUT_LENGTH, device=device):\n",
        "    \"\"\" Compute pseudo-loss for policy gradient given a batch of sources \"\"\"\n",
        "    input_sequence = torch.tensor(inp_voc.to_matrix(input_sequence), dtype=torch.int64).to(device)\n",
        "\n",
        "    # use model to __sample__ symbolic translations given input_sequence\n",
        "    sample_translations, sample_logp = model.translate(input_sequence, greedy=False, max_len=max_len) # YOUR CODE\n",
        "    # use model to __greedy__ symbolic translations given input_sequence\n",
        "    greedy_translations, greedy_logp = model.translate(input_sequence, greedy=True, max_len=max_len) # YOUR CODE\n",
        "\n",
        "    # compute rewards and advantage\n",
        "    # be careful with the device, rewards require casting to numpy, so send everything to cpu\n",
        "    rewards = compute_reward(input_sequence.cpu(), sample_translations.cpu())\n",
        "    baseline = compute_reward(input_sequence.cpu(), greedy_translations.cpu()) # <compute __negative__ levenshtein for greedy mode >\n",
        "\n",
        "    # compute advantage using rewards and baseline\n",
        "    # be careful with the device, advantage is used to compute gradients, so send it to device\n",
        "    advantage = (rewards - baseline).float().to(device)  # YOUR CODE\n",
        "\n",
        "    # compute log_pi(a_t|s_t), shape = [batch, seq_length]\n",
        "    logp_sample = torch.sum(to_one_hot(sample_translations, n_dims=len(out_voc)) * sample_logp, dim=-1)\n",
        "        # YOUR CODE\n",
        "    \n",
        "    # ^-- hint: look at how crossentropy is implemented in supervised learning loss above\n",
        "    # mind the sign - this one should not be multiplied by -1 :)\n",
        "\n",
        "    # policy gradient pseudo-loss. Gradient of J is exactly policy gradient.\n",
        "    J = logp_sample * advantage[:, None]\n",
        "\n",
        "    assert J.dim() == 2, \"please return elementwise objective, don't compute mean just yet\"\n",
        "\n",
        "    # average with mask\n",
        "    mask = infer_mask(sample_translations, out_voc.eos_ix)\n",
        "    loss = - torch.sum(J * mask) / torch.sum(mask)\n",
        "\n",
        "    # regularize with negative entropy. Don't forget the sign!\n",
        "    # note: for entropy you need probabilities for all tokens (sample_logp), not just logp_sample\n",
        "    entropy = -torch.sum(torch.exp(sample_logp) * sample_logp, dim=-1)\n",
        "    # <compute entropy matrix of shape[batch, seq_length], H = -sum(p*log_p), don't forget the sign!>\n",
        "    # hint: you can get sample probabilities from sample_logp using math :)\n",
        "\n",
        "    assert entropy.dim(\n",
        "    ) == 2, \"please make sure elementwise entropy is of shape [batch,time]\"\n",
        "\n",
        "    reg = - 0.01 * torch.sum(entropy * mask) / torch.sum(mask)\n",
        "\n",
        "    return loss + reg, torch.sum(entropy * mask) / torch.sum(mask)"
      ],
      "execution_count": 36,
      "outputs": []
    },
    {
      "cell_type": "markdown",
      "metadata": {
        "id": "8wdcctCXmIFv"
      },
      "source": [
        "### Policy gradient training\n"
      ]
    },
    {
      "cell_type": "code",
      "metadata": {
        "id": "4QWz3caxmIFw"
      },
      "source": [
        "entropy_history = [np.nan] * len(loss_history)\n",
        "opt = torch.optim.Adam(model.parameters(), lr=1e-5)"
      ],
      "execution_count": 37,
      "outputs": []
    },
    {
      "cell_type": "code",
      "metadata": {
        "id": "XViQrWeWmIFw"
      },
      "source": [
        "debug_list = []"
      ],
      "execution_count": 38,
      "outputs": []
    },
    {
      "cell_type": "code",
      "metadata": {
        "id": "wpPY0mKpmIFw",
        "outputId": "4ef46985-c3e3-4279-a6df-b5145c2273f5",
        "colab": {
          "base_uri": "https://localhost:8080/",
          "height": 673
        }
      },
      "source": [
        "for i in trange(100000):\n",
        "    loss, ent = scst_objective_on_batch(\n",
        "        sample_batch(train_words, word_to_translation, 32)[0])  # [0] = only source sentence\n",
        "\n",
        "    # train with backprop\n",
        "    loss.backward()\n",
        "    opt.step()\n",
        "    opt.zero_grad()\n",
        "\n",
        "    loss_history.append(loss.item())\n",
        "    entropy_history.append(ent.item())\n",
        "    debug_list.append(current_scores)\n",
        "    \n",
        "    if (i+1) % REPORT_FREQ == 0:\n",
        "        clear_output(True)\n",
        "        current_scores = score(test_words)\n",
        "        editdist_history.append(current_scores.mean())\n",
        "        plt.figure(figsize=(12, 4))\n",
        "        plt.subplot(131)\n",
        "        plt.title('val score distribution')\n",
        "        plt.hist(current_scores, bins=20)\n",
        "        plt.subplot(132)\n",
        "        plt.title('val score / traning time')\n",
        "        plt.plot(editdist_history)\n",
        "        plt.grid()\n",
        "        plt.subplot(133)\n",
        "        plt.title('policy entropy / traning time')\n",
        "        plt.plot(entropy_history)\n",
        "        plt.grid()\n",
        "        plt.show()\n",
        "        print(\"J=%.3f, mean score=%.3f\" %\n",
        "              (np.mean(loss_history[-10:]), np.mean(editdist_history[-10:])))"
      ],
      "execution_count": 39,
      "outputs": [
        {
          "output_type": "display_data",
          "data": {
            "image/png": "[encoded data removed]",
            "text/plain": [
              "<Figure size 864x288 with 3 Axes>"
            ]
          },
          "metadata": {
            "tags": [],
            "needs_background": "light"
          }
        },
        {
          "output_type": "stream",
          "text": [
            " 10%|█         | 10002/100000 [08:26<2:08:01, 11.72it/s]"
          ],
          "name": "stderr"
        },
        {
          "output_type": "stream",
          "text": [
            "J=-1.026, mean score=6.522\n"
          ],
          "name": "stdout"
        },
        {
          "output_type": "stream",
          "text": [
            " 10%|█         | 10080/100000 [08:30<1:05:22, 22.92it/s]"
          ],
          "name": "stderr"
        },
        {
          "output_type": "error",
          "ename": "KeyboardInterrupt",
          "evalue": "ignored",
          "traceback": [
            "\u001b[0;31m---------------------------------------------------------------------------\u001b[0m",
            "\u001b[0;31mKeyboardInterrupt\u001b[0m                         Traceback (most recent call last)",
            "\u001b[0;32m<ipython-input-39-5e87248dc015>\u001b[0m in \u001b[0;36m<module>\u001b[0;34m()\u001b[0m\n\u001b[1;32m      1\u001b[0m \u001b[0;32mfor\u001b[0m \u001b[0mi\u001b[0m \u001b[0;32min\u001b[0m \u001b[0mtrange\u001b[0m\u001b[0;34m(\u001b[0m\u001b[0;36m100000\u001b[0m\u001b[0;34m)\u001b[0m\u001b[0;34m:\u001b[0m\u001b[0;34m\u001b[0m\u001b[0;34m\u001b[0m\u001b[0m\n\u001b[1;32m      2\u001b[0m     loss, ent = scst_objective_on_batch(\n\u001b[0;32m----> 3\u001b[0;31m         sample_batch(train_words, word_to_translation, 32)[0])  # [0] = only source sentence\n\u001b[0m\u001b[1;32m      4\u001b[0m \u001b[0;34m\u001b[0m\u001b[0m\n\u001b[1;32m      5\u001b[0m     \u001b[0;31m# train with backprop\u001b[0m\u001b[0;34m\u001b[0m\u001b[0;34m\u001b[0m\u001b[0;34m\u001b[0m\u001b[0m\n",
            "\u001b[0;32m<ipython-input-36-0af6ae6fcd3a>\u001b[0m in \u001b[0;36mscst_objective_on_batch\u001b[0;34m(input_sequence, max_len, device)\u001b[0m\n\u001b[1;32m      6\u001b[0m     \u001b[0msample_translations\u001b[0m\u001b[0;34m,\u001b[0m \u001b[0msample_logp\u001b[0m \u001b[0;34m=\u001b[0m \u001b[0mmodel\u001b[0m\u001b[0;34m.\u001b[0m\u001b[0mtranslate\u001b[0m\u001b[0;34m(\u001b[0m\u001b[0minput_sequence\u001b[0m\u001b[0;34m,\u001b[0m \u001b[0mgreedy\u001b[0m\u001b[0;34m=\u001b[0m\u001b[0;32mFalse\u001b[0m\u001b[0;34m,\u001b[0m \u001b[0mmax_len\u001b[0m\u001b[0;34m=\u001b[0m\u001b[0mmax_len\u001b[0m\u001b[0;34m)\u001b[0m \u001b[0;31m# YOUR CODE\u001b[0m\u001b[0;34m\u001b[0m\u001b[0;34m\u001b[0m\u001b[0m\n\u001b[1;32m      7\u001b[0m     \u001b[0;31m# use model to __greedy__ symbolic translations given input_sequence\u001b[0m\u001b[0;34m\u001b[0m\u001b[0;34m\u001b[0m\u001b[0;34m\u001b[0m\u001b[0m\n\u001b[0;32m----> 8\u001b[0;31m     \u001b[0mgreedy_translations\u001b[0m\u001b[0;34m,\u001b[0m \u001b[0mgreedy_logp\u001b[0m \u001b[0;34m=\u001b[0m \u001b[0mmodel\u001b[0m\u001b[0;34m.\u001b[0m\u001b[0mtranslate\u001b[0m\u001b[0;34m(\u001b[0m\u001b[0minput_sequence\u001b[0m\u001b[0;34m,\u001b[0m \u001b[0mgreedy\u001b[0m\u001b[0;34m=\u001b[0m\u001b[0;32mTrue\u001b[0m\u001b[0;34m,\u001b[0m \u001b[0mmax_len\u001b[0m\u001b[0;34m=\u001b[0m\u001b[0mmax_len\u001b[0m\u001b[0;34m)\u001b[0m \u001b[0;31m# YOUR CODE\u001b[0m\u001b[0;34m\u001b[0m\u001b[0;34m\u001b[0m\u001b[0m\n\u001b[0m\u001b[1;32m      9\u001b[0m \u001b[0;34m\u001b[0m\u001b[0m\n\u001b[1;32m     10\u001b[0m     \u001b[0;31m# compute rewards and advantage\u001b[0m\u001b[0;34m\u001b[0m\u001b[0;34m\u001b[0m\u001b[0;34m\u001b[0m\u001b[0m\n",
            "\u001b[0;32m/content/basic_model_torch.py\u001b[0m in \u001b[0;36mtranslate\u001b[0;34m(self, inp, greedy, max_len, eps, **flags)\u001b[0m\n\u001b[1;32m    111\u001b[0m             \u001b[0;32mif\u001b[0m \u001b[0mmax_len\u001b[0m \u001b[0;32mand\u001b[0m \u001b[0mlen\u001b[0m\u001b[0;34m(\u001b[0m\u001b[0mout_seq\u001b[0m\u001b[0;34m)\u001b[0m \u001b[0;34m>=\u001b[0m \u001b[0mmax_len\u001b[0m\u001b[0;34m:\u001b[0m \u001b[0;32mbreak\u001b[0m\u001b[0;34m\u001b[0m\u001b[0;34m\u001b[0m\u001b[0m\n\u001b[1;32m    112\u001b[0m \u001b[0;34m\u001b[0m\u001b[0m\n\u001b[0;32m--> 113\u001b[0;31m         \u001b[0;32mreturn\u001b[0m \u001b[0mtorch\u001b[0m\u001b[0;34m.\u001b[0m\u001b[0mstack\u001b[0m\u001b[0;34m(\u001b[0m\u001b[0mout_seq\u001b[0m\u001b[0;34m,\u001b[0m \u001b[0;36m1\u001b[0m\u001b[0;34m)\u001b[0m\u001b[0;34m,\u001b[0m \u001b[0mF\u001b[0m\u001b[0;34m.\u001b[0m\u001b[0mlog_softmax\u001b[0m\u001b[0;34m(\u001b[0m\u001b[0mtorch\u001b[0m\u001b[0;34m.\u001b[0m\u001b[0mstack\u001b[0m\u001b[0;34m(\u001b[0m\u001b[0mlogits_seq\u001b[0m\u001b[0;34m,\u001b[0m \u001b[0;36m1\u001b[0m\u001b[0;34m)\u001b[0m\u001b[0;34m,\u001b[0m \u001b[0mdim\u001b[0m\u001b[0;34m=\u001b[0m\u001b[0;34m-\u001b[0m\u001b[0;36m1\u001b[0m\u001b[0;34m)\u001b[0m\u001b[0;34m\u001b[0m\u001b[0;34m\u001b[0m\u001b[0m\n\u001b[0m\u001b[1;32m    114\u001b[0m \u001b[0;34m\u001b[0m\u001b[0m\n\u001b[1;32m    115\u001b[0m \u001b[0;34m\u001b[0m\u001b[0m\n",
            "\u001b[0;31mKeyboardInterrupt\u001b[0m: "
          ]
        }
      ]
    },
    {
      "cell_type": "code",
      "metadata": {
        "id": "kfIQzJaMmIFx"
      },
      "source": [
        "a = np.vstack(debug_list)"
      ],
      "execution_count": 40,
      "outputs": []
    },
    {
      "cell_type": "code",
      "metadata": {
        "id": "5IUFBbC3mIFx"
      },
      "source": [
        "b = a.reshape((-1))"
      ],
      "execution_count": 41,
      "outputs": []
    },
    {
      "cell_type": "code",
      "metadata": {
        "id": "X5JINk_DmIFy",
        "outputId": "09891c91-24fc-4e8a-e24a-f189ac643d2a",
        "colab": {
          "base_uri": "https://localhost:8080/"
        }
      },
      "source": [
        "b.shape"
      ],
      "execution_count": 42,
      "outputs": [
        {
          "output_type": "execute_result",
          "data": {
            "text/plain": [
              "(1008000,)"
            ]
          },
          "metadata": {
            "tags": []
          },
          "execution_count": 42
        }
      ]
    },
    {
      "cell_type": "code",
      "metadata": {
        "id": "cTlyqtsrmIFy"
      },
      "source": [
        "from collections import Counter"
      ],
      "execution_count": 43,
      "outputs": []
    },
    {
      "cell_type": "code",
      "metadata": {
        "id": "ZXmkKxsBmIFz"
      },
      "source": [
        "c = Counter(b)"
      ],
      "execution_count": 44,
      "outputs": []
    },
    {
      "cell_type": "code",
      "metadata": {
        "id": "3cbXxETUmIFz",
        "outputId": "cb78f37b-26cf-496c-8b39-db122c1a1054",
        "colab": {
          "base_uri": "https://localhost:8080/"
        }
      },
      "source": [
        "[x[1] for x in sorted(c.items(), key=lambda x: x[0])]"
      ],
      "execution_count": 45,
      "outputs": [
        {
          "output_type": "execute_result",
          "data": {
            "text/plain": [
              "[58080,\n",
              " 62540,\n",
              " 88020,\n",
              " 93400,\n",
              " 91380,\n",
              " 87340,\n",
              " 82380,\n",
              " 71180,\n",
              " 63580,\n",
              " 60700,\n",
              " 58720,\n",
              " 46140,\n",
              " 42120,\n",
              " 34420,\n",
              " 27880,\n",
              " 19920,\n",
              " 11300,\n",
              " 6700,\n",
              " 1600,\n",
              " 600]"
            ]
          },
          "metadata": {
            "tags": []
          },
          "execution_count": 45
        }
      ]
    },
    {
      "cell_type": "code",
      "metadata": {
        "id": "fHIT9ilgmIF1",
        "outputId": "ddaf6504-ccae-4c9d-f546-7a9ef938dcf5",
        "colab": {
          "base_uri": "https://localhost:8080/",
          "height": 401
        }
      },
      "source": [
        "plt.hist(b, bins=18)"
      ],
      "execution_count": 47,
      "outputs": [
        {
          "output_type": "execute_result",
          "data": {
            "text/plain": [
              "(array([120620.,  88020.,  93400.,  91380.,  87340.,  82380.,  71180.,\n",
              "         63580.,  60700.,  58720.,  46140.,  42120.,  34420.,  27880.,\n",
              "         19920.,  11300.,   6700.,   2200.]),\n",
              " array([ 0.       ,  1.0555556,  2.1111112,  3.1666667,  4.2222223,\n",
              "         5.2777777,  6.3333335,  7.388889 ,  8.444445 ,  9.5      ,\n",
              "        10.555555 , 11.611111 , 12.666667 , 13.722222 , 14.777778 ,\n",
              "        15.833333 , 16.88889  , 17.944445 , 19.       ], dtype=float32),\n",
              " <a list of 18 Patch objects>)"
            ]
          },
          "metadata": {
            "tags": []
          },
          "execution_count": 47
        },
        {
          "output_type": "display_data",
          "data": {
            "image/png": "[encoded data removed]",
            "text/plain": [
              "<Figure size 432x288 with 1 Axes>"
            ]
          },
          "metadata": {
            "tags": [],
            "needs_background": "light"
          }
        }
      ]
    },
    {
      "cell_type": "markdown",
      "metadata": {
        "id": "5IyJG0NKmIF2"
      },
      "source": [
        "__Debugging tips:__\n",
        "![img](https://github.com/yandexdataschool/Practical_RL/raw/master/yet_another_week/_resource/do_something_scst.png)\n",
        "\n",
        " * As usual, don't expect improvements right away, but in general the model should be able to show some positive changes by 5k steps.\n",
        " * Entropy is a good indicator of many problems. \n",
        "   * If it reaches zero, you may need greater entropy regularizer.\n",
        "   * If it has rapid changes time to time, you may need gradient clipping.\n",
        "   * If it oscillates up and down in an erratic manner... it's perfectly okay for entropy to do so. But it should decrease at the end.\n",
        "   \n",
        " * We don't show loss_history cuz it's uninformative for pseudo-losses in policy gradient. However, if something goes wrong you can check it to see if everything isn't a constant zero."
      ]
    },
    {
      "cell_type": "markdown",
      "metadata": {
        "id": "MTwEiD0smIF2"
      },
      "source": [
        "### Results"
      ]
    },
    {
      "cell_type": "code",
      "metadata": {
        "id": "M43KmEgamIF3",
        "outputId": "4a3aac77-f2c1-4fcb-922c-8306edc0edb7",
        "colab": {
          "base_uri": "https://localhost:8080/"
        }
      },
      "source": [
        "for word in train_words[:10]:\n",
        "    print(\"%s -> %s\" % (word, translate([word])[0]))"
      ],
      "execution_count": 48,
      "outputs": [
        {
          "output_type": "stream",
          "text": [
            "כל אנשי סמיילי -> kan simal\n",
            "קטגוריה:ערוץ 2 -> 2\n",
            "עבודה מהבית -> abdi ama\n",
            "פראליה -> paralia\n",
            "קפלר 42 -> kapler 2\n",
            "קטגוריה:מתאסלמים -> mathalsm\n",
            "בושמי -> boshami\n",
            "לאונרדו -> lonardo\n",
            "שאמה -> shama\n",
            "עכברה -> abra\n"
          ],
          "name": "stdout"
        }
      ]
    },
    {
      "cell_type": "code",
      "metadata": {
        "id": "mrGFtiVFmIF5",
        "outputId": "e08ce819-c378-4099-b156-7f47a88eff69",
        "colab": {
          "base_uri": "https://localhost:8080/"
        }
      },
      "source": [
        "test_scores = []\n",
        "for start_i in trange(0, len(test_words), 32):\n",
        "    batch_words = test_words[start_i:start_i+32]\n",
        "    batch_trans = translate(batch_words)\n",
        "    distances = list(map(get_distance, batch_words, batch_trans))\n",
        "    test_scores.extend(distances)\n",
        "print(\"Supervised test score:\", np.mean(test_scores))\n",
        "\n",
        "# ^^ If you get Out Of MemoryError, please replace this with batched computation"
      ],
      "execution_count": 49,
      "outputs": [
        {
          "output_type": "stream",
          "text": [
            "\n",
            "  0%|          | 0/407 [00:00<?, ?it/s]\u001b[A\n",
            "  2%|▏         | 9/407 [00:00<00:04, 86.50it/s]\u001b[A\n",
            "  4%|▍         | 18/407 [00:00<00:04, 86.56it/s]\u001b[A\n",
            "  7%|▋         | 27/407 [00:00<00:04, 87.26it/s]\u001b[A\n",
            "  9%|▉         | 36/407 [00:00<00:04, 86.95it/s]\u001b[A\n",
            " 11%|█         | 45/407 [00:00<00:04, 87.78it/s]\u001b[A\n",
            " 13%|█▎        | 53/407 [00:00<00:04, 83.05it/s]\u001b[A\n",
            " 15%|█▍        | 61/407 [00:00<00:04, 82.01it/s]\u001b[A\n",
            " 17%|█▋        | 70/407 [00:00<00:04, 83.39it/s]\u001b[A\n",
            " 19%|█▉        | 79/407 [00:00<00:03, 84.88it/s]\u001b[A\n",
            " 22%|██▏       | 88/407 [00:01<00:03, 86.08it/s]\u001b[A\n",
            " 24%|██▍       | 98/407 [00:01<00:03, 88.24it/s]\u001b[A\n",
            " 26%|██▋       | 107/407 [00:01<00:03, 88.12it/s]\u001b[A\n",
            " 29%|██▊       | 116/407 [00:01<00:03, 86.05it/s]\u001b[A\n",
            " 31%|███       | 126/407 [00:01<00:03, 87.75it/s]\u001b[A\n",
            " 33%|███▎      | 136/407 [00:01<00:03, 89.40it/s]\u001b[A\n",
            " 36%|███▌      | 145/407 [00:01<00:02, 87.78it/s]\u001b[A\n",
            " 38%|███▊      | 155/407 [00:01<00:02, 89.44it/s]\u001b[A\n",
            " 41%|████      | 165/407 [00:01<00:02, 89.81it/s]\u001b[A\n",
            " 43%|████▎     | 174/407 [00:01<00:02, 88.75it/s]\u001b[A\n",
            " 45%|████▌     | 184/407 [00:02<00:02, 89.91it/s]\u001b[A\n",
            " 47%|████▋     | 193/407 [00:02<00:02, 88.79it/s]\u001b[A\n",
            " 50%|████▉     | 203/407 [00:02<00:02, 89.47it/s]\u001b[A\n",
            " 52%|█████▏    | 213/407 [00:02<00:02, 90.46it/s]\u001b[A\n",
            " 55%|█████▍    | 223/407 [00:02<00:02, 91.36it/s]\u001b[A\n",
            " 57%|█████▋    | 233/407 [00:02<00:01, 90.83it/s]\u001b[A\n",
            " 60%|█████▉    | 243/407 [00:02<00:01, 90.34it/s]\u001b[A\n",
            " 62%|██████▏   | 253/407 [00:02<00:01, 87.85it/s]\u001b[A\n",
            " 64%|██████▍   | 262/407 [00:02<00:01, 85.92it/s]\u001b[A\n",
            " 67%|██████▋   | 271/407 [00:03<00:01, 86.42it/s]\u001b[A\n",
            " 69%|██████▉   | 280/407 [00:03<00:01, 86.49it/s]\u001b[A\n",
            " 71%|███████   | 289/407 [00:03<00:01, 85.01it/s]\u001b[A\n",
            " 73%|███████▎  | 298/407 [00:03<00:01, 85.10it/s]\u001b[A\n",
            " 75%|███████▌  | 307/407 [00:03<00:01, 82.85it/s]\u001b[A\n",
            " 78%|███████▊  | 316/407 [00:03<00:01, 84.05it/s]\u001b[A\n",
            " 80%|███████▉  | 325/407 [00:03<00:00, 84.39it/s]\u001b[A\n",
            " 82%|████████▏ | 334/407 [00:03<00:00, 85.13it/s]\u001b[A\n",
            " 85%|████████▍ | 344/407 [00:03<00:00, 87.11it/s]\u001b[A\n",
            " 87%|████████▋ | 353/407 [00:04<00:00, 86.93it/s]\u001b[A\n",
            " 89%|████████▉ | 362/407 [00:04<00:00, 87.56it/s]\u001b[A\n",
            " 91%|█████████▏| 372/407 [00:04<00:00, 89.01it/s]\u001b[A\n",
            " 94%|█████████▍| 382/407 [00:04<00:00, 90.35it/s]\u001b[A\n",
            " 96%|█████████▋| 392/407 [00:04<00:00, 91.31it/s]\u001b[A\n",
            "100%|██████████| 407/407 [00:04<00:00, 87.77it/s]"
          ],
          "name": "stderr"
        },
        {
          "output_type": "stream",
          "text": [
            "Supervised test score: 6.3181678450660925\n"
          ],
          "name": "stdout"
        },
        {
          "output_type": "stream",
          "text": [
            "\n"
          ],
          "name": "stderr"
        }
      ]
    },
    {
      "cell_type": "markdown",
      "metadata": {
        "id": "ueTRcoRhmIF6"
      },
      "source": [
        "### Bonus area: Make it actually work\n",
        "\n",
        "In this section we want you to finally __restart with EASY_MODE=False__ and experiment to find a good model/curriculum for that task.\n",
        "\n",
        "We recommend you to start with the following architecture\n",
        "\n",
        "```\n",
        "encoder---decoder\n",
        "\n",
        "           P(y|h)\n",
        "             ^\n",
        " LSTM  ->   LSTM\n",
        "  ^          ^\n",
        " biLSTM  ->   LSTM\n",
        "  ^          ^\n",
        "input       y_prev\n",
        "```\n",
        "\n",
        "__Note:__ you can fit all 4 state tensors of both LSTMs into a in a single state - just assume that it contains, for example, [h0, c0, h1, c1] - pack it in encode and update in decode.\n",
        "\n",
        "\n",
        "Here are some cool ideas on what you can do then.\n",
        "\n",
        "__General tips & tricks:__\n",
        "* You will likely need to adjust pre-training time for such a network.\n",
        "* Supervised pre-training may benefit from clipping gradients somehow.\n",
        "* SCST may indulge a higher learning rate in some cases and changing entropy regularizer over time.\n",
        "* It's often useful to save pre-trained model parameters to not re-train it every time you want new policy gradient parameters. \n",
        "* When leaving training for nighttime, try setting REPORT_FREQ to a larger value (e.g. 500) not to waste time on it.\n",
        "\n",
        "__Formal criteria:__\n",
        "Build an architecture that:\n",
        "* _doesn't consist of single GRU_\n",
        "* _works better_ than single GRU baseline. \n",
        "* We also want you to provide either learning curve or trained model, preferably both\n",
        "* ... and write a brief report or experiment log describing what you did and how it fared.\n",
        "\n",
        "### Attention\n",
        "There's more than one way to connect decoder to encoder\n",
        "  * __Vanilla:__ layer_i of encoder last state goes to layer_i of decoder initial state\n",
        "  * __Every tick:__ feed encoder last state _on every iteration_ of decoder.\n",
        "  * __Attention:__ allow decoder to \"peek\" at one (or several) positions of encoded sequence on every tick.\n",
        "  \n",
        "The most effective (and cool) of those is, of course, attention.\n",
        "You can read more about attention [in this nice blog post](https://distill.pub/2016/augmented-rnns/). The easiest way to begin is to use \"soft\" attention with \"additive\" or \"dot-product\" intermediate layers.\n",
        "\n",
        "__Tips__\n",
        "* Model usually generalizes better if you no longer allow decoder to see final encoder state\n",
        "* Once your model made it through several epochs, it is a good idea to visualize attention maps to understand what your model has actually learned\n",
        "\n",
        "* There's more stuff [here](https://github.com/yandexdataschool/Practical_RL/blob/master/week8_scst/bonus.ipynb)\n",
        "* If you opted for hard attention, we recommend [gumbel-softmax](https://blog.evjang.com/2016/11/tutorial-categorical-variational.html) instead of sampling. Also please make sure soft attention works fine before you switch to hard.\n",
        "\n",
        "### UREX\n",
        "* This is a way to improve exploration in policy-based settings. The main idea is that you find and upweight under-appreciated actions.\n",
        "* Here's [video](https://www.youtube.com/watch?v=fZNyHoXgV7M&feature=youtu.be&t=3444)\n",
        " and an [article](https://arxiv.org/abs/1611.09321).\n",
        "* You may want to reduce batch size 'cuz UREX requires you to sample multiple times per source sentence.\n",
        "* Once you got it working, try using experience replay with importance sampling instead of (in addition to) basic UREX.\n",
        "\n",
        "### Some additional ideas:\n",
        "* (advanced deep learning) It may be a good idea to first train on small phrases and then adapt to larger ones (a.k.a. training curriculum).\n",
        "* (advanced nlp) You may want to switch from raw utf8 to something like unicode or even syllables to make task easier.\n",
        "* (advanced nlp) Since hebrew words are written __with vowels omitted__, you may want to use a small Hebrew vowel markup dataset at `he-pron-wiktionary.txt`.\n",
        "\n"
      ]
    },
    {
      "cell_type": "code",
      "metadata": {
        "id": "Uae2NsA0mIF7"
      },
      "source": [
        "assert not EASY_MODE, \"make sure you set EASY_MODE = False at the top of the notebook.\""
      ],
      "execution_count": null,
      "outputs": []
    },
    {
      "cell_type": "markdown",
      "metadata": {
        "id": "LtC36pncmIF8"
      },
      "source": [
        "`[your report/log here or anywhere you please]`"
      ]
    },
    {
      "cell_type": "markdown",
      "metadata": {
        "id": "jkOwffcDmIF9"
      },
      "source": [
        "__Contributions:__ This notebook is brought to you by\n",
        "* Yandex [MT team](https://tech.yandex.com/translate/)\n",
        "* Denis Mazur ([DeniskaMazur](https://github.com/DeniskaMazur)), Oleg Vasilev ([Omrigan](https://github.com/Omrigan/)), Dmitry Emelyanenko ([TixFeniks](https://github.com/tixfeniks)) and Fedor Ratnikov ([justheuristic](https://github.com/justheuristic/))\n",
        "* Dataset is parsed from [Wiktionary](https://en.wiktionary.org), which is under CC-BY-SA and GFDL licenses.\n"
      ]
    }
  ]
}