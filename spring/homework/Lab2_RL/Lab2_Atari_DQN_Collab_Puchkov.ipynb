{
  "nbformat": 4,
  "nbformat_minor": 0,
  "metadata": {
    "anaconda-cloud": {},
    "kernelspec": {
      "display_name": "Python 3",
      "language": "python",
      "name": "python3"
    },
    "language_info": {
      "codemirror_mode": {
        "name": "ipython",
        "version": 3
      },
      "file_extension": ".py",
      "mimetype": "text/x-python",
      "name": "python",
      "nbconvert_exporter": "python",
      "pygments_lexer": "ipython3",
      "version": "3.7.7"
    },
    "colab": {
      "name": "Lab2_Atari_DQN_Collab_Puchkov.ipynb",
      "provenance": [],
      "collapsed_sections": [
        "hLsHA24I-6fJ"
      ],
      "toc_visible": true
    },
    "accelerator": "GPU"
  },
  "cells": [
    {
      "cell_type": "markdown",
      "metadata": {
        "id": "0q2xSOqJ-6eZ"
      },
      "source": [
        "# Lab 2: Deep Q-Network implementation\n",
        "\n",
        "This homework shamelessly demands you to implement a DQN - an approximate q-learning algorithm with experience replay and target networks - and see if it works any better this way.\n",
        "\n",
        "Original paper:\n",
        "https://arxiv.org/pdf/1312.5602.pdf"
      ]
    },
    {
      "cell_type": "markdown",
      "metadata": {
        "id": "z0mbdtCZ-6en"
      },
      "source": [
        "**This notebook is the main notebook.** Another notebook is given for debug. The tasks are similar and share most of the code. The main difference is in environments. In main notebook it can take some 2 hours for the agent to start improving so it seems reasonable to launch the algorithm on a simpler env first. Here it is CartPole and it will train in several minutes.\n",
        "\n",
        "**We suggest the following pipeline:** First implement debug notebook then implement the main one."
      ]
    },
    {
      "cell_type": "code",
      "metadata": {
        "id": "d9QOasKz-6ep",
        "colab": {
          "base_uri": "https://localhost:8080/"
        },
        "outputId": "f2ed1661-04bd-47fc-fe06-f72e56bb4b5d"
      },
      "source": [
        "import sys, os\n",
        "if 'google.colab' in sys.modules and not os.path.exists('.setup_complete'):\n",
        "    !wget -q https://raw.githubusercontent.com/yandexdataschool/Practical_RL/master/setup_colab.sh -O- | bash\n",
        "    !touch .setup_complete\n",
        "\n",
        "# This code creates a virtual display to draw game images on.\n",
        "# It will have no effect if your machine has a monitor.\n",
        "if type(os.environ.get(\"DISPLAY\")) is not str or len(os.environ.get(\"DISPLAY\")) == 0:\n",
        "    !bash ../xvfb start\n",
        "    os.environ['DISPLAY'] = ':1'"
      ],
      "execution_count": 1,
      "outputs": [
        {
          "output_type": "stream",
          "text": [
            "Selecting previously unselected package xvfb.\n",
            "(Reading database ... 160690 files and directories currently installed.)\n",
            "Preparing to unpack .../xvfb_2%3a1.19.6-1ubuntu4.9_amd64.deb ...\n",
            "Unpacking xvfb (2:1.19.6-1ubuntu4.9) ...\n",
            "Setting up xvfb (2:1.19.6-1ubuntu4.9) ...\n",
            "Processing triggers for man-db (2.8.3-2ubuntu0.1) ...\n",
            "Starting virtual X frame buffer: Xvfb.\n"
          ],
          "name": "stdout"
        }
      ]
    },
    {
      "cell_type": "code",
      "metadata": {
        "id": "iHxFGvEG-6er",
        "colab": {
          "base_uri": "https://localhost:8080/"
        },
        "outputId": "8f82f393-ec55-458d-de51-f707366e4155"
      },
      "source": [
        "# in google colab uncomment this\n",
        "\n",
        "prefix = 'https://raw.githubusercontent.com/yandexdataschool/Practical_RL/spring19/week04_approx_rl/'\n",
        "\n",
        "os.system('wget ' + prefix + 'atari_wrappers.py')\n",
        "os.system('wget ' + prefix + 'utils.py')\n",
        "os.system('wget ' + prefix + 'replay_buffer.py')\n",
        "os.system('wget ' + prefix + 'framebuffer.py')\n",
        "\n",
        "print('setup complete')"
      ],
      "execution_count": 2,
      "outputs": [
        {
          "output_type": "stream",
          "text": [
            "setup complete\n"
          ],
          "name": "stdout"
        }
      ]
    },
    {
      "cell_type": "markdown",
      "metadata": {
        "id": "zJ8LRveS-6es"
      },
      "source": [
        "__Frameworks__ - we'll accept this homework in any deep learning framework. This particular notebook was designed for pytoch, but you find it easy to adapt it to almost any python-based deep learning framework."
      ]
    },
    {
      "cell_type": "code",
      "metadata": {
        "id": "toUIC7B2-6es"
      },
      "source": [
        "import random\n",
        "import numpy as np\n",
        "import torch\n",
        "import utils\n",
        "import cv2"
      ],
      "execution_count": 3,
      "outputs": []
    },
    {
      "cell_type": "code",
      "metadata": {
        "id": "hLQBS5p8-6es"
      },
      "source": [
        "import gym\n",
        "import numpy as np\n",
        "import matplotlib.pyplot as plt"
      ],
      "execution_count": 4,
      "outputs": []
    },
    {
      "cell_type": "markdown",
      "metadata": {
        "id": "Pg5LUYHu-6et"
      },
      "source": [
        "### Let's play some old videogames\n",
        "![img](https://github.com/yandexdataschool/Practical_RL/raw/master/yet_another_week/_resource/nerd.png)\n",
        "\n",
        "This time we're gonna apply approximate q-learning to an atari game called Breakout. It's not the hardest thing out there, but it's definitely way more complex than anything we tried before.\n"
      ]
    },
    {
      "cell_type": "code",
      "metadata": {
        "id": "niT5shr2-6eu"
      },
      "source": [
        "ENV_NAME = \"BreakoutNoFrameskip-v4\""
      ],
      "execution_count": 5,
      "outputs": []
    },
    {
      "cell_type": "markdown",
      "metadata": {
        "id": "NlSA6e65-6eu"
      },
      "source": [
        "## 1. Preprocessing "
      ]
    },
    {
      "cell_type": "markdown",
      "metadata": {
        "id": "3GKdXJZ_-6eu"
      },
      "source": [
        "Let's see what observations look like."
      ]
    },
    {
      "cell_type": "code",
      "metadata": {
        "id": "eAINTYPg-6ev",
        "colab": {
          "base_uri": "https://localhost:8080/",
          "height": 520
        },
        "outputId": "07af1107-0777-49aa-80c7-986abbd1a169"
      },
      "source": [
        "env = gym.make(ENV_NAME)\n",
        "env.reset()\n",
        "\n",
        "n_cols = 5\n",
        "n_rows = 2\n",
        "fig = plt.figure(figsize=(16, 9))\n",
        "\n",
        "for row in range(n_rows):\n",
        "    for col in range(n_cols):\n",
        "        ax = fig.add_subplot(n_rows, n_cols, row * n_cols + col + 1)\n",
        "        ax.imshow(env.render('rgb_array'))\n",
        "        env.step(env.action_space.sample())\n",
        "plt.show()"
      ],
      "execution_count": 6,
      "outputs": [
        {
          "output_type": "display_data",
          "data": {
            "image/png": "[encoded data removed]",
            "text/plain": [
              "<Figure size 1152x648 with 10 Axes>"
            ]
          },
          "metadata": {
            "tags": [],
            "needs_background": "light"
          }
        }
      ]
    },
    {
      "cell_type": "markdown",
      "metadata": {
        "id": "QqCvbwkH-6ev"
      },
      "source": [
        "**Let's play a little.**\n",
        "\n",
        "Pay attention to zoom and fps args of play function. Control: A, D, space."
      ]
    },
    {
      "cell_type": "code",
      "metadata": {
        "id": "yykl1Yvr-6ew"
      },
      "source": [
        "# does not work in colab.\n",
        "# make keyboard interrupt to continue\n",
        "\n",
        "#from gym.utils.play import play\n",
        "\n",
        "#play(env=gym.make(ENV_NAME), zoom=5, fps=30)"
      ],
      "execution_count": 7,
      "outputs": []
    },
    {
      "cell_type": "markdown",
      "metadata": {
        "id": "Jw7bzyTh-6ex"
      },
      "source": [
        "### Processing game image \n",
        "\n",
        "Raw atari images are large, 210x160x3 by default. However, we don't need that level of detail in order to learn them.\n",
        "\n",
        "We can thus save a lot of time by preprocessing game image, including\n",
        "* Resizing to a smaller shape, 64 x 64\n",
        "* Converting to grayscale\n",
        "* Cropping irrelevant image parts (top, bottom and edges)\n",
        "\n",
        "Also please keep one dimension for channel so that final shape would be 1 x 64 x 64.\n",
        "\n",
        "Tip: You can implement your own grayscale converter and assign a huge weight to the red channel. This dirty trick is not necessary but it will speed up learning."
      ]
    },
    {
      "cell_type": "code",
      "metadata": {
        "id": "6pBrUAku-6ex"
      },
      "source": [
        "from gym.core import ObservationWrapper\n",
        "from gym.spaces import Box\n",
        "\n",
        "\n",
        "class PreprocessAtariObs(ObservationWrapper):\n",
        "    def __init__(self, env):\n",
        "        \"\"\"A gym wrapper that crops, scales image into the desired shapes and grayscales it.\"\"\"\n",
        "        ObservationWrapper.__init__(self, env)\n",
        "\n",
        "        self.img_size = (1, 64, 64)\n",
        "        self.observation_space = Box(0.0, 1.0, self.img_size)\n",
        "\n",
        "\n",
        "    def _to_gray_scale(self, rgb, channel_weights=[0.8, 0.1, 0.1]):\n",
        "        return np.dot(rgb / 255, channel_weights)\n",
        "\n",
        "\n",
        "    def observation(self, img):\n",
        "        \"\"\"what happens to each observation\"\"\"\n",
        "\n",
        "        # Here's what you need to do:\n",
        "        #  * crop image, remove irrelevant parts\n",
        "        #  * resize image to self.img_size\n",
        "        #     (use imresize from any library you want,\n",
        "        #      e.g. opencv, skimage, PIL, keras)\n",
        "        #  * cast image to grayscale\n",
        "        #  * convert image pixels to (0,1) range, float32 type\n",
        "        img = self._to_gray_scale(img)\n",
        "        img = cv2.resize(img[37:-17, 7:-8], self.img_size[1:])\n",
        "        return np.expand_dims(img.astype(np.float32), axis=0)"
      ],
      "execution_count": 8,
      "outputs": []
    },
    {
      "cell_type": "code",
      "metadata": {
        "id": "pNRV2OjN-6ey",
        "colab": {
          "base_uri": "https://localhost:8080/",
          "height": 488
        },
        "outputId": "82b1823f-75d1-474e-a230-ff3c797da695"
      },
      "source": [
        "import gym\n",
        "# spawn game instance for tests\n",
        "env = gym.make(ENV_NAME)  # create raw env\n",
        "env = PreprocessAtariObs(env)\n",
        "observation_shape = env.observation_space.shape\n",
        "n_actions = env.action_space.n\n",
        "env.reset()\n",
        "obs, _, _, _ = env.step(env.action_space.sample())\n",
        "\n",
        "# test observation\n",
        "assert obs.ndim == 3, \"observation must be [channel, h, w] even if there's just one channel\"\n",
        "assert obs.shape == observation_shape\n",
        "assert obs.dtype == 'float32'\n",
        "assert len(np.unique(obs)) > 2, \"your image must not be binary\"\n",
        "assert 0 <= np.min(obs) and np.max(\n",
        "    obs) <= 1, \"convert image pixels to [0,1] range\"\n",
        "\n",
        "print(\"Formal tests seem fine. Here's an example of what you'll get.\")\n",
        "\n",
        "n_cols = 5\n",
        "n_rows = 2\n",
        "fig = plt.figure(figsize=(16, 9))\n",
        "obs = env.reset()\n",
        "for row in range(n_rows):\n",
        "    for col in range(n_cols):\n",
        "        ax = fig.add_subplot(n_rows, n_cols, row * n_cols + col + 1)\n",
        "        ax.imshow(obs[0, :, :], interpolation='none', cmap='gray')\n",
        "        obs, _, _, _ = env.step(env.action_space.sample())\n",
        "plt.show()"
      ],
      "execution_count": 9,
      "outputs": [
        {
          "output_type": "stream",
          "text": [
            "Formal tests seem fine. Here's an example of what you'll get.\n"
          ],
          "name": "stdout"
        },
        {
          "output_type": "display_data",
          "data": {
            "image/png": "[encoded data removed]",
            "text/plain": [
              "<Figure size 1152x648 with 10 Axes>"
            ]
          },
          "metadata": {
            "tags": [],
            "needs_background": "light"
          }
        }
      ]
    },
    {
      "cell_type": "markdown",
      "metadata": {
        "id": "lt_NRAWh-6e0"
      },
      "source": [
        "### Wrapping."
      ]
    },
    {
      "cell_type": "markdown",
      "metadata": {
        "id": "ehoc4ooO-6e1"
      },
      "source": [
        "**About the game:** You have 5 lives and get points for breaking the wall. Higher bricks cost more than the lower ones. There are 4 actions: start game (should be called at the beginning and after each life is lost), move left, move right and do nothing. There are some common wrappers used for Atari environments."
      ]
    },
    {
      "cell_type": "code",
      "metadata": {
        "id": "Hmg3x-UH-6e1"
      },
      "source": [
        "%load_ext autoreload\n",
        "%autoreload 2\n",
        "import atari_wrappers\n",
        "\n",
        "def PrimaryAtariWrap(env, clip_rewards=True):\n",
        "    assert 'NoFrameskip' in env.spec.id\n",
        "\n",
        "    # This wrapper holds the same action for <skip> frames and outputs\n",
        "    # the maximal pixel value of 2 last frames (to handle blinking\n",
        "    # in some envs)\n",
        "    env = atari_wrappers.MaxAndSkipEnv(env, skip=4)\n",
        "\n",
        "    # This wrapper sends done=True when each life is lost\n",
        "    # (not all the 5 lives that are givern by the game rules).\n",
        "    # It should make easier for the agent to understand that losing is bad.\n",
        "    env = atari_wrappers.EpisodicLifeEnv(env)\n",
        "\n",
        "    # This wrapper laucnhes the ball when an episode starts.\n",
        "    # Without it the agent has to learn this action, too.\n",
        "    # Actually it can but learning would take longer.\n",
        "    env = atari_wrappers.FireResetEnv(env)\n",
        "\n",
        "    # This wrapper transforms rewards to {-1, 0, 1} according to their sign\n",
        "    if clip_rewards:\n",
        "        env = atari_wrappers.ClipRewardEnv(env)\n",
        "\n",
        "    # This wrapper is yours :)\n",
        "    env = PreprocessAtariObs(env)\n",
        "    return env"
      ],
      "execution_count": 10,
      "outputs": []
    },
    {
      "cell_type": "markdown",
      "metadata": {
        "id": "AEJSy4hB-6e2"
      },
      "source": [
        "**Let's see if the game is still playable after applying the wrappers.**\n",
        "At playing the EpisodicLifeEnv wrapper seems not to work but actually it does (because after when life finishes a new ball is dropped automatically - it means that FireResetEnv wrapper understands that a new episode began)."
      ]
    },
    {
      "cell_type": "code",
      "metadata": {
        "id": "ZUkkvVLc-6e3",
        "colab": {
          "base_uri": "https://localhost:8080/",
          "height": 52
        },
        "outputId": "1e716f81-4472-4333-be34-a91becbf856b"
      },
      "source": [
        "# does not work in colab.\n",
        "# make keyboard interrupt to continue\n",
        "'''\n",
        "from gym.utils.play import play\n",
        "\n",
        "def make_play_env():\n",
        "    env = gym.make(ENV_NAME)\n",
        "    env = PrimaryAtariWrap(env)\n",
        "# in torch imgs have shape [c, h, w] instead of common [h, w, c]\n",
        "    env = atari_wrappers.AntiTorchWrapper(env)\n",
        "    return env\n",
        "\n",
        "play(make_play_env(), zoom=10, fps=3)\n",
        "'''"
      ],
      "execution_count": 11,
      "outputs": [
        {
          "output_type": "execute_result",
          "data": {
            "application/vnd.google.colaboratory.intrinsic+json": {
              "type": "string"
            },
            "text/plain": [
              "'\\nfrom gym.utils.play import play\\n\\ndef make_play_env():\\n    env = gym.make(ENV_NAME)\\n    env = PrimaryAtariWrap(env)\\n# in torch imgs have shape [c, h, w] instead of common [h, w, c]\\n    env = atari_wrappers.AntiTorchWrapper(env)\\n    return env\\n\\nplay(make_play_env(), zoom=10, fps=3)\\n'"
            ]
          },
          "metadata": {
            "tags": []
          },
          "execution_count": 11
        }
      ]
    },
    {
      "cell_type": "markdown",
      "metadata": {
        "id": "Js1IApT--6e4"
      },
      "source": [
        "### Frame buffer\n",
        "\n",
        "Our agent can only process one observation at a time, so we gotta make sure it contains enough information to find optimal actions. For instance, agent has to react to moving objects so he must be able to measure object's velocity.\n",
        "\n",
        "To do so, we introduce a buffer that stores 4 last images. This time everything is pre-implemented for you, not really by the staff of the course :)"
      ]
    },
    {
      "cell_type": "code",
      "metadata": {
        "scrolled": true,
        "id": "bgJAUkeJ-6e5"
      },
      "source": [
        "from framebuffer import FrameBuffer\n",
        "\n",
        "def make_env(clip_rewards=True, seed=None):\n",
        "    env = gym.make(ENV_NAME)  # create raw env\n",
        "    if seed is not None:\n",
        "        env.seed(seed)\n",
        "    env = PrimaryAtariWrap(env, clip_rewards)\n",
        "    env = FrameBuffer(env, n_frames=4, dim_order='pytorch')\n",
        "    return env\n",
        "\n",
        "env = make_env()\n",
        "env.reset()\n",
        "n_actions = env.action_space.n\n",
        "state_shape = env.observation_space.shape"
      ],
      "execution_count": 12,
      "outputs": []
    },
    {
      "cell_type": "code",
      "metadata": {
        "id": "dxWp3XBB-6e5",
        "colab": {
          "base_uri": "https://localhost:8080/",
          "height": 1000
        },
        "outputId": "109731f9-01b0-4784-f782-69e9f9015894"
      },
      "source": [
        "for _ in range(12):\n",
        "    obs, _, _, _ = env.step(env.action_space.sample())\n",
        "\n",
        "plt.figure(figsize=[12,10])\n",
        "plt.title(\"Game image\")\n",
        "plt.imshow(env.render(\"rgb_array\"))\n",
        "plt.show()\n",
        "\n",
        "plt.figure(figsize=[15,15])\n",
        "plt.title(\"Agent observation (4 frames top to bottom)\")\n",
        "plt.imshow(utils.img_by_obs(obs, state_shape), cmap='gray')\n",
        "plt.show()"
      ],
      "execution_count": 13,
      "outputs": [
        {
          "output_type": "display_data",
          "data": {
            "image/png": "[encoded data removed]",
            "text/plain": [
              "<Figure size 864x720 with 1 Axes>"
            ]
          },
          "metadata": {
            "tags": [],
            "needs_background": "light"
          }
        },
        {
          "output_type": "display_data",
          "data": {
            "image/png": "[encoded data removed]",
            "text/plain": [
              "<Figure size 1080x1080 with 1 Axes>"
            ]
          },
          "metadata": {
            "tags": [],
            "needs_background": "light"
          }
        }
      ]
    },
    {
      "cell_type": "markdown",
      "metadata": {
        "id": "M_J8u6SP-6e6"
      },
      "source": [
        "## 2. DQN as it is"
      ]
    },
    {
      "cell_type": "markdown",
      "metadata": {
        "id": "8T1ue9LU-6e6"
      },
      "source": [
        "### Building a network\n",
        "\n",
        "We now need to build a neural network that can map images to state q-values. This network will be called on every agent's step so it better not be resnet-152 unless you have an array of GPUs. Instead, you can use strided convolutions with a small number of features to save time and memory.\n",
        "\n",
        "You can build any architecture you want, but for reference, here's something that will more or less work:"
      ]
    },
    {
      "cell_type": "markdown",
      "metadata": {
        "id": "tXWbTfCS-6e7"
      },
      "source": [
        "![img](https://github.com/yandexdataschool/Practical_RL/raw/master/yet_another_week/_resource/dqn_arch.png)"
      ]
    },
    {
      "cell_type": "code",
      "metadata": {
        "id": "GFNP2bwA-6e8",
        "colab": {
          "base_uri": "https://localhost:8080/"
        },
        "outputId": "f73d00bc-ce8c-434d-dcce-46a181a0e4f3"
      },
      "source": [
        "import torch\n",
        "import torch.nn as nn\n",
        "device = torch.device('cuda' if torch.cuda.is_available() else 'cpu')\n",
        "# those who have a GPU but feel unfair to use it can uncomment:\n",
        "# device = torch.device('cpu')\n",
        "device"
      ],
      "execution_count": 14,
      "outputs": [
        {
          "output_type": "execute_result",
          "data": {
            "text/plain": [
              "device(type='cpu')"
            ]
          },
          "metadata": {
            "tags": []
          },
          "execution_count": 14
        }
      ]
    },
    {
      "cell_type": "code",
      "metadata": {
        "id": "90JwriTS-6e9"
      },
      "source": [
        "def conv2d_size_out(size, kernel_size, stride):\n",
        "    \"\"\"\n",
        "    common use case:\n",
        "    cur_layer_img_w = conv2d_size_out(cur_layer_img_w, kernel_size, stride)\n",
        "    cur_layer_img_h = conv2d_size_out(cur_layer_img_h, kernel_size, stride)\n",
        "    to understand the shape for dense layer's input\n",
        "    \"\"\"\n",
        "    return (size - (kernel_size - 1) - 1) // stride  + 1\n",
        "\n",
        "\n",
        "class Flatten(nn.Module):\n",
        "    def __init__(self):\n",
        "        super().__init__()\n",
        "        \n",
        "    def forward(self, x):\n",
        "        return x.view(x.size(0), -1)"
      ],
      "execution_count": 15,
      "outputs": []
    },
    {
      "cell_type": "code",
      "metadata": {
        "id": "1t0LNeF0-6e9"
      },
      "source": [
        "class DQNAgent(nn.Module):\n",
        "    def __init__(self, state_shape, n_actions, epsilon=0):\n",
        "\n",
        "        super().__init__()\n",
        "        self.epsilon = epsilon\n",
        "        self.n_actions = n_actions\n",
        "        self.state_shape = state_shape\n",
        "\n",
        "        # Define your network body here. Please make sure agent is fully contained here\n",
        "        sz = conv2d_size_out(64, 3, 2)\n",
        "        sz = conv2d_size_out(sz, 3, 2)\n",
        "        sz = conv2d_size_out(sz, 3, 2)\n",
        "        \n",
        "        self.nn = nn.Sequential(\n",
        "            nn.Conv2d(\n",
        "                in_channels=state_shape[0],\n",
        "                out_channels=16,\n",
        "                kernel_size=3,\n",
        "                stride=2\n",
        "            ),\n",
        "            nn.ReLU(),\n",
        "            nn.Conv2d(\n",
        "                in_channels=16,\n",
        "                out_channels=32,\n",
        "                kernel_size=3,\n",
        "                stride=2\n",
        "            ),\n",
        "            nn.ReLU(),\n",
        "            nn.Conv2d(\n",
        "                in_channels=32,\n",
        "                out_channels=64,\n",
        "                kernel_size=3,\n",
        "                stride=2\n",
        "            ),\n",
        "            nn.ReLU(),\n",
        "            Flatten(),\n",
        "            nn.Linear(\n",
        "                sz * sz * 64,\n",
        "                256\n",
        "            ),\n",
        "            nn.ReLU(),\n",
        "            nn.Linear(\n",
        "                256,\n",
        "                n_actions\n",
        "            )\n",
        "        )\n",
        "\n",
        "    def forward(self, state_t):\n",
        "        \"\"\"\n",
        "        takes agent's observation (tensor), returns qvalues (tensor)\n",
        "        :param state_t: a batch of 4-frame buffers, shape = [batch_size, 4, h, w]\n",
        "        \"\"\"\n",
        "        # Use your network to compute qvalues for given state\n",
        "        qvalues = self.nn(state_t)\n",
        "\n",
        "        assert qvalues.requires_grad, \"qvalues must be a torch tensor with grad\"\n",
        "        assert len(\n",
        "            qvalues.shape) == 2 and qvalues.shape[0] == state_t.shape[0] and qvalues.shape[1] == n_actions\n",
        "\n",
        "        return qvalues\n",
        "\n",
        "    def get_qvalues(self, states):\n",
        "        \"\"\"\n",
        "        like forward, but works on numpy arrays, not tensors\n",
        "        \"\"\"\n",
        "        model_device = next(self.parameters()).device\n",
        "        states = torch.tensor(states, device=model_device, dtype=torch.float)\n",
        "        qvalues = self.forward(states)\n",
        "        return qvalues.data.cpu().numpy()\n",
        "\n",
        "    def sample_actions(self, qvalues):\n",
        "        \"\"\"pick actions given qvalues. Uses epsilon-greedy exploration strategy. \"\"\"\n",
        "        epsilon = self.epsilon\n",
        "        batch_size, n_actions = qvalues.shape\n",
        "\n",
        "        random_actions = np.random.choice(n_actions, size=batch_size)\n",
        "        best_actions = qvalues.argmax(axis=-1)\n",
        "\n",
        "        should_explore = np.random.choice(\n",
        "            [0, 1], batch_size, p=[1-epsilon, epsilon])\n",
        "        return np.where(should_explore, random_actions, best_actions)"
      ],
      "execution_count": 16,
      "outputs": []
    },
    {
      "cell_type": "code",
      "metadata": {
        "id": "NU2uwOhw-6e-"
      },
      "source": [
        "agent = DQNAgent(state_shape, n_actions, epsilon=0.5).to(device)"
      ],
      "execution_count": 17,
      "outputs": []
    },
    {
      "cell_type": "markdown",
      "metadata": {
        "id": "A0iod679-6e-"
      },
      "source": [
        "Now let's try out our agent to see if it raises any errors."
      ]
    },
    {
      "cell_type": "code",
      "metadata": {
        "id": "YnOcaQzx-6e_"
      },
      "source": [
        "def evaluate(env, agent, n_games=1, greedy=False, t_max=10000):\n",
        "    \"\"\" Plays n_games full games. If greedy, picks actions as argmax(qvalues). Returns mean reward. \"\"\"\n",
        "    rewards = []\n",
        "    for _ in range(n_games):\n",
        "        s = env.reset()\n",
        "        reward = 0\n",
        "        for _ in range(t_max):\n",
        "            qvalues = agent.get_qvalues([s])\n",
        "            action = qvalues.argmax(axis=-1)[0] if greedy else agent.sample_actions(qvalues)[0]\n",
        "            s, r, done, _ = env.step(action)\n",
        "            reward += r\n",
        "            if done:\n",
        "                break\n",
        "\n",
        "        rewards.append(reward)\n",
        "    return np.mean(rewards)"
      ],
      "execution_count": 18,
      "outputs": []
    },
    {
      "cell_type": "code",
      "metadata": {
        "id": "wWcWCcJp-6e_",
        "colab": {
          "base_uri": "https://localhost:8080/"
        },
        "outputId": "1051cddf-8168-4c7f-9ec6-da254ea0d6b0"
      },
      "source": [
        "evaluate(env, agent, n_games=1)"
      ],
      "execution_count": 19,
      "outputs": [
        {
          "output_type": "execute_result",
          "data": {
            "text/plain": [
              "1.0"
            ]
          },
          "metadata": {
            "tags": []
          },
          "execution_count": 19
        }
      ]
    },
    {
      "cell_type": "markdown",
      "metadata": {
        "id": "Aed5Oa9O-6fA"
      },
      "source": [
        "### Experience replay\n",
        "For this assignment, we provide you with experience replay buffer. If you implemented experience replay buffer in previous assignment, you can copy-paste it here.\n",
        "\n",
        "![img](https://github.com/yandexdataschool/Practical_RL/raw/master/yet_another_week/_resource/exp_replay.png)"
      ]
    },
    {
      "cell_type": "markdown",
      "metadata": {
        "id": "vyCSoxBA-6fA"
      },
      "source": [
        "#### The interface is fairly simple:\n",
        "* `exp_replay.add(obs, act, rw, next_obs, done)` - saves (s,a,r,s',done) tuple into the buffer\n",
        "* `exp_replay.sample(batch_size)` - returns observations, actions, rewards, next_observations and is_done for `batch_size` random samples.\n",
        "* `len(exp_replay)` - returns number of elements stored in replay buffer."
      ]
    },
    {
      "cell_type": "code",
      "metadata": {
        "id": "gokNjpS4-6fA"
      },
      "source": [
        "from replay_buffer import ReplayBuffer\n",
        "exp_replay = ReplayBuffer(10)\n",
        "\n",
        "for _ in range(30):\n",
        "    exp_replay.add(env.reset(), env.action_space.sample(),\n",
        "                   1.0, env.reset(), done=False)\n",
        "\n",
        "obs_batch, act_batch, reward_batch, next_obs_batch, is_done_batch = exp_replay.sample(\n",
        "    5)\n",
        "\n",
        "assert len(exp_replay) == 10, \"experience replay size should be 10 because that's what maximum capacity is\""
      ],
      "execution_count": 20,
      "outputs": []
    },
    {
      "cell_type": "code",
      "metadata": {
        "id": "-USuSiRR-6fA"
      },
      "source": [
        "def play_and_record(initial_state, agent, env, exp_replay, n_steps=1):\n",
        "    \"\"\"\n",
        "    Play the game for exactly n steps, record every (s,a,r,s', done) to replay buffer. \n",
        "    Whenever game ends, add record with done=True and reset the game.\n",
        "    It is guaranteed that env has done=False when passed to this function.\n",
        "\n",
        "    PLEASE DO NOT RESET ENV UNLESS IT IS \"DONE\"\n",
        "\n",
        "    :returns: return sum of rewards over time and the state in which the env stays\n",
        "    \"\"\"\n",
        "    s = initial_state\n",
        "    sum_rewards = 0\n",
        "\n",
        "    # Play the game for n_steps as per instructions above\n",
        "    for _ in range(n_steps):\n",
        "        qvalues = agent.get_qvalues([s])\n",
        "        action = agent.sample_actions(qvalues)[0]\n",
        "\n",
        "        next_s, r, done, _ = env.step(action)\n",
        "\n",
        "        exp_replay.add(s, action, r, next_s, done)\n",
        "        s = env.reset() if done else next_s\n",
        "        sum_rewards += r\n",
        "\n",
        "    return sum_rewards, s"
      ],
      "execution_count": 21,
      "outputs": []
    },
    {
      "cell_type": "code",
      "metadata": {
        "id": "De7wgvxn-6fB",
        "colab": {
          "base_uri": "https://localhost:8080/"
        },
        "outputId": "c2209fd6-f6d4-4f7d-b4f8-245c2b2c8c2c"
      },
      "source": [
        "# testing your code.\n",
        "exp_replay = ReplayBuffer(2000)\n",
        "\n",
        "state = env.reset()\n",
        "play_and_record(state, agent, env, exp_replay, n_steps=1000)\n",
        "\n",
        "# if you're using your own experience replay buffer, some of those tests may need correction.\n",
        "# just make sure you know what your code does\n",
        "assert len(exp_replay) == 1000, \"play_and_record should have added exactly 1000 steps, \"\\\n",
        "                                 \"but instead added %i\" % len(exp_replay)\n",
        "is_dones = list(zip(*exp_replay._storage))[-1]\n",
        "\n",
        "assert 0 < np.mean(is_dones) < 0.1, \"Please make sure you restart the game whenever it is 'done' and record the is_done correctly into the buffer.\"\\\n",
        "                                    \"Got %f is_done rate over %i steps. [If you think it's your tough luck, just re-run the test]\" % (\n",
        "                                        np.mean(is_dones), len(exp_replay))\n",
        "\n",
        "for _ in range(100):\n",
        "    obs_batch, act_batch, reward_batch, next_obs_batch, is_done_batch = exp_replay.sample(\n",
        "        10)\n",
        "    assert obs_batch.shape == next_obs_batch.shape == (10,) + state_shape\n",
        "    assert act_batch.shape == (\n",
        "        10,), \"actions batch should have shape (10,) but is instead %s\" % str(act_batch.shape)\n",
        "    assert reward_batch.shape == (\n",
        "        10,), \"rewards batch should have shape (10,) but is instead %s\" % str(reward_batch.shape)\n",
        "    assert is_done_batch.shape == (\n",
        "        10,), \"is_done batch should have shape (10,) but is instead %s\" % str(is_done_batch.shape)\n",
        "    assert [int(i) in (0, 1)\n",
        "            for i in is_dones], \"is_done should be strictly True or False\"\n",
        "    assert [\n",
        "        0 <= a < n_actions for a in act_batch], \"actions should be within [0, n_actions)\"\n",
        "\n",
        "print(\"Well done!\")"
      ],
      "execution_count": 22,
      "outputs": [
        {
          "output_type": "stream",
          "text": [
            "Well done!\n"
          ],
          "name": "stdout"
        }
      ]
    },
    {
      "cell_type": "markdown",
      "metadata": {
        "id": "LYdj32_D-6fB"
      },
      "source": [
        "### Target networks\n",
        "\n",
        "We also employ the so called \"target network\" - a copy of neural network weights to be used for reference Q-values:\n",
        "\n",
        "The network itself is an exact copy of agent network, but it's parameters are not trained. Instead, they are moved here from agent's actual network every so often.\n",
        "\n",
        "$$ Q_{reference}(s,a) = r + \\gamma \\cdot \\max _{a'} Q_{target}(s',a') $$\n",
        "\n",
        "![img](https://github.com/yandexdataschool/Practical_RL/raw/master/yet_another_week/_resource/target_net.png)"
      ]
    },
    {
      "cell_type": "code",
      "metadata": {
        "id": "KkdsNutL-6fC",
        "colab": {
          "base_uri": "https://localhost:8080/"
        },
        "outputId": "e575e111-235c-41aa-8097-90f85e47ccd0"
      },
      "source": [
        "target_network = DQNAgent(agent.state_shape, agent.n_actions, epsilon=0.5).to(device)\n",
        "# This is how you can load weights from agent into target network\n",
        "target_network.load_state_dict(agent.state_dict())"
      ],
      "execution_count": 23,
      "outputs": [
        {
          "output_type": "execute_result",
          "data": {
            "text/plain": [
              "<All keys matched successfully>"
            ]
          },
          "metadata": {
            "tags": []
          },
          "execution_count": 23
        }
      ]
    },
    {
      "cell_type": "markdown",
      "metadata": {
        "id": "w1I6n0oV-6fC"
      },
      "source": [
        "### Learning with... Q-learning\n",
        "Here we write a function similar to `agent.update` from tabular q-learning."
      ]
    },
    {
      "cell_type": "markdown",
      "metadata": {
        "id": "sY5yKqQr-6fC"
      },
      "source": [
        "Compute Q-learning TD error:\n",
        "\n",
        "$$ L = { 1 \\over N} \\sum_i [ Q_{\\theta}(s,a) - Q_{reference}(s,a) ] ^2 $$\n",
        "\n",
        "With Q-reference defined as\n",
        "\n",
        "$$ Q_{reference}(s,a) = r(s,a) + \\gamma \\cdot max_{a'} Q_{target}(s', a') $$\n",
        "\n",
        "Where\n",
        "* $Q_{target}(s',a')$ denotes q-value of next state and next action predicted by __target_network__\n",
        "* $s, a, r, s'$ are current state, action, reward and next state respectively\n",
        "* $\\gamma$ is a discount factor defined two cells above.\n",
        "\n",
        "\n",
        "__Note 1:__ there's an example input below. Feel free to experiment with it before you write the function.\n",
        "\n",
        "__Note 2:__ compute_td_loss is a source of 99% of bugs in this homework. If reward doesn't improve, it often helps to go through it line by line [with a rubber duck](https://rubberduckdebugging.com/)."
      ]
    },
    {
      "cell_type": "code",
      "metadata": {
        "id": "xcvVJBT6-6fC"
      },
      "source": [
        "def compute_td_loss(states, actions, rewards, next_states, is_done,\n",
        "                    agent, target_network,\n",
        "                    gamma=0.99,\n",
        "                    check_shapes=False,\n",
        "                    device=device):\n",
        "    \"\"\" Compute td loss using torch operations only. Use the formulae above. \"\"\"\n",
        "    states = torch.tensor(states, device=device, dtype=torch.float)    # shape: [batch_size, *state_shape]\n",
        "\n",
        "    # for some torch reason should not make actions a tensor\n",
        "    actions = torch.tensor(actions, device=device, dtype=torch.long)    # shape: [batch_size]\n",
        "    rewards = torch.tensor(rewards, device=device, dtype=torch.float)  # shape: [batch_size]\n",
        "    # shape: [batch_size, *state_shape]\n",
        "    next_states = torch.tensor(next_states, device=device, dtype=torch.float)\n",
        "    is_done = torch.tensor(\n",
        "        is_done.astype('float32'),\n",
        "        device=device,\n",
        "        dtype=torch.float\n",
        "    )  # shape: [batch_size]\n",
        "    is_not_done = 1 - is_done\n",
        "\n",
        "    # get q-values for all actions in current states\n",
        "    predicted_qvalues = agent(states)\n",
        "\n",
        "    # compute q-values for all actions in next states\n",
        "    predicted_next_qvalues = target_network(next_states)\n",
        "    \n",
        "    # select q-values for chosen actions\n",
        "    predicted_qvalues_for_actions = predicted_qvalues[range(\n",
        "        len(actions)), actions]\n",
        "\n",
        "    # compute V*(next_states) using predicted next q-values\n",
        "    with torch.no_grad():\n",
        "        next_state_values = predicted_next_qvalues.max(1).values\n",
        "\n",
        "    assert next_state_values.dim(\n",
        "    ) == 1 and next_state_values.shape[0] == states.shape[0], \"must predict one value per state\"\n",
        "\n",
        "    # compute \"target q-values\" for loss - it's what's inside square parentheses in the above formula.\n",
        "    # at the last state use the simplified formula: Q(s,a) = r(s,a) since s' doesn't exist\n",
        "    # you can multiply next state values by is_not_done to achieve this.\n",
        "    target_qvalues_for_actions = is_not_done * gamma * next_state_values + rewards\n",
        "\n",
        "    # mean squared error loss to minimize\n",
        "    loss = torch.mean((predicted_qvalues_for_actions -\n",
        "                       target_qvalues_for_actions.detach()) ** 2)\n",
        "\n",
        "    if check_shapes:\n",
        "        assert predicted_next_qvalues.data.dim(\n",
        "        ) == 2, \"make sure you predicted q-values for all actions in next state\"\n",
        "        assert next_state_values.data.dim(\n",
        "        ) == 1, \"make sure you computed V(s') as maximum over just the actions axis and not all axes\"\n",
        "        assert target_qvalues_for_actions.data.dim(\n",
        "        ) == 1, \"there's something wrong with target q-values, they must be a vector\"\n",
        "\n",
        "    return loss"
      ],
      "execution_count": 24,
      "outputs": []
    },
    {
      "cell_type": "markdown",
      "metadata": {
        "id": "t11hnnnl-6fD"
      },
      "source": [
        "Sanity checks"
      ]
    },
    {
      "cell_type": "code",
      "metadata": {
        "id": "2-lwsb53-6fD"
      },
      "source": [
        "obs_batch, act_batch, reward_batch, next_obs_batch, is_done_batch = exp_replay.sample(\n",
        "    10)\n",
        "\n",
        "loss = compute_td_loss(obs_batch, act_batch, reward_batch, next_obs_batch, is_done_batch,\n",
        "                       agent, target_network,\n",
        "                       gamma=0.99, check_shapes=True)\n",
        "loss.backward()\n",
        "\n",
        "assert loss.requires_grad and tuple(loss.data.size()) == (\n",
        "    ), \"you must return scalar loss - mean over batch\"\n",
        "assert np.any(next(agent.parameters()).grad.data.cpu().numpy() !=\n",
        "              0), \"loss must be differentiable w.r.t. network weights\"\n",
        "assert np.all(next(target_network.parameters()).grad is None), \"target network should not have grads\""
      ],
      "execution_count": 25,
      "outputs": []
    },
    {
      "cell_type": "markdown",
      "metadata": {
        "id": "i-eIGcDu-6fD"
      },
      "source": [
        "## 3. Main loop\n",
        "\n",
        "**If deadline is tonight and it has not converged:** It is ok. Send the notebook today and when it converges send it again.\n",
        "\n",
        "It's time to put everything together and see if it learns anything."
      ]
    },
    {
      "cell_type": "code",
      "metadata": {
        "id": "JZVUDdor-6fE"
      },
      "source": [
        "from tqdm import trange\n",
        "from IPython.display import clear_output\n",
        "import matplotlib.pyplot as plt"
      ],
      "execution_count": 26,
      "outputs": []
    },
    {
      "cell_type": "code",
      "metadata": {
        "id": "5sEjyos6-6fE",
        "colab": {
          "base_uri": "https://localhost:8080/"
        },
        "outputId": "2f994db8-1d06-44cb-fec2-06d7c62ba987"
      },
      "source": [
        "seed = 42\n",
        "random.seed(seed)\n",
        "np.random.seed(seed)\n",
        "torch.manual_seed(seed)"
      ],
      "execution_count": 27,
      "outputs": [
        {
          "output_type": "execute_result",
          "data": {
            "text/plain": [
              "<torch._C.Generator at 0x7fcf4f4c3e30>"
            ]
          },
          "metadata": {
            "tags": []
          },
          "execution_count": 27
        }
      ]
    },
    {
      "cell_type": "code",
      "metadata": {
        "id": "XzcrREbA-6fE",
        "colab": {
          "base_uri": "https://localhost:8080/"
        },
        "outputId": "f9c5ab61-0fd4-4b01-974f-d83595e6f465"
      },
      "source": [
        "env = make_env(seed)\n",
        "state_shape = env.observation_space.shape\n",
        "n_actions = env.action_space.n\n",
        "state = env.reset()\n",
        "\n",
        "agent = DQNAgent(state_shape, n_actions, epsilon=1).to(device)\n",
        "target_network = DQNAgent(state_shape, n_actions).to(device)\n",
        "target_network.load_state_dict(agent.state_dict())"
      ],
      "execution_count": 34,
      "outputs": [
        {
          "output_type": "execute_result",
          "data": {
            "text/plain": [
              "<All keys matched successfully>"
            ]
          },
          "metadata": {
            "tags": []
          },
          "execution_count": 34
        }
      ]
    },
    {
      "cell_type": "markdown",
      "metadata": {
        "id": "VS3eICP0-6fF"
      },
      "source": [
        "Buffer of size $10^4$ fits into 5 Gb RAM.\n",
        "\n",
        "Larger sizes ($10^5$ and $10^6$ are common) can be used. It can improve the learning, but $10^4$ is quiet enough. $10^2$ will probably fail learning."
      ]
    },
    {
      "cell_type": "code",
      "metadata": {
        "id": "eMbKQ5j6-6fF",
        "colab": {
          "base_uri": "https://localhost:8080/"
        },
        "outputId": "22c517f9-d92c-4705-fee7-1b213a8075b7"
      },
      "source": [
        "exp_replay = ReplayBuffer(10**4)\n",
        "for i in range(100):\n",
        "    if not utils.is_enough_ram(min_available_gb=0.1):\n",
        "        print(\"\"\"\n",
        "            Less than 100 Mb RAM available. \n",
        "            Make sure the buffer size in not too huge.\n",
        "            Also check, maybe other processes consume RAM heavily.\n",
        "            \"\"\"\n",
        "             )\n",
        "        break\n",
        "    play_and_record(state, agent, env, exp_replay, n_steps=10**2)\n",
        "    if len(exp_replay) == 10**4:\n",
        "        break\n",
        "print(len(exp_replay))"
      ],
      "execution_count": 35,
      "outputs": [
        {
          "output_type": "stream",
          "text": [
            "10000\n"
          ],
          "name": "stdout"
        }
      ]
    },
    {
      "cell_type": "code",
      "metadata": {
        "id": "aDW83Ir5-6fF"
      },
      "source": [
        "timesteps_per_epoch = 1\n",
        "batch_size = 16\n",
        "total_steps = 3 * 10**6\n",
        "decay_steps = 10**6\n",
        "\n",
        "opt = torch.optim.Adam(agent.parameters(), lr=1e-4)\n",
        "\n",
        "init_epsilon = 1\n",
        "final_epsilon = 0.1\n",
        "\n",
        "loss_freq = 50\n",
        "refresh_target_network_freq = 5000\n",
        "eval_freq = 5000\n",
        "\n",
        "max_grad_norm = 50\n",
        "\n",
        "n_lives = 5"
      ],
      "execution_count": 36,
      "outputs": []
    },
    {
      "cell_type": "code",
      "metadata": {
        "id": "gLz5B4I7-6fG"
      },
      "source": [
        "mean_rw_history = []\n",
        "td_loss_history = []\n",
        "grad_norm_history = []\n",
        "initial_state_v_history = []"
      ],
      "execution_count": 37,
      "outputs": []
    },
    {
      "cell_type": "code",
      "metadata": {
        "colab": {
          "base_uri": "https://localhost:8080/"
        },
        "id": "WEVqcQXUKVX5",
        "outputId": "5d9e291e-2296-41aa-ee5a-2838863137bf"
      },
      "source": [
        "from google.colab import drive\n",
        "drive.mount('/content/drive/')"
      ],
      "execution_count": 38,
      "outputs": [
        {
          "output_type": "stream",
          "text": [
            "Drive already mounted at /content/drive/; to attempt to forcibly remount, call drive.mount(\"/content/drive/\", force_remount=True).\n"
          ],
          "name": "stdout"
        }
      ]
    },
    {
      "cell_type": "code",
      "metadata": {
        "id": "eqZhPLCTL7DQ"
      },
      "source": [
        "path = \"/content/drive/MyDrive/Colab Notebooks/agent\""
      ],
      "execution_count": 39,
      "outputs": []
    },
    {
      "cell_type": "code",
      "metadata": {
        "scrolled": false,
        "id": "QkNvG4Kr-6fG",
        "colab": {
          "base_uri": "https://localhost:8080/",
          "height": 1000
        },
        "outputId": "43ee2fea-6224-4804-fe04-d869667e8ec1"
      },
      "source": [
        "state = env.reset()\n",
        "for step in trange(total_steps + 1):\n",
        "    # Save agent so Collab would not ruin everything again\n",
        "    if step % 1000 == 0:\n",
        "      torch.save(agent, path)\n",
        "    \n",
        "    \n",
        "    if not utils.is_enough_ram():\n",
        "        print('less that 100 Mb RAM available, freezing')\n",
        "        print('make sure everythin is ok and make KeyboardInterrupt to continue')\n",
        "        try:\n",
        "            while True:\n",
        "                pass\n",
        "        except KeyboardInterrupt:\n",
        "            pass\n",
        "\n",
        "    agent.epsilon = utils.linear_decay(init_epsilon, final_epsilon, step, decay_steps)\n",
        "\n",
        "    # play\n",
        "    _, state = play_and_record(state, agent, env, exp_replay, timesteps_per_epoch)\n",
        "\n",
        "    # train\n",
        "    states, actions, rewards, next_states, is_done = exp_replay.sample(batch_size)\n",
        "\n",
        "    loss = compute_td_loss(\n",
        "        states, actions, rewards, next_states, is_done, agent, target_network,\n",
        "        gamma=0.99,\n",
        "        check_shapes=False,\n",
        "        device=device\n",
        "    )\n",
        "\n",
        "    loss.backward()\n",
        "    grad_norm = nn.utils.clip_grad_norm_(agent.parameters(), max_grad_norm)\n",
        "    opt.step()\n",
        "    opt.zero_grad()\n",
        "\n",
        "    if step % loss_freq == 0:\n",
        "        td_loss_history.append(loss.data.cpu().item())\n",
        "        grad_norm_history.append(grad_norm)\n",
        "\n",
        "    if step % refresh_target_network_freq == 0:\n",
        "        # Load agent weights into target_network\n",
        "        target_network.load_state_dict(agent.state_dict())\n",
        "\n",
        "    if step % eval_freq == 0:\n",
        "        mean_rw_history.append(evaluate(\n",
        "            make_env(clip_rewards=True, seed=step), agent, n_games=3 * n_lives, greedy=True)\n",
        "        )\n",
        "        initial_state_q_values = agent.get_qvalues(\n",
        "            [make_env(seed=step).reset()]\n",
        "        )\n",
        "        initial_state_v_history.append(np.max(initial_state_q_values))\n",
        "\n",
        "        clear_output(True)\n",
        "        print(\"buffer size = %i, epsilon = %.5f\" %\n",
        "              (len(exp_replay), agent.epsilon))\n",
        "\n",
        "        plt.figure(figsize=[16, 9])\n",
        "\n",
        "        plt.subplot(2, 2, 1)\n",
        "        plt.title(\"Mean reward per life\")\n",
        "        plt.plot(mean_rw_history)\n",
        "        plt.grid()\n",
        "\n",
        "        assert not np.isnan(td_loss_history[-1])\n",
        "        plt.subplot(2, 2, 2)\n",
        "        plt.title(\"TD loss history (smoothened)\")\n",
        "        plt.plot(utils.smoothen(td_loss_history))\n",
        "        plt.grid()\n",
        "\n",
        "        plt.subplot(2, 2, 3)\n",
        "        plt.title(\"Initial state V\")\n",
        "        plt.plot(initial_state_v_history)\n",
        "        plt.grid()\n",
        "\n",
        "        plt.subplot(2, 2, 4)\n",
        "        plt.title(\"Grad norm history (smoothened)\")\n",
        "        plt.plot(utils.smoothen(grad_norm_history))\n",
        "        plt.grid()\n",
        "\n",
        "        plt.show()"
      ],
      "execution_count": null,
      "outputs": [
        {
          "output_type": "stream",
          "text": [
            "buffer size = 10000, epsilon = 0.10000\n"
          ],
          "name": "stdout"
        },
        {
          "output_type": "stream",
          "text": [
            "\n",
            " 56%|█████▌    | 1679999/3000001 [9:10:59<4:44:24, 77.36it/s]\u001b[A"
          ],
          "name": "stderr"
        },
        {
          "output_type": "display_data",
          "data": {
            "image/png": "[encoded data removed]",
            "text/plain": [
              "<Figure size 1152x648 with 4 Axes>"
            ]
          },
          "metadata": {
            "tags": [],
            "needs_background": "light"
          }
        },
        {
          "output_type": "stream",
          "text": [
            "\n",
            " 56%|█████▌    | 1680001/3000001 [9:11:50<3504:05:06,  9.56s/it]\u001b[A\n",
            " 56%|█████▌    | 1680009/3000001 [9:11:50<2454:16:52,  6.69s/it]\u001b[A\n",
            " 56%|█████▌    | 1680018/3000001 [9:11:50<1719:15:00,  4.69s/it]\u001b[A\n",
            " 56%|█████▌    | 1680027/3000001 [9:11:50<1204:45:24,  3.29s/it]\u001b[A\n",
            " 56%|█████▌    | 1680036/3000001 [9:11:50<844:36:08,  2.30s/it] \u001b[A\n",
            " 56%|█████▌    | 1680045/3000001 [9:11:50<592:33:37,  1.62s/it]\u001b[A\n",
            " 56%|█████▌    | 1680053/3000001 [9:11:51<416:12:30,  1.14s/it]\u001b[A\n",
            " 56%|█████▌    | 1680062/3000001 [9:11:51<292:37:46,  1.25it/s]\u001b[A\n",
            " 56%|█████▌    | 1680070/3000001 [9:11:51<206:16:37,  1.78it/s]\u001b[A\n",
            " 56%|█████▌    | 1680079/3000001 [9:11:51<145:41:15,  2.52it/s]\u001b[A\n",
            " 56%|█████▌    | 1680088/3000001 [9:11:51<103:13:31,  3.55it/s]\u001b[A\n",
            " 56%|█████▌    | 1680097/3000001 [9:11:51<73:34:01,  4.98it/s] \u001b[A\n",
            " 56%|█████▌    | 1680106/3000001 [9:11:51<52:57:00,  6.92it/s]\u001b[A\n",
            " 56%|█████▌    | 1680115/3000001 [9:11:51<38:22:16,  9.55it/s]\u001b[A\n",
            " 56%|█████▌    | 1680125/3000001 [9:11:51<28:01:55, 13.08it/s]\u001b[A\n",
            " 56%|█████▌    | 1680134/3000001 [9:11:52<20:56:00, 17.51it/s]\u001b[A\n",
            " 56%|█████▌    | 1680143/3000001 [9:11:52<15:56:03, 23.01it/s]\u001b[A\n",
            " 56%|█████▌    | 1680152/3000001 [9:11:52<12:28:47, 29.38it/s]\u001b[A\n",
            " 56%|█████▌    | 1680161/3000001 [9:11:52<10:20:18, 35.46it/s]\u001b[A\n",
            " 56%|█████▌    | 1680169/3000001 [9:11:52<8:37:33, 42.50it/s] \u001b[A\n",
            " 56%|█████▌    | 1680178/3000001 [9:11:52<7:18:27, 50.17it/s]\u001b[A\n",
            " 56%|█████▌    | 1680187/3000001 [9:11:52<6:25:35, 57.05it/s]\u001b[A\n",
            " 56%|█████▌    | 1680196/3000001 [9:11:52<5:49:49, 62.88it/s]\u001b[A\n",
            " 56%|█████▌    | 1680205/3000001 [9:11:52<5:18:37, 69.03it/s]\u001b[A\n",
            " 56%|█████▌    | 1680214/3000001 [9:11:53<5:03:36, 72.45it/s]\u001b[A\n",
            " 56%|█████▌    | 1680223/3000001 [9:11:53<4:56:19, 74.23it/s]\u001b[A\n",
            " 56%|█████▌    | 1680232/3000001 [9:11:53<4:46:17, 76.83it/s]\u001b[A\n",
            " 56%|█████▌    | 1680241/3000001 [9:11:53<4:38:03, 79.11it/s]\u001b[A\n",
            " 56%|█████▌    | 1680251/3000001 [9:11:53<4:24:59, 83.01it/s]\u001b[A\n",
            " 56%|█████▌    | 1680260/3000001 [9:11:53<4:23:26, 83.50it/s]\u001b[A\n",
            " 56%|█████▌    | 1680269/3000001 [9:11:53<4:21:08, 84.23it/s]\u001b[A\n",
            " 56%|█████▌    | 1680278/3000001 [9:11:53<4:23:25, 83.50it/s]\u001b[A\n",
            " 56%|█████▌    | 1680287/3000001 [9:11:53<4:21:06, 84.24it/s]\u001b[A\n",
            " 56%|█████▌    | 1680296/3000001 [9:11:53<4:21:11, 84.21it/s]\u001b[A\n",
            " 56%|█████▌    | 1680305/3000001 [9:11:54<4:24:41, 83.10it/s]\u001b[A\n",
            " 56%|█████▌    | 1680314/3000001 [9:11:54<4:21:52, 83.99it/s]\u001b[A\n",
            " 56%|█████▌    | 1680323/3000001 [9:11:54<4:25:51, 82.73it/s]\u001b[A\n",
            " 56%|█████▌    | 1680332/3000001 [9:11:54<4:30:36, 81.28it/s]\u001b[A\n",
            " 56%|█████▌    | 1680341/3000001 [9:11:54<4:25:04, 82.98it/s]\u001b[A\n",
            " 56%|█████▌    | 1680350/3000001 [9:11:54<4:26:56, 82.40it/s]\u001b[A\n",
            " 56%|█████▌    | 1680359/3000001 [9:11:54<4:26:12, 82.62it/s]\u001b[A\n",
            " 56%|█████▌    | 1680368/3000001 [9:11:54<4:29:50, 81.51it/s]\u001b[A\n",
            " 56%|█████▌    | 1680377/3000001 [9:11:54<4:33:12, 80.50it/s]\u001b[A\n",
            " 56%|█████▌    | 1680386/3000001 [9:11:55<4:32:27, 80.72it/s]\u001b[A\n",
            " 56%|█████▌    | 1680395/3000001 [9:11:55<4:27:40, 82.16it/s]\u001b[A\n",
            " 56%|█████▌    | 1680404/3000001 [9:11:55<4:25:59, 82.69it/s]\u001b[A\n",
            " 56%|█████▌    | 1680413/3000001 [9:11:55<4:39:31, 78.68it/s]\u001b[A\n",
            " 56%|█████▌    | 1680421/3000001 [9:11:55<4:40:07, 78.51it/s]\u001b[A\n",
            " 56%|█████▌    | 1680429/3000001 [9:11:55<4:40:22, 78.44it/s]\u001b[A\n",
            " 56%|█████▌    | 1680438/3000001 [9:11:55<4:33:03, 80.54it/s]\u001b[A\n",
            " 56%|█████▌    | 1680447/3000001 [9:11:55<4:27:11, 82.31it/s]\u001b[A\n",
            " 56%|█████▌    | 1680456/3000001 [9:11:55<4:21:29, 84.11it/s]\u001b[A\n",
            " 56%|█████▌    | 1680465/3000001 [9:11:56<4:17:55, 85.27it/s]\u001b[A\n",
            " 56%|█████▌    | 1680474/3000001 [9:11:56<4:14:40, 86.35it/s]\u001b[A\n",
            " 56%|█████▌    | 1680483/3000001 [9:11:56<4:19:44, 84.67it/s]\u001b[A\n",
            " 56%|█████▌    | 1680492/3000001 [9:11:56<4:21:55, 83.96it/s]\u001b[A\n",
            " 56%|█████▌    | 1680501/3000001 [9:11:56<4:21:23, 84.13it/s]\u001b[A\n",
            " 56%|█████▌    | 1680511/3000001 [9:11:56<4:14:22, 86.46it/s]\u001b[A\n",
            " 56%|█████▌    | 1680520/3000001 [9:11:56<4:18:40, 85.01it/s]\u001b[A\n",
            " 56%|█████▌    | 1680529/3000001 [9:11:56<4:22:13, 83.87it/s]\u001b[A\n",
            " 56%|█████▌    | 1680538/3000001 [9:11:56<4:22:30, 83.78it/s]\u001b[A\n",
            " 56%|█████▌    | 1680547/3000001 [9:11:57<4:24:02, 83.29it/s]\u001b[A\n",
            " 56%|█████▌    | 1680556/3000001 [9:11:57<4:25:23, 82.86it/s]\u001b[A\n",
            " 56%|█████▌    | 1680565/3000001 [9:11:57<4:35:46, 79.74it/s]\u001b[A\n",
            " 56%|█████▌    | 1680574/3000001 [9:11:57<4:27:38, 82.16it/s]\u001b[A\n",
            " 56%|█████▌    | 1680583/3000001 [9:11:57<4:28:32, 81.89it/s]\u001b[A\n",
            " 56%|█████▌    | 1680593/3000001 [9:11:57<4:19:13, 84.83it/s]\u001b[A\n",
            " 56%|█████▌    | 1680602/3000001 [9:11:57<4:16:27, 85.75it/s]\u001b[A\n",
            " 56%|█████▌    | 1680611/3000001 [9:11:57<4:25:47, 82.73it/s]\u001b[A\n",
            " 56%|█████▌    | 1680620/3000001 [9:11:57<4:24:57, 82.99it/s]\u001b[A\n",
            " 56%|█████▌    | 1680629/3000001 [9:11:58<4:23:09, 83.56it/s]\u001b[A\n",
            " 56%|█████▌    | 1680638/3000001 [9:11:58<4:20:17, 84.48it/s]\u001b[A\n",
            " 56%|█████▌    | 1680647/3000001 [9:11:58<4:19:59, 84.58it/s]\u001b[A\n",
            " 56%|█████▌    | 1680656/3000001 [9:11:58<4:20:06, 84.54it/s]\u001b[A\n",
            " 56%|█████▌    | 1680665/3000001 [9:11:58<4:25:44, 82.74it/s]\u001b[A\n",
            " 56%|█████▌    | 1680674/3000001 [9:11:58<4:23:47, 83.36it/s]\u001b[A\n",
            " 56%|█████▌    | 1680683/3000001 [9:11:58<4:26:28, 82.52it/s]\u001b[A\n",
            " 56%|█████▌    | 1680692/3000001 [9:11:58<4:24:36, 83.10it/s]\u001b[A\n",
            " 56%|█████▌    | 1680701/3000001 [9:11:58<4:21:31, 84.08it/s]\u001b[A\n",
            " 56%|█████▌    | 1680710/3000001 [9:11:58<4:24:37, 83.09it/s]\u001b[A\n",
            " 56%|█████▌    | 1680719/3000001 [9:11:59<4:20:08, 84.52it/s]\u001b[A\n",
            " 56%|█████▌    | 1680728/3000001 [9:11:59<4:15:54, 85.92it/s]\u001b[A\n",
            " 56%|█████▌    | 1680737/3000001 [9:11:59<4:19:51, 84.62it/s]\u001b[A\n",
            " 56%|█████▌    | 1680746/3000001 [9:11:59<4:21:50, 83.97it/s]\u001b[A\n",
            " 56%|█████▌    | 1680755/3000001 [9:11:59<4:22:15, 83.84it/s]\u001b[A\n",
            " 56%|█████▌    | 1680764/3000001 [9:11:59<4:20:21, 84.45it/s]\u001b[A\n",
            " 56%|█████▌    | 1680773/3000001 [9:11:59<4:23:54, 83.31it/s]\u001b[A\n",
            " 56%|█████▌    | 1680782/3000001 [9:11:59<4:22:58, 83.61it/s]\u001b[A\n",
            " 56%|█████▌    | 1680791/3000001 [9:11:59<4:22:34, 83.74it/s]\u001b[A\n",
            " 56%|█████▌    | 1680800/3000001 [9:12:00<4:22:09, 83.87it/s]\u001b[A\n",
            " 56%|█████▌    | 1680809/3000001 [9:12:00<4:24:47, 83.03it/s]\u001b[A\n",
            " 56%|█████▌    | 1680818/3000001 [9:12:00<4:29:52, 81.47it/s]\u001b[A\n",
            " 56%|█████▌    | 1680827/3000001 [9:12:00<4:26:57, 82.36it/s]\u001b[A\n",
            " 56%|█████▌    | 1680836/3000001 [9:12:00<4:28:38, 81.84it/s]\u001b[A\n",
            " 56%|█████▌    | 1680845/3000001 [9:12:00<4:24:04, 83.25it/s]\u001b[A\n",
            " 56%|█████▌    | 1680854/3000001 [9:12:00<4:18:58, 84.90it/s]\u001b[A\n",
            " 56%|█████▌    | 1680863/3000001 [9:12:00<4:21:01, 84.23it/s]\u001b[A\n",
            " 56%|█████▌    | 1680872/3000001 [9:12:00<4:25:54, 82.68it/s]\u001b[A\n",
            " 56%|█████▌    | 1680881/3000001 [9:12:01<4:33:42, 80.33it/s]\u001b[A\n",
            " 56%|█████▌    | 1680890/3000001 [9:12:01<4:26:54, 82.37it/s]\u001b[A\n",
            " 56%|█████▌    | 1680899/3000001 [9:12:01<4:28:04, 82.01it/s]\u001b[A\n",
            " 56%|█████▌    | 1680908/3000001 [9:12:01<4:26:10, 82.60it/s]\u001b[A\n",
            " 56%|█████▌    | 1680917/3000001 [9:12:01<4:26:02, 82.64it/s]\u001b[A\n",
            " 56%|█████▌    | 1680926/3000001 [9:12:01<4:20:12, 84.49it/s]\u001b[A\n",
            " 56%|█████▌    | 1680935/3000001 [9:12:01<4:23:27, 83.45it/s]\u001b[A\n",
            " 56%|█████▌    | 1680944/3000001 [9:12:01<4:26:41, 82.44it/s]\u001b[A\n",
            " 56%|█████▌    | 1680953/3000001 [9:12:01<4:27:56, 82.05it/s]\u001b[A\n",
            " 56%|█████▌    | 1680962/3000001 [9:12:02<4:26:11, 82.59it/s]\u001b[A\n",
            " 56%|█████▌    | 1680971/3000001 [9:12:02<4:24:40, 83.06it/s]\u001b[A\n",
            " 56%|█████▌    | 1680980/3000001 [9:12:02<4:22:52, 83.63it/s]\u001b[A\n",
            " 56%|█████▌    | 1680989/3000001 [9:12:02<4:20:50, 84.28it/s]\u001b[A\n",
            " 56%|█████▌    | 1680998/3000001 [9:12:02<4:26:39, 82.44it/s]\u001b[A\n",
            " 56%|█████▌    | 1681007/3000001 [9:12:02<4:38:22, 78.97it/s]\u001b[A\n",
            " 56%|█████▌    | 1681016/3000001 [9:12:02<4:31:37, 80.93it/s]\u001b[A\n",
            " 56%|█████▌    | 1681025/3000001 [9:12:02<4:39:02, 78.78it/s]\u001b[A\n",
            " 56%|█████▌    | 1681034/3000001 [9:12:02<4:30:03, 81.40it/s]\u001b[A\n",
            " 56%|█████▌    | 1681043/3000001 [9:12:03<4:25:45, 82.71it/s]\u001b[A\n",
            " 56%|█████▌    | 1681052/3000001 [9:12:03<4:29:53, 81.45it/s]\u001b[A\n",
            " 56%|█████▌    | 1681061/3000001 [9:12:03<4:30:01, 81.41it/s]\u001b[A\n",
            " 56%|█████▌    | 1681070/3000001 [9:12:03<4:26:31, 82.48it/s]\u001b[A\n",
            " 56%|█████▌    | 1681079/3000001 [9:12:03<4:21:38, 84.02it/s]\u001b[A\n",
            " 56%|█████▌    | 1681088/3000001 [9:12:03<4:28:52, 81.76it/s]\u001b[A\n",
            " 56%|█████▌    | 1681097/3000001 [9:12:03<4:23:59, 83.27it/s]\u001b[A\n",
            " 56%|█████▌    | 1681106/3000001 [9:12:03<4:18:37, 85.00it/s]\u001b[A\n",
            " 56%|█████▌    | 1681115/3000001 [9:12:03<4:20:23, 84.42it/s]\u001b[A\n",
            " 56%|█████▌    | 1681124/3000001 [9:12:03<4:29:53, 81.44it/s]\u001b[A\n",
            " 56%|█████▌    | 1681133/3000001 [9:12:04<4:28:44, 81.79it/s]\u001b[A\n",
            " 56%|█████▌    | 1681142/3000001 [9:12:04<4:24:10, 83.21it/s]\u001b[A\n",
            " 56%|█████▌    | 1681151/3000001 [9:12:04<4:20:33, 84.36it/s]\u001b[A\n",
            " 56%|█████▌    | 1681160/3000001 [9:12:04<4:22:33, 83.72it/s]\u001b[A\n",
            " 56%|█████▌    | 1681169/3000001 [9:12:04<4:22:30, 83.73it/s]\u001b[A\n",
            " 56%|█████▌    | 1681178/3000001 [9:12:04<4:19:17, 84.77it/s]\u001b[A\n",
            " 56%|█████▌    | 1681187/3000001 [9:12:04<4:20:27, 84.39it/s]\u001b[A\n",
            " 56%|█████▌    | 1681196/3000001 [9:12:04<4:25:25, 82.81it/s]\u001b[A\n",
            " 56%|█████▌    | 1681205/3000001 [9:12:04<4:20:44, 84.30it/s]\u001b[A\n",
            " 56%|█████▌    | 1681214/3000001 [9:12:05<4:20:26, 84.39it/s]\u001b[A\n",
            " 56%|█████▌    | 1681223/3000001 [9:12:05<4:20:22, 84.42it/s]\u001b[A\n",
            " 56%|█████▌    | 1681232/3000001 [9:12:05<4:18:59, 84.87it/s]\u001b[A\n",
            " 56%|█████▌    | 1681241/3000001 [9:12:05<4:15:25, 86.05it/s]\u001b[A\n",
            " 56%|█████▌    | 1681250/3000001 [9:12:05<4:17:33, 85.34it/s]\u001b[A\n",
            " 56%|█████▌    | 1681259/3000001 [9:12:05<4:25:51, 82.67it/s]\u001b[A\n",
            " 56%|█████▌    | 1681268/3000001 [9:12:05<4:27:38, 82.12it/s]\u001b[A\n",
            " 56%|█████▌    | 1681277/3000001 [9:12:05<4:39:58, 78.50it/s]\u001b[A\n",
            " 56%|█████▌    | 1681285/3000001 [9:12:05<4:41:46, 78.00it/s]\u001b[A\n",
            " 56%|█████▌    | 1681294/3000001 [9:12:06<4:36:05, 79.61it/s]\u001b[A\n",
            " 56%|█████▌    | 1681302/3000001 [9:12:06<4:37:10, 79.29it/s]\u001b[A\n",
            " 56%|█████▌    | 1681310/3000001 [9:12:06<4:37:29, 79.20it/s]\u001b[A\n",
            " 56%|█████▌    | 1681319/3000001 [9:12:06<4:33:44, 80.29it/s]\u001b[A\n",
            " 56%|█████▌    | 1681328/3000001 [9:12:06<4:33:40, 80.30it/s]\u001b[A\n",
            " 56%|█████▌    | 1681337/3000001 [9:12:06<4:33:59, 80.21it/s]\u001b[A\n",
            " 56%|█████▌    | 1681346/3000001 [9:12:06<4:30:51, 81.14it/s]\u001b[A\n",
            " 56%|█████▌    | 1681355/3000001 [9:12:06<4:25:36, 82.75it/s]\u001b[A\n",
            " 56%|█████▌    | 1681364/3000001 [9:12:06<4:22:03, 83.86it/s]\u001b[A\n",
            " 56%|█████▌    | 1681373/3000001 [9:12:07<4:21:36, 84.01it/s]\u001b[A\n",
            " 56%|█████▌    | 1681382/3000001 [9:12:07<4:22:04, 83.86it/s]\u001b[A\n",
            " 56%|█████▌    | 1681391/3000001 [9:12:07<4:20:42, 84.30it/s]\u001b[A\n",
            " 56%|█████▌    | 1681400/3000001 [9:12:07<4:19:14, 84.77it/s]\u001b[A\n",
            " 56%|█████▌    | 1681409/3000001 [9:12:07<4:21:19, 84.10it/s]\u001b[A\n",
            " 56%|█████▌    | 1681418/3000001 [9:12:07<4:30:31, 81.24it/s]\u001b[A\n",
            " 56%|█████▌    | 1681427/3000001 [9:12:07<4:23:32, 83.39it/s]\u001b[A\n",
            " 56%|█████▌    | 1681436/3000001 [9:12:07<4:24:51, 82.97it/s]\u001b[A\n",
            " 56%|█████▌    | 1681445/3000001 [9:12:07<4:26:45, 82.38it/s]\u001b[A\n",
            " 56%|█████▌    | 1681454/3000001 [9:12:07<4:27:33, 82.13it/s]\u001b[A\n",
            " 56%|█████▌    | 1681463/3000001 [9:12:08<4:22:43, 83.65it/s]\u001b[A\n",
            " 56%|█████▌    | 1681472/3000001 [9:12:08<4:23:01, 83.55it/s]\u001b[A\n",
            " 56%|█████▌    | 1681481/3000001 [9:12:08<4:27:58, 82.00it/s]\u001b[A\n",
            " 56%|█████▌    | 1681490/3000001 [9:12:08<4:28:40, 81.79it/s]\u001b[A\n",
            " 56%|█████▌    | 1681499/3000001 [9:12:08<4:33:09, 80.45it/s]\u001b[A\n",
            " 56%|█████▌    | 1681508/3000001 [9:12:08<4:43:02, 77.64it/s]\u001b[A\n",
            " 56%|█████▌    | 1681516/3000001 [9:12:08<4:46:57, 76.58it/s]\u001b[A\n",
            " 56%|█████▌    | 1681525/3000001 [9:12:08<4:38:08, 79.00it/s]\u001b[A\n",
            " 56%|█████▌    | 1681533/3000001 [9:12:08<4:44:51, 77.14it/s]\u001b[A\n",
            " 56%|█████▌    | 1681542/3000001 [9:12:09<4:35:11, 79.85it/s]\u001b[A\n",
            " 56%|█████▌    | 1681551/3000001 [9:12:09<4:30:30, 81.23it/s]\u001b[A\n",
            " 56%|█████▌    | 1681560/3000001 [9:12:09<4:28:18, 81.90it/s]\u001b[A\n",
            " 56%|█████▌    | 1681569/3000001 [9:12:09<4:29:29, 81.54it/s]\u001b[A\n",
            " 56%|█████▌    | 1681578/3000001 [9:12:09<4:32:28, 80.64it/s]\u001b[A\n",
            " 56%|█████▌    | 1681587/3000001 [9:12:09<4:29:12, 81.62it/s]\u001b[A\n",
            " 56%|█████▌    | 1681596/3000001 [9:12:09<4:32:41, 80.58it/s]\u001b[A\n",
            " 56%|█████▌    | 1681605/3000001 [9:12:09<4:28:49, 81.74it/s]\u001b[A\n",
            " 56%|█████▌    | 1681614/3000001 [9:12:09<4:24:35, 83.05it/s]\u001b[A\n",
            " 56%|█████▌    | 1681623/3000001 [9:12:10<4:23:18, 83.45it/s]\u001b[A\n",
            " 56%|█████▌    | 1681632/3000001 [9:12:10<4:26:53, 82.33it/s]\u001b[A\n",
            " 56%|█████▌    | 1681641/3000001 [9:12:10<4:28:20, 81.88it/s]\u001b[A\n",
            " 56%|█████▌    | 1681650/3000001 [9:12:10<4:35:38, 79.71it/s]\u001b[A\n",
            " 56%|█████▌    | 1681659/3000001 [9:12:10<4:31:36, 80.89it/s]\u001b[A\n",
            " 56%|█████▌    | 1681668/3000001 [9:12:10<4:28:58, 81.69it/s]\u001b[A\n",
            " 56%|█████▌    | 1681677/3000001 [9:12:10<4:29:19, 81.58it/s]\u001b[A\n",
            " 56%|█████▌    | 1681686/3000001 [9:12:10<4:31:15, 81.00it/s]\u001b[A\n",
            " 56%|█████▌    | 1681695/3000001 [9:12:10<4:28:00, 81.98it/s]\u001b[A\n",
            " 56%|█████▌    | 1681704/3000001 [9:12:11<4:22:13, 83.79it/s]\u001b[A\n",
            " 56%|█████▌    | 1681714/3000001 [9:12:11<4:14:34, 86.31it/s]\u001b[A\n",
            " 56%|█████▌    | 1681723/3000001 [9:12:11<4:15:37, 85.95it/s]\u001b[A\n",
            " 56%|█████▌    | 1681732/3000001 [9:12:11<4:13:37, 86.63it/s]\u001b[A\n",
            " 56%|█████▌    | 1681742/3000001 [9:12:11<4:09:00, 88.23it/s]\u001b[A\n",
            " 56%|█████▌    | 1681751/3000001 [9:12:11<4:17:48, 85.22it/s]\u001b[A\n",
            " 56%|█████▌    | 1681760/3000001 [9:12:11<4:20:43, 84.27it/s]\u001b[A\n",
            " 56%|█████▌    | 1681769/3000001 [9:12:11<4:18:07, 85.11it/s]\u001b[A\n",
            " 56%|█████▌    | 1681778/3000001 [9:12:11<4:14:46, 86.23it/s]\u001b[A\n",
            " 56%|█████▌    | 1681787/3000001 [9:12:12<4:13:56, 86.52it/s]\u001b[A\n",
            " 56%|█████▌    | 1681797/3000001 [9:12:12<4:09:56, 87.90it/s]\u001b[A\n",
            " 56%|█████▌    | 1681806/3000001 [9:12:12<4:10:32, 87.69it/s]\u001b[A\n",
            " 56%|█████▌    | 1681815/3000001 [9:12:12<4:11:06, 87.49it/s]\u001b[A\n",
            " 56%|█████▌    | 1681824/3000001 [9:12:12<4:18:43, 84.92it/s]\u001b[A\n",
            " 56%|█████▌    | 1681833/3000001 [9:12:12<4:18:24, 85.02it/s]\u001b[A\n",
            " 56%|█████▌    | 1681842/3000001 [9:12:12<4:19:17, 84.73it/s]\u001b[A\n",
            " 56%|█████▌    | 1681851/3000001 [9:12:12<4:23:53, 83.25it/s]\u001b[A\n",
            " 56%|█████▌    | 1681861/3000001 [9:12:12<4:15:01, 86.14it/s]\u001b[A\n",
            " 56%|█████▌    | 1681870/3000001 [9:12:12<4:11:45, 87.26it/s]\u001b[A\n",
            " 56%|█████▌    | 1681879/3000001 [9:12:13<4:15:06, 86.11it/s]\u001b[A\n",
            " 56%|█████▌    | 1681888/3000001 [9:12:13<4:14:07, 86.45it/s]\u001b[A\n",
            " 56%|█████▌    | 1681897/3000001 [9:12:13<4:14:44, 86.24it/s]\u001b[A\n",
            " 56%|█████▌    | 1681906/3000001 [9:12:13<4:15:05, 86.12it/s]\u001b[A\n",
            " 56%|█████▌    | 1681915/3000001 [9:12:13<4:16:12, 85.74it/s]\u001b[A\n",
            " 56%|█████▌    | 1681924/3000001 [9:12:13<4:15:44, 85.90it/s]\u001b[A\n",
            " 56%|█████▌    | 1681933/3000001 [9:12:13<4:14:40, 86.26it/s]\u001b[A\n",
            " 56%|█████▌    | 1681942/3000001 [9:12:13<4:17:35, 85.28it/s]\u001b[A\n",
            " 56%|█████▌    | 1681951/3000001 [9:12:13<4:18:58, 84.83it/s]\u001b[A\n",
            " 56%|█████▌    | 1681960/3000001 [9:12:14<4:17:42, 85.24it/s]\u001b[A\n",
            " 56%|█████▌    | 1681969/3000001 [9:12:14<4:18:48, 84.88it/s]\u001b[A\n",
            " 56%|█████▌    | 1681978/3000001 [9:12:14<4:18:01, 85.14it/s]\u001b[A\n",
            " 56%|█████▌    | 1681987/3000001 [9:12:14<4:16:25, 85.67it/s]\u001b[A\n",
            " 56%|█████▌    | 1681996/3000001 [9:12:14<4:14:24, 86.35it/s]\u001b[A\n",
            " 56%|█████▌    | 1682005/3000001 [9:12:14<4:27:15, 82.19it/s]\u001b[A\n",
            " 56%|█████▌    | 1682014/3000001 [9:12:14<4:24:21, 83.09it/s]\u001b[A\n",
            " 56%|█████▌    | 1682023/3000001 [9:12:14<4:25:37, 82.70it/s]\u001b[A\n",
            " 56%|█████▌    | 1682032/3000001 [9:12:14<4:27:20, 82.17it/s]\u001b[A\n",
            " 56%|█████▌    | 1682041/3000001 [9:12:14<4:21:46, 83.91it/s]\u001b[A\n",
            " 56%|█████▌    | 1682050/3000001 [9:12:15<4:19:10, 84.76it/s]\u001b[A\n",
            " 56%|█████▌    | 1682059/3000001 [9:12:15<4:17:28, 85.31it/s]\u001b[A\n",
            " 56%|█████▌    | 1682069/3000001 [9:12:15<4:11:34, 87.31it/s]\u001b[A\n",
            " 56%|█████▌    | 1682078/3000001 [9:12:15<4:13:33, 86.63it/s]\u001b[A\n",
            " 56%|█████▌    | 1682087/3000001 [9:12:15<4:19:36, 84.61it/s]\u001b[A\n",
            " 56%|█████▌    | 1682096/3000001 [9:12:15<4:19:39, 84.59it/s]\u001b[A\n",
            " 56%|█████▌    | 1682105/3000001 [9:12:15<4:28:34, 81.78it/s]\u001b[A\n",
            " 56%|█████▌    | 1682114/3000001 [9:12:15<4:26:07, 82.53it/s]\u001b[A\n",
            " 56%|█████▌    | 1682123/3000001 [9:12:15<4:27:24, 82.14it/s]\u001b[A\n",
            " 56%|█████▌    | 1682132/3000001 [9:12:16<4:23:10, 83.46it/s]\u001b[A\n",
            " 56%|█████▌    | 1682141/3000001 [9:12:16<4:19:49, 84.53it/s]\u001b[A\n",
            " 56%|█████▌    | 1682151/3000001 [9:12:16<4:13:11, 86.75it/s]\u001b[A\n",
            " 56%|█████▌    | 1682160/3000001 [9:12:16<4:10:56, 87.53it/s]\u001b[A\n",
            " 56%|█████▌    | 1682169/3000001 [9:12:16<4:16:28, 85.64it/s]\u001b[A\n",
            " 56%|█████▌    | 1682178/3000001 [9:12:16<4:16:08, 85.75it/s]\u001b[A\n",
            " 56%|█████▌    | 1682187/3000001 [9:12:16<4:21:44, 83.91it/s]\u001b[A\n",
            " 56%|█████▌    | 1682196/3000001 [9:12:16<4:18:35, 84.93it/s]\u001b[A\n",
            " 56%|█████▌    | 1682205/3000001 [9:12:16<4:15:56, 85.81it/s]\u001b[A\n",
            " 56%|█████▌    | 1682214/3000001 [9:12:17<4:13:25, 86.67it/s]\u001b[A\n",
            " 56%|█████▌    | 1682223/3000001 [9:12:17<4:12:33, 86.96it/s]\u001b[A\n",
            " 56%|█████▌    | 1682232/3000001 [9:12:17<4:13:35, 86.61it/s]\u001b[A\n",
            " 56%|█████▌    | 1682241/3000001 [9:12:17<4:15:01, 86.12it/s]\u001b[A\n",
            " 56%|█████▌    | 1682250/3000001 [9:12:17<4:18:50, 84.85it/s]\u001b[A\n",
            " 56%|█████▌    | 1682260/3000001 [9:12:17<4:12:24, 87.01it/s]\u001b[A\n",
            " 56%|█████▌    | 1682269/3000001 [9:12:17<4:12:37, 86.93it/s]\u001b[A\n",
            " 56%|█████▌    | 1682278/3000001 [9:12:17<4:17:15, 85.37it/s]\u001b[A\n",
            " 56%|█████▌    | 1682287/3000001 [9:12:17<4:14:42, 86.22it/s]\u001b[A\n",
            " 56%|█████▌    | 1682296/3000001 [9:12:17<4:16:00, 85.79it/s]\u001b[A\n",
            " 56%|█████▌    | 1682305/3000001 [9:12:18<4:28:46, 81.71it/s]\u001b[A\n",
            " 56%|█████▌    | 1682314/3000001 [9:12:18<4:24:21, 83.08it/s]\u001b[A\n",
            " 56%|█████▌    | 1682324/3000001 [9:12:18<4:14:34, 86.27it/s]\u001b[A\n",
            " 56%|█████▌    | 1682333/3000001 [9:12:18<4:13:39, 86.58it/s]\u001b[A\n",
            " 56%|█████▌    | 1682342/3000001 [9:12:18<4:12:23, 87.01it/s]\u001b[A\n",
            " 56%|█████▌    | 1682351/3000001 [9:12:18<4:12:12, 87.08it/s]\u001b[A\n",
            " 56%|█████▌    | 1682360/3000001 [9:12:18<4:17:40, 85.23it/s]\u001b[A\n",
            " 56%|█████▌    | 1682369/3000001 [9:12:18<4:18:28, 84.96it/s]\u001b[A\n",
            " 56%|█████▌    | 1682378/3000001 [9:12:18<4:19:00, 84.79it/s]\u001b[A\n",
            " 56%|█████▌    | 1682387/3000001 [9:12:19<4:19:19, 84.68it/s]\u001b[A\n",
            " 56%|█████▌    | 1682396/3000001 [9:12:19<4:15:49, 85.84it/s]\u001b[A\n",
            " 56%|█████▌    | 1682405/3000001 [9:12:19<4:18:28, 84.96it/s]\u001b[A\n",
            " 56%|█████▌    | 1682415/3000001 [9:12:19<4:13:00, 86.80it/s]\u001b[A\n",
            " 56%|█████▌    | 1682424/3000001 [9:12:19<4:10:47, 87.56it/s]\u001b[A\n",
            " 56%|█████▌    | 1682433/3000001 [9:12:19<4:22:23, 83.69it/s]\u001b[A\n",
            " 56%|█████▌    | 1682442/3000001 [9:12:19<4:25:44, 82.63it/s]\u001b[A\n",
            " 56%|█████▌    | 1682451/3000001 [9:12:19<4:23:25, 83.36it/s]\u001b[A\n",
            " 56%|█████▌    | 1682460/3000001 [9:12:19<4:18:46, 84.86it/s]\u001b[A\n",
            " 56%|█████▌    | 1682469/3000001 [9:12:20<4:17:20, 85.33it/s]\u001b[A\n",
            " 56%|█████▌    | 1682478/3000001 [9:12:20<4:14:18, 86.35it/s]\u001b[A\n",
            " 56%|█████▌    | 1682487/3000001 [9:12:20<4:12:11, 87.07it/s]\u001b[A\n",
            " 56%|█████▌    | 1682496/3000001 [9:12:20<4:16:39, 85.55it/s]\u001b[A\n",
            " 56%|█████▌    | 1682505/3000001 [9:12:20<4:21:09, 84.08it/s]\u001b[A\n",
            " 56%|█████▌    | 1682514/3000001 [9:12:20<4:19:00, 84.78it/s]\u001b[A\n",
            " 56%|█████▌    | 1682524/3000001 [9:12:20<4:11:50, 87.19it/s]\u001b[A\n",
            " 56%|█████▌    | 1682533/3000001 [9:12:20<4:20:10, 84.40it/s]\u001b[A\n",
            " 56%|█████▌    | 1682542/3000001 [9:12:20<4:15:58, 85.78it/s]\u001b[A\n",
            " 56%|█████▌    | 1682551/3000001 [9:12:20<4:15:50, 85.82it/s]\u001b[A\n",
            " 56%|█████▌    | 1682561/3000001 [9:12:21<4:11:13, 87.40it/s]\u001b[A\n",
            " 56%|█████▌    | 1682570/3000001 [9:12:21<4:14:01, 86.43it/s]\u001b[A\n",
            " 56%|█████▌    | 1682579/3000001 [9:12:21<4:20:40, 84.23it/s]\u001b[A\n",
            " 56%|█████▌    | 1682588/3000001 [9:12:21<4:22:15, 83.72it/s]\u001b[A\n",
            " 56%|█████▌    | 1682597/3000001 [9:12:21<4:20:05, 84.42it/s]\u001b[A\n",
            " 56%|█████▌    | 1682606/3000001 [9:12:21<4:18:26, 84.96it/s]\u001b[A\n",
            " 56%|█████▌    | 1682615/3000001 [9:12:21<4:19:20, 84.66it/s]\u001b[A\n",
            " 56%|█████▌    | 1682624/3000001 [9:12:21<4:19:04, 84.75it/s]\u001b[A\n",
            " 56%|█████▌    | 1682633/3000001 [9:12:21<4:19:39, 84.56it/s]\u001b[A\n",
            " 56%|█████▌    | 1682642/3000001 [9:12:22<4:25:37, 82.66it/s]\u001b[A\n",
            " 56%|█████▌    | 1682651/3000001 [9:12:22<4:23:11, 83.42it/s]\u001b[A\n",
            " 56%|█████▌    | 1682660/3000001 [9:12:22<4:17:32, 85.25it/s]\u001b[A\n",
            " 56%|█████▌    | 1682669/3000001 [9:12:22<4:18:11, 85.04it/s]\u001b[A\n",
            " 56%|█████▌    | 1682678/3000001 [9:12:22<4:17:45, 85.18it/s]\u001b[A\n",
            " 56%|█████▌    | 1682687/3000001 [9:12:22<4:20:25, 84.31it/s]\u001b[A\n",
            " 56%|█████▌    | 1682696/3000001 [9:12:22<4:20:20, 84.33it/s]\u001b[A\n",
            " 56%|█████▌    | 1682705/3000001 [9:12:22<4:35:08, 79.79it/s]\u001b[A\n",
            " 56%|█████▌    | 1682714/3000001 [9:12:22<4:30:31, 81.15it/s]\u001b[A\n",
            " 56%|█████▌    | 1682723/3000001 [9:12:23<4:25:07, 82.81it/s]\u001b[A\n",
            " 56%|█████▌    | 1682732/3000001 [9:12:23<4:21:40, 83.90it/s]\u001b[A\n",
            " 56%|█████▌    | 1682741/3000001 [9:12:23<4:17:38, 85.21it/s]\u001b[A\n",
            " 56%|█████▌    | 1682750/3000001 [9:12:23<4:18:49, 84.82it/s]\u001b[A\n",
            " 56%|█████▌    | 1682759/3000001 [9:12:23<4:20:56, 84.14it/s]\u001b[A\n",
            " 56%|█████▌    | 1682768/3000001 [9:12:23<4:22:04, 83.77it/s]\u001b[A\n",
            " 56%|█████▌    | 1682777/3000001 [9:12:23<4:22:03, 83.78it/s]\u001b[A\n",
            " 56%|█████▌    | 1682786/3000001 [9:12:23<4:24:51, 82.89it/s]\u001b[A\n",
            " 56%|█████▌    | 1682795/3000001 [9:12:23<4:18:57, 84.77it/s]\u001b[A\n",
            " 56%|█████▌    | 1682804/3000001 [9:12:23<4:18:38, 84.88it/s]\u001b[A\n",
            " 56%|█████▌    | 1682813/3000001 [9:12:24<4:24:07, 83.11it/s]\u001b[A\n",
            " 56%|█████▌    | 1682822/3000001 [9:12:24<4:20:29, 84.28it/s]\u001b[A\n",
            " 56%|█████▌    | 1682831/3000001 [9:12:24<4:20:18, 84.33it/s]\u001b[A\n",
            " 56%|█████▌    | 1682840/3000001 [9:12:24<4:21:03, 84.09it/s]\u001b[A\n",
            " 56%|█████▌    | 1682849/3000001 [9:12:24<4:19:22, 84.64it/s]\u001b[A\n",
            " 56%|█████▌    | 1682858/3000001 [9:12:24<4:18:05, 85.06it/s]\u001b[A\n",
            " 56%|█████▌    | 1682867/3000001 [9:12:24<4:14:42, 86.19it/s]\u001b[A\n",
            " 56%|█████▌    | 1682876/3000001 [9:12:24<4:15:19, 85.98it/s]\u001b[A\n",
            " 56%|█████▌    | 1682885/3000001 [9:12:24<4:17:08, 85.37it/s]\u001b[A\n",
            " 56%|█████▌    | 1682894/3000001 [9:12:25<4:17:37, 85.21it/s]\u001b[A\n",
            " 56%|█████▌    | 1682903/3000001 [9:12:25<4:29:41, 81.39it/s]\u001b[A\n",
            " 56%|█████▌    | 1682912/3000001 [9:12:25<4:26:52, 82.25it/s]\u001b[A\n",
            " 56%|█████▌    | 1682921/3000001 [9:12:25<4:24:05, 83.12it/s]\u001b[A\n",
            " 56%|█████▌    | 1682930/3000001 [9:12:25<4:21:55, 83.81it/s]\u001b[A\n",
            " 56%|█████▌    | 1682939/3000001 [9:12:25<4:17:15, 85.32it/s]\u001b[A\n",
            " 56%|█████▌    | 1682948/3000001 [9:12:25<4:18:31, 84.91it/s]\u001b[A\n",
            " 56%|█████▌    | 1682957/3000001 [9:12:25<4:24:45, 82.91it/s]\u001b[A\n",
            " 56%|█████▌    | 1682966/3000001 [9:12:25<4:21:48, 83.84it/s]\u001b[A\n",
            " 56%|█████▌    | 1682975/3000001 [9:12:26<4:23:19, 83.36it/s]\u001b[A\n",
            " 56%|█████▌    | 1682985/3000001 [9:12:26<4:16:35, 85.54it/s]\u001b[A\n",
            " 56%|█████▌    | 1682995/3000001 [9:12:26<4:10:34, 87.60it/s]\u001b[A\n",
            " 56%|█████▌    | 1683004/3000001 [9:12:26<4:26:48, 82.27it/s]\u001b[A\n",
            " 56%|█████▌    | 1683013/3000001 [9:12:26<4:21:19, 84.00it/s]\u001b[A\n",
            " 56%|█████▌    | 1683022/3000001 [9:12:26<4:22:06, 83.74it/s]\u001b[A\n",
            " 56%|█████▌    | 1683031/3000001 [9:12:26<4:23:04, 83.44it/s]\u001b[A\n",
            " 56%|█████▌    | 1683040/3000001 [9:12:26<4:24:32, 82.97it/s]\u001b[A\n",
            " 56%|█████▌    | 1683049/3000001 [9:12:26<4:28:18, 81.80it/s]\u001b[A\n",
            " 56%|█████▌    | 1683058/3000001 [9:12:26<4:23:46, 83.21it/s]\u001b[A\n",
            " 56%|█████▌    | 1683067/3000001 [9:12:27<4:21:25, 83.96it/s]\u001b[A\n",
            " 56%|█████▌    | 1683076/3000001 [9:12:27<4:19:26, 84.60it/s]\u001b[A\n",
            " 56%|█████▌    | 1683085/3000001 [9:12:27<4:26:36, 82.33it/s]\u001b[A\n",
            " 56%|█████▌    | 1683094/3000001 [9:12:27<4:29:47, 81.36it/s]\u001b[A\n",
            " 56%|█████▌    | 1683103/3000001 [9:12:27<4:22:35, 83.58it/s]\u001b[A\n",
            " 56%|█████▌    | 1683112/3000001 [9:12:27<4:19:21, 84.62it/s]\u001b[A\n",
            " 56%|█████▌    | 1683121/3000001 [9:12:27<4:17:52, 85.11it/s]\u001b[A\n",
            " 56%|█████▌    | 1683130/3000001 [9:12:27<4:20:08, 84.37it/s]\u001b[A\n",
            " 56%|█████▌    | 1683139/3000001 [9:12:27<4:18:53, 84.77it/s]\u001b[A\n",
            " 56%|█████▌    | 1683148/3000001 [9:12:28<4:16:16, 85.64it/s]\u001b[A\n",
            " 56%|█████▌    | 1683157/3000001 [9:12:28<4:19:21, 84.62it/s]\u001b[A\n",
            " 56%|█████▌    | 1683167/3000001 [9:12:28<4:12:38, 86.87it/s]\u001b[A\n",
            " 56%|█████▌    | 1683176/3000001 [9:12:28<4:15:14, 85.98it/s]\u001b[A\n",
            " 56%|█████▌    | 1683185/3000001 [9:12:28<4:14:41, 86.17it/s]\u001b[A\n",
            " 56%|█████▌    | 1683195/3000001 [9:12:28<4:08:56, 88.16it/s]\u001b[A\n",
            " 56%|█████▌    | 1683204/3000001 [9:12:28<4:15:01, 86.05it/s]\u001b[A\n",
            " 56%|█████▌    | 1683213/3000001 [9:12:28<4:23:25, 83.31it/s]\u001b[A\n",
            " 56%|█████▌    | 1683222/3000001 [9:12:28<4:22:48, 83.50it/s]\u001b[A\n",
            " 56%|█████▌    | 1683231/3000001 [9:12:29<4:22:46, 83.52it/s]\u001b[A\n",
            " 56%|█████▌    | 1683240/3000001 [9:12:29<4:17:26, 85.25it/s]\u001b[A\n",
            " 56%|█████▌    | 1683249/3000001 [9:12:29<4:16:18, 85.62it/s]\u001b[A\n",
            " 56%|█████▌    | 1683259/3000001 [9:12:29<4:11:08, 87.39it/s]\u001b[A\n",
            " 56%|█████▌    | 1683268/3000001 [9:12:29<4:17:09, 85.34it/s]\u001b[A\n",
            " 56%|█████▌    | 1683277/3000001 [9:12:29<4:16:43, 85.48it/s]\u001b[A\n",
            " 56%|█████▌    | 1683286/3000001 [9:12:29<4:20:50, 84.13it/s]\u001b[A\n",
            " 56%|█████▌    | 1683295/3000001 [9:12:29<4:22:55, 83.47it/s]\u001b[A\n",
            " 56%|█████▌    | 1683304/3000001 [9:12:29<4:18:50, 84.78it/s]\u001b[A\n",
            " 56%|█████▌    | 1683313/3000001 [9:12:29<4:18:34, 84.87it/s]\u001b[A\n",
            " 56%|█████▌    | 1683322/3000001 [9:12:30<4:16:34, 85.53it/s]\u001b[A\n",
            " 56%|█████▌    | 1683331/3000001 [9:12:30<4:15:53, 85.76it/s]\u001b[A\n",
            " 56%|█████▌    | 1683340/3000001 [9:12:30<4:18:15, 84.97it/s]\u001b[A\n",
            " 56%|█████▌    | 1683349/3000001 [9:12:30<4:15:13, 85.98it/s]\u001b[A\n",
            " 56%|█████▌    | 1683358/3000001 [9:12:30<4:12:36, 86.87it/s]\u001b[A\n",
            " 56%|█████▌    | 1683367/3000001 [9:12:30<4:13:51, 86.44it/s]\u001b[A\n",
            " 56%|█████▌    | 1683376/3000001 [9:12:30<4:17:41, 85.16it/s]\u001b[A\n",
            " 56%|█████▌    | 1683385/3000001 [9:12:30<4:18:27, 84.90it/s]\u001b[A\n",
            " 56%|█████▌    | 1683394/3000001 [9:12:30<4:16:17, 85.62it/s]\u001b[A\n",
            " 56%|█████▌    | 1683403/3000001 [9:12:31<4:22:13, 83.68it/s]\u001b[A\n",
            " 56%|█████▌    | 1683412/3000001 [9:12:31<4:29:42, 81.36it/s]\u001b[A\n",
            " 56%|█████▌    | 1683421/3000001 [9:12:31<4:22:26, 83.61it/s]\u001b[A\n",
            " 56%|█████▌    | 1683430/3000001 [9:12:31<4:23:54, 83.15it/s]\u001b[A\n",
            " 56%|█████▌    | 1683439/3000001 [9:12:31<4:21:49, 83.81it/s]\u001b[A\n",
            " 56%|█████▌    | 1683448/3000001 [9:12:31<4:17:27, 85.23it/s]\u001b[A\n",
            " 56%|█████▌    | 1683457/3000001 [9:12:31<4:17:35, 85.19it/s]\u001b[A\n",
            " 56%|█████▌    | 1683466/3000001 [9:12:31<4:18:37, 84.84it/s]\u001b[A\n",
            " 56%|█████▌    | 1683475/3000001 [9:12:31<4:22:53, 83.47it/s]\u001b[A\n",
            " 56%|█████▌    | 1683484/3000001 [9:12:32<4:17:09, 85.32it/s]\u001b[A\n",
            " 56%|█████▌    | 1683493/3000001 [9:12:32<4:13:34, 86.53it/s]\u001b[A\n",
            " 56%|█████▌    | 1683502/3000001 [9:12:32<4:14:16, 86.29it/s]\u001b[A\n",
            " 56%|█████▌    | 1683512/3000001 [9:12:32<4:08:12, 88.40it/s]\u001b[A\n",
            " 56%|█████▌    | 1683521/3000001 [9:12:32<4:11:56, 87.09it/s]\u001b[A\n",
            " 56%|█████▌    | 1683530/3000001 [9:12:32<4:20:30, 84.22it/s]\u001b[A\n",
            " 56%|█████▌    | 1683539/3000001 [9:12:32<4:20:47, 84.13it/s]\u001b[A\n",
            " 56%|█████▌    | 1683548/3000001 [9:12:32<4:30:37, 81.07it/s]\u001b[A\n",
            " 56%|█████▌    | 1683557/3000001 [9:12:32<4:29:09, 81.52it/s]\u001b[A\n",
            " 56%|█████▌    | 1683566/3000001 [9:12:32<4:23:03, 83.41it/s]\u001b[A\n",
            " 56%|█████▌    | 1683575/3000001 [9:12:33<4:18:58, 84.72it/s]\u001b[A\n",
            " 56%|█████▌    | 1683584/3000001 [9:12:33<4:18:45, 84.79it/s]\u001b[A\n",
            " 56%|█████▌    | 1683593/3000001 [9:12:33<4:19:10, 84.65it/s]\u001b[A\n",
            " 56%|█████▌    | 1683602/3000001 [9:12:33<4:22:14, 83.66it/s]\u001b[A\n",
            " 56%|█████▌    | 1683611/3000001 [9:12:33<4:18:37, 84.83it/s]\u001b[A\n",
            " 56%|█████▌    | 1683620/3000001 [9:12:33<4:19:21, 84.59it/s]\u001b[A\n",
            " 56%|█████▌    | 1683629/3000001 [9:12:33<4:17:10, 85.31it/s]\u001b[A\n",
            " 56%|█████▌    | 1683638/3000001 [9:12:33<4:16:57, 85.38it/s]\u001b[A\n",
            " 56%|█████▌    | 1683647/3000001 [9:12:33<4:22:13, 83.67it/s]\u001b[A\n",
            " 56%|█████▌    | 1683656/3000001 [9:12:34<4:22:35, 83.55it/s]\u001b[A\n",
            " 56%|█████▌    | 1683665/3000001 [9:12:34<4:26:03, 82.46it/s]\u001b[A\n",
            " 56%|█████▌    | 1683674/3000001 [9:12:34<4:23:26, 83.28it/s]\u001b[A\n",
            " 56%|█████▌    | 1683683/3000001 [9:12:34<4:25:31, 82.62it/s]\u001b[A\n",
            " 56%|█████▌    | 1683692/3000001 [9:12:34<4:25:15, 82.71it/s]\u001b[A\n",
            " 56%|█████▌    | 1683701/3000001 [9:12:34<4:23:35, 83.23it/s]\u001b[A\n",
            " 56%|█████▌    | 1683710/3000001 [9:12:34<4:24:06, 83.07it/s]\u001b[A\n",
            " 56%|█████▌    | 1683719/3000001 [9:12:34<4:22:37, 83.53it/s]\u001b[A\n",
            " 56%|█████▌    | 1683728/3000001 [9:12:34<4:24:05, 83.07it/s]\u001b[A\n",
            " 56%|█████▌    | 1683737/3000001 [9:12:35<4:20:05, 84.34it/s]\u001b[A\n",
            " 56%|█████▌    | 1683746/3000001 [9:12:35<4:21:49, 83.79it/s]\u001b[A\n",
            " 56%|█████▌    | 1683755/3000001 [9:12:35<4:19:19, 84.60it/s]\u001b[A\n",
            " 56%|█████▌    | 1683764/3000001 [9:12:35<4:18:20, 84.91it/s]\u001b[A\n",
            " 56%|█████▌    | 1683773/3000001 [9:12:35<4:18:03, 85.01it/s]\u001b[A\n",
            " 56%|█████▌    | 1683782/3000001 [9:12:35<4:19:16, 84.61it/s]\u001b[A"
          ],
          "name": "stderr"
        }
      ]
    },
    {
      "cell_type": "markdown",
      "metadata": {
        "id": "grPRSOrm-6fH"
      },
      "source": [
        "Agent is evaluated for 1 life, not for a whole episode of 5 lives. Rewards in evaluation are also truncated. Cuz this is what environment the agent is learning in and in this way mean rewards per life can be compared with initial state value\n",
        "\n",
        "The goal is to get 10 points in the real env. So 2 or better 3 points in the preprocessed one will probably be enough. You can interrupt learning then."
      ]
    },
    {
      "cell_type": "markdown",
      "metadata": {
        "id": "0A5DR100-6fH"
      },
      "source": [
        "Final scoring is done on a whole episode with all 5 lives."
      ]
    },
    {
      "cell_type": "code",
      "metadata": {
        "id": "v8lFcAq0gdhK"
      },
      "source": [
        "# if run on CPU, add map_location parameter: map_location=torch.device('cpu')\n",
        "# run in case Collab falls (again)\n",
        "agent = torch.load(path, map_location=torch.device('cpu'))"
      ],
      "execution_count": 40,
      "outputs": []
    },
    {
      "cell_type": "code",
      "metadata": {
        "id": "z9YfF00M-6fH",
        "colab": {
          "base_uri": "https://localhost:8080/"
        },
        "outputId": "e856242e-17c9-4f29-9888-d2c8523921b3"
      },
      "source": [
        "# Final score after 5% (or nearby) of learning was 18\n",
        "# Looks like okey, but total reward was too small\n",
        "# After 56% it's 27 ...\n",
        "final_score = evaluate(\n",
        "  make_env(clip_rewards=False, seed=9),\n",
        "    agent, n_games=30, greedy=True, t_max=10 * 1000\n",
        ") * n_lives\n",
        "print('final score:', final_score)\n",
        "assert final_score > 10, 'not as cool as DQN can'\n",
        "print('Cool!')"
      ],
      "execution_count": 41,
      "outputs": [
        {
          "output_type": "stream",
          "text": [
            "final score: 27.0\n",
            "Cool!\n"
          ],
          "name": "stdout"
        }
      ]
    },
    {
      "cell_type": "markdown",
      "metadata": {
        "id": "iDpvATI9-6fI"
      },
      "source": [
        "## How to interpret plots:\n",
        "\n",
        "This aint no supervised learning so don't expect anything to improve monotonously. \n",
        "* **TD loss** is the MSE between agent's current Q-values and target Q-values. It may slowly increase or decrease, it's ok. The \"not ok\" behavior includes going NaN or stayng at exactly zero before agent has perfect performance.\n",
        "* **grad norm** just shows the intensivity of training. Not ok is growing to values of about 100 (or maybe even 50) though it depends on network architecture.\n",
        "* **mean reward** is the expected sum of r(s,a) agent gets over the full game session. It will oscillate, but on average it should get higher over time (after a few thousand iterations...). \n",
        " * In basic q-learning implementation it takes about 40k steps to \"warm up\" agent before it starts to get better.\n",
        "* **Initial state V** is the expected discounted reward for episode in the oppinion of the agent. It should behave more smoothly than **mean reward**. It should get higher over time but sometimes can experience drawdowns because of the agaent's overestimates.\n",
        "* **buffer size** - this one is simple. It should go up and cap at max size.\n",
        "* **epsilon** - agent's willingness to explore. If you see that agent's already at 0.01 epsilon before it's average reward is above 0 - it means you need to increase epsilon. Set it back to some 0.2 - 0.5 and decrease the pace at which it goes down.\n",
        "* Smoothing of plots is done with a gaussian kernel\n",
        "\n",
        "At first your agent will lose quickly. Then it will learn to suck less and at least hit the ball a few times before it loses. Finally it will learn to actually score points.\n",
        "\n",
        "**Training will take time.** A lot of it actually. Probably you will not see any improvment during first **150k** time steps (note that by default in this notebook agent is evaluated every 5000 time steps).\n",
        "\n",
        "But hey, long training time isn't _that_ bad:\n",
        "![img](https://github.com/yandexdataschool/Practical_RL/raw/master/yet_another_week/_resource/training.png)"
      ]
    },
    {
      "cell_type": "markdown",
      "metadata": {
        "id": "-GPsC5Cy-6fJ"
      },
      "source": [
        "## About hyperparameters:\n",
        "\n",
        "The task has something in common with supervised learning: loss is optimized through the buffer (instead of Train dataset). But the distribution of states and actions in the buffer **is not stationary** and depends on the policy that generated it. It can even happen that the mean TD error across the buffer is very low but the performance is extremely poor (imagine the agent collecting data to the buffer always manages to avoid the ball).\n",
        "\n",
        "* Total timesteps and training time: It seems to be so huge, but actually it is normal for RL.\n",
        "\n",
        "* $\\epsilon$ decay shedule was taken from the original paper and is like traditional for epsilon-greedy policies. At the beginning of the training the agent's greedy policy is poor so many random actions should be taken.\n",
        "\n",
        "* Optimizer: In the original paper RMSProp was used (they did not have Adam in 2013) and it can work not worse than Adam. For us Adam was default and it worked.\n",
        "\n",
        "* lr: $10^{-3}$ would probably be too huge\n",
        "\n",
        "* batch size: This one can be very important: if it is too small the agent can fail to learn. Huge batch takes more time to process. If batch of size 8 can not be processed on the hardware you use take 2 (or even 4) batches of size 4, divide the loss on them by 2 (or 4) and make optimization step after both backward() calls in torch.\n",
        "\n",
        "* target network update frequency: has something in common with learning rate. Too frequent updates can lead to divergence. Too rare can lead to slow leraning. For millions of total timesteps thousands of inner steps seem ok. One iteration of target network updating is an iteration of the (this time approximate) $\\gamma$-compression that stands behind Q-learning. The more inner steps it makes the more accurate is the compression.\n",
        "* max_grad_norm - just huge enough. In torch clip_grad_norm also evaluates the norm before clipping and it can be convenient for logging."
      ]
    },
    {
      "cell_type": "markdown",
      "metadata": {
        "id": "hLsHA24I-6fJ"
      },
      "source": [
        "### Video"
      ]
    },
    {
      "cell_type": "code",
      "metadata": {
        "scrolled": false,
        "id": "faV1i8Nr-6fK"
      },
      "source": [
        "# record sessions\n",
        "import gym.wrappers\n",
        "env_monitor = gym.wrappers.Monitor(make_env(), directory=\"videos\", force=True)\n",
        "sessions = [evaluate(env_monitor, agent, n_games=n_lives, greedy=True) for _ in range(10)]\n",
        "env_monitor.close()"
      ],
      "execution_count": null,
      "outputs": []
    },
    {
      "cell_type": "code",
      "metadata": {
        "id": "KOYETD_S-6fK",
        "colab": {
          "resources": {
            "http://localhost:8080/videos/openaigym.video.0.57.video000000.mp4": {
              "data": "CjwhRE9DVFlQRSBodG1sPgo8aHRtbCBsYW5nPWVuPgogIDxtZXRhIGNoYXJzZXQ9dXRmLTg+CiAgPG1ldGEgbmFtZT12aWV3cG9ydCBjb250ZW50PSJpbml0aWFsLXNjYWxlPTEsIG1pbmltdW0tc2NhbGU9MSwgd2lkdGg9ZGV2aWNlLXdpZHRoIj4KICA8dGl0bGU+RXJyb3IgNDA0IChOb3QgRm91bmQpISExPC90aXRsZT4KICA8c3R5bGU+CiAgICAqe21hcmdpbjowO3BhZGRpbmc6MH1odG1sLGNvZGV7Zm9udDoxNXB4LzIycHggYXJpYWwsc2Fucy1zZXJpZn1odG1se2JhY2tncm91bmQ6I2ZmZjtjb2xvcjojMjIyO3BhZGRpbmc6MTVweH1ib2R5e21hcmdpbjo3JSBhdXRvIDA7bWF4LXdpZHRoOjM5MHB4O21pbi1oZWlnaHQ6MTgwcHg7cGFkZGluZzozMHB4IDAgMTVweH0qID4gYm9keXtiYWNrZ3JvdW5kOnVybCgvL3d3dy5nb29nbGUuY29tL2ltYWdlcy9lcnJvcnMvcm9ib3QucG5nKSAxMDAlIDVweCBuby1yZXBlYXQ7cGFkZGluZy1yaWdodDoyMDVweH1we21hcmdpbjoxMXB4IDAgMjJweDtvdmVyZmxvdzpoaWRkZW59aW5ze2NvbG9yOiM3Nzc7dGV4dC1kZWNvcmF0aW9uOm5vbmV9YSBpbWd7Ym9yZGVyOjB9QG1lZGlhIHNjcmVlbiBhbmQgKG1heC13aWR0aDo3NzJweCl7Ym9keXtiYWNrZ3JvdW5kOm5vbmU7bWFyZ2luLXRvcDowO21heC13aWR0aDpub25lO3BhZGRpbmctcmlnaHQ6MH19I2xvZ297YmFja2dyb3VuZDp1cmwoLy93d3cuZ29vZ2xlLmNvbS9pbWFnZXMvbG9nb3MvZXJyb3JwYWdlL2Vycm9yX2xvZ28tMTUweDU0LnBuZykgbm8tcmVwZWF0O21hcmdpbi1sZWZ0Oi01cHh9QG1lZGlhIG9ubHkgc2NyZWVuIGFuZCAobWluLXJlc29sdXRpb246MTkyZHBpKXsjbG9nb3tiYWNrZ3JvdW5kOnVybCgvL3d3dy5nb29nbGUuY29tL2ltYWdlcy9sb2dvcy9lcnJvcnBhZ2UvZXJyb3JfbG9nby0xNTB4NTQtMngucG5nKSBuby1yZXBlYXQgMCUgMCUvMTAwJSAxMDAlOy1tb3otYm9yZGVyLWltYWdlOnVybCgvL3d3dy5nb29nbGUuY29tL2ltYWdlcy9sb2dvcy9lcnJvcnBhZ2UvZXJyb3JfbG9nby0xNTB4NTQtMngucG5nKSAwfX1AbWVkaWEgb25seSBzY3JlZW4gYW5kICgtd2Via2l0LW1pbi1kZXZpY2UtcGl4ZWwtcmF0aW86Mil7I2xvZ297YmFja2dyb3VuZDp1cmwoLy93d3cuZ29vZ2xlLmNvbS9pbWFnZXMvbG9nb3MvZXJyb3JwYWdlL2Vycm9yX2xvZ28tMTUweDU0LTJ4LnBuZykgbm8tcmVwZWF0Oy13ZWJraXQtYmFja2dyb3VuZC1zaXplOjEwMCUgMTAwJX19I2xvZ297ZGlzcGxheTppbmxpbmUtYmxvY2s7aGVpZ2h0OjU0cHg7d2lkdGg6MTUwcHh9CiAgPC9zdHlsZT4KICA8YSBocmVmPS8vd3d3Lmdvb2dsZS5jb20vPjxzcGFuIGlkPWxvZ28gYXJpYS1sYWJlbD1Hb29nbGU+PC9zcGFuPjwvYT4KICA8cD48Yj40MDQuPC9iPiA8aW5zPlRoYXTigJlzIGFuIGVycm9yLjwvaW5zPgogIDxwPiAgPGlucz5UaGF04oCZcyBhbGwgd2Uga25vdy48L2lucz4K",
              "ok": false,
              "headers": [
                [
                  "content-length",
                  "1449"
                ],
                [
                  "content-type",
                  "text/html; charset=utf-8"
                ]
              ],
              "status": 404,
              "status_text": ""
            }
          },
          "base_uri": "https://localhost:8080/",
          "height": 501
        },
        "outputId": "e8491b81-7ffb-4c27-ee55-79a095b177c7"
      },
      "source": [
        "# show video\n",
        "from IPython.display import HTML\n",
        "import os\n",
        "\n",
        "video_names = list(\n",
        "    filter(lambda s: s.endswith(\".mp4\"), os.listdir(\"./videos/\")))\n",
        "\n",
        "HTML(\"\"\"\n",
        "<video width=\"640\" height=\"480\" controls>\n",
        "  <source src=\"{}\" type=\"video/mp4\">\n",
        "</video>\n",
        "\"\"\".format(\"./videos/\"+video_names[-1]))  # this may or may not be _last_ video. Try other indices"
      ],
      "execution_count": null,
      "outputs": [
        {
          "output_type": "execute_result",
          "data": {
            "text/html": [
              "\n",
              "<video width=\"640\" height=\"480\" controls>\n",
              "  <source src=\"./videos/openaigym.video.0.57.video000000.mp4\" type=\"video/mp4\">\n",
              "</video>\n"
            ],
            "text/plain": [
              "<IPython.core.display.HTML object>"
            ]
          },
          "metadata": {
            "tags": []
          },
          "execution_count": 43
        }
      ]
    },
    {
      "cell_type": "markdown",
      "metadata": {
        "id": "wpU-d5uw-6fK"
      },
      "source": [
        "## Let's have a closer look at this.\n",
        "\n",
        "If average episode score is below 200 using all 5 lives, then probably DQN has not converged fully. But anyway let's make a more complete record of an episode."
      ]
    },
    {
      "cell_type": "code",
      "metadata": {
        "id": "_c-BYAke-6fK",
        "colab": {
          "base_uri": "https://localhost:8080/"
        },
        "outputId": "a67a66f1-8130-424f-e0ec-7da45b956035"
      },
      "source": [
        "eval_env = make_env(clip_rewards=False)\n",
        "record = utils.play_and_log_episode(eval_env, agent)\n",
        "print('total reward for life:', np.sum(record['rewards']))\n",
        "for key in record:\n",
        "    print(key)"
      ],
      "execution_count": 42,
      "outputs": [
        {
          "output_type": "stream",
          "text": [
            "total reward for life: 14.0\n",
            "states\n",
            "v_mc\n",
            "v_agent\n",
            "q_spreads\n",
            "td_errors\n",
            "rewards\n",
            "episode_finished\n"
          ],
          "name": "stdout"
        }
      ]
    },
    {
      "cell_type": "code",
      "metadata": {
        "id": "bL3WubeB-6fL",
        "colab": {
          "base_uri": "https://localhost:8080/",
          "height": 350
        },
        "outputId": "758d9aa6-9b36-412d-d9c7-defa43eaa15e"
      },
      "source": [
        "fig = plt.figure(figsize=(5, 5))\n",
        "ax = fig.add_subplot(1, 1, 1)\n",
        "\n",
        "ax.scatter(record['v_mc'], record['v_agent'])\n",
        "ax.plot(sorted(record['v_mc']), sorted(record['v_mc']),\n",
        "       'black', linestyle='--', label='x=y')\n",
        "\n",
        "ax.grid()\n",
        "ax.legend()\n",
        "ax.set_title('State Value Estimates')\n",
        "ax.set_xlabel('Monte-Carlo')\n",
        "ax.set_ylabel('Agent')\n",
        "\n",
        "plt.show()"
      ],
      "execution_count": 43,
      "outputs": [
        {
          "output_type": "display_data",
          "data": {
            "image/png": "[encoded data removed]",
            "text/plain": [
              "<Figure size 360x360 with 1 Axes>"
            ]
          },
          "metadata": {
            "tags": [],
            "needs_background": "light"
          }
        }
      ]
    },
    {
      "cell_type": "markdown",
      "metadata": {
        "id": "7_6POROU-6fL"
      },
      "source": [
        "$\\hat V_{Monte-Carlo}(s_t) = \\sum_{\\tau=0}^{episode~end} \\gamma^{\\tau-t}r_t$"
      ]
    },
    {
      "cell_type": "markdown",
      "metadata": {
        "id": "3615rLHu-6fL"
      },
      "source": [
        "Is there a big bias? It's ok, anyway it works."
      ]
    },
    {
      "cell_type": "markdown",
      "metadata": {
        "id": "tzaKW4Yu-6fL"
      },
      "source": [
        "## Bonus I"
      ]
    },
    {
      "cell_type": "markdown",
      "metadata": {
        "id": "dV1lb4iW-6fM"
      },
      "source": [
        "**1.** Plot several (say 3) states with high and low spreads of Q estimate by actions i.e.\n",
        "$$\\max_a \\hat Q(s,a) - \\min_a \\hat Q(s,a)\\$$\n",
        "Please take those states from different episodes to make sure that the states are really different.\n",
        "\n",
        "What should high and low spread mean at least in the world of perfect Q-fucntions?\n",
        "\n",
        "Comment the states you like most.\n",
        "\n",
        "**2.** Plot several (say 3) states with high td-error and several states with high values of\n",
        "$$| \\hat V_{Monte-Carlo}(s) - \\hat V_{agent}(s)|,$$ \n",
        "$$\\hat V_{agent}(s)=\\max_a \\hat Q(s,a).$$ Please take those states from different episodes to make sure that the states are really different. From what part (i.e. beginning, middle, end) of an episode did these states come from?\n",
        "\n",
        "Comment the states you like most."
      ]
    },
    {
      "cell_type": "code",
      "metadata": {
        "id": "vF3sCDV0-6fM"
      },
      "source": [
        "from utils import play_and_log_episode, img_by_obs\n",
        "\n",
        "# <YOUR CODE>"
      ],
      "execution_count": null,
      "outputs": []
    },
    {
      "cell_type": "markdown",
      "metadata": {
        "id": "2wmGM1d9-6fM"
      },
      "source": [
        "## Bonus II. Get High Score!\n",
        "\n",
        "One way is to train for several days and use a big GPU (why not actually).\n",
        "\n",
        "Another way is to apply modifications (see **Bonus III**)."
      ]
    },
    {
      "cell_type": "markdown",
      "metadata": {
        "id": "yPkRbgYZ-6fM"
      },
      "source": [
        "## Bonus III. Apply modifications to DQN.\n",
        "\n",
        "For inspiration see [Rainbow](https://arxiv.org/abs/1710.02298) - a version of q-learning that combines lots of them.\n",
        "\n",
        "Some modifications:\n",
        "* [Prioritized experience replay](https://arxiv.org/abs/1511.05952)\n",
        "* [double q-learning](https://arxiv.org/abs/1509.06461)\n",
        "* [dueling q-learning](https://arxiv.org/abs/1511.06581)\n",
        "* multi-step heuristics (see [Rainbow](https://arxiv.org/abs/1710.02298))\n",
        "* [distributional RL](https://arxiv.org/abs/1707.06887)(distributional and distributed stand for different things here) \n",
        "* Other modifications "
      ]
    },
    {
      "cell_type": "markdown",
      "metadata": {
        "id": "rtt4Sq8r-6fN"
      },
      "source": [
        "## Bonus IV. Distributed RL.\n",
        "\n",
        "Solve the task in a distributed way. It can strongly speed up learning. See [article](https://arxiv.org/pdf/1602.01783.pdf) or some guides."
      ]
    },
    {
      "cell_type": "code",
      "metadata": {
        "id": "pgUOZbzP-6fN"
      },
      "source": [
        ""
      ],
      "execution_count": null,
      "outputs": []
    }
  ]
}